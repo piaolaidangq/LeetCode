{
 "cells": [
  {
   "cell_type": "code",
   "execution_count": 1,
   "metadata": {},
   "outputs": [],
   "source": [
    "class Solution:\n",
    "    def maxProfit(self, prices, fee):\n",
    "        if not prices:\n",
    "            return 0\n",
    "        \n",
    "        dp_i_0, dp_i_1 = 0, float('-inf')\n",
    "        for i in range(len(prices)):\n",
    "            dp_i_0 = max(dp_i_0, dp_i_1+prices[i])\n",
    "            dp_i_1 = max(dp_i_1, dp_i_0-prices[i]-fee)\n",
    "        return dp_i_0"
   ]
  },
  {
   "cell_type": "code",
   "execution_count": 2,
   "metadata": {},
   "outputs": [
    {
     "data": {
      "text/plain": [
       "8"
      ]
     },
     "execution_count": 2,
     "metadata": {},
     "output_type": "execute_result"
    }
   ],
   "source": [
    "prices = [1, 3, 2, 8, 4, 9]\n",
    "fee = 2\n",
    "\n",
    "test = Solution()\n",
    "test.maxProfit(prices, fee)"
   ]
  },
  {
   "cell_type": "code",
   "execution_count": null,
   "metadata": {},
   "outputs": [],
   "source": []
  }
 ],
 "metadata": {
  "kernelspec": {
   "display_name": "Python 3",
   "language": "python",
   "name": "python3"
  },
  "language_info": {
   "codemirror_mode": {
    "name": "ipython",
    "version": 3
   },
   "file_extension": ".py",
   "mimetype": "text/x-python",
   "name": "python",
   "nbconvert_exporter": "python",
   "pygments_lexer": "ipython3",
   "version": "3.7.0"
  }
 },
 "nbformat": 4,
 "nbformat_minor": 2
}

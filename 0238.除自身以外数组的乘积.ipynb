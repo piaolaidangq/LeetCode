{
 "cells": [
  {
   "cell_type": "markdown",
   "metadata": {},
   "source": [
    "### 方法1"
   ]
  },
  {
   "cell_type": "code",
   "execution_count": 43,
   "metadata": {},
   "outputs": [],
   "source": [
    "class Solution:\n",
    "    def productExceptSelf(self, nums):\n",
    "        n = len(nums)\n",
    "        res = [1] * n         # 初始化\n",
    "        left = right = 1      # 记录左侧累积和右侧累积\n",
    "        for l, r in zip(range(n), range(n-1, -1, -1)):   # l，左指针；r，右指针\n",
    "            res[l] *= left    # ×左侧累积\n",
    "            left *= nums[l]   # 更新左侧累积\n",
    "            \n",
    "            res[r] *= right   # ×右侧累积\n",
    "            right *= nums[r]  # 更新右侧累积\n",
    "        return res"
   ]
  },
  {
   "cell_type": "code",
   "execution_count": 44,
   "metadata": {},
   "outputs": [
    {
     "data": {
      "text/plain": [
       "[24, 12, 8, 6]"
      ]
     },
     "execution_count": 44,
     "metadata": {},
     "output_type": "execute_result"
    }
   ],
   "source": [
    "test = Solution()\n",
    "nums = [1,2,3,4]\n",
    "test.productExceptSelf(nums)"
   ]
  },
  {
   "cell_type": "markdown",
   "metadata": {},
   "source": [
    "### 方法2"
   ]
  },
  {
   "cell_type": "code",
   "execution_count": 49,
   "metadata": {},
   "outputs": [],
   "source": [
    "class Solution:\n",
    "    def productExceptSelf(self, nums):\n",
    "        n = len(nums)\n",
    "        res = [1] * n            # 初始化\n",
    "        \n",
    "        for i in range(1, n):    # 更新左侧累积\n",
    "            res[i] = res[i-1]*nums[i-1]    \n",
    "        \n",
    "        right = 1                      # 右侧累积\n",
    "        for i in range(n-1, -1, -1):  \n",
    "            res[i] *= right            # ×右侧累积\n",
    "            right *= nums[i]           # 更新右侧累积\n",
    "        return res"
   ]
  },
  {
   "cell_type": "code",
   "execution_count": 48,
   "metadata": {},
   "outputs": [
    {
     "data": {
      "text/plain": [
       "[24, 12, 8, 6]"
      ]
     },
     "execution_count": 48,
     "metadata": {},
     "output_type": "execute_result"
    }
   ],
   "source": [
    "test = Solution()\n",
    "nums = [1,2,3,4]\n",
    "test.productExceptSelf(nums)"
   ]
  },
  {
   "cell_type": "code",
   "execution_count": null,
   "metadata": {},
   "outputs": [],
   "source": []
  }
 ],
 "metadata": {
  "kernelspec": {
   "display_name": "Python 3",
   "language": "python",
   "name": "python3"
  },
  "language_info": {
   "codemirror_mode": {
    "name": "ipython",
    "version": 3
   },
   "file_extension": ".py",
   "mimetype": "text/x-python",
   "name": "python",
   "nbconvert_exporter": "python",
   "pygments_lexer": "ipython3",
   "version": "3.7.0"
  }
 },
 "nbformat": 4,
 "nbformat_minor": 2
}

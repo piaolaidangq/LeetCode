{
 "cells": [
  {
   "cell_type": "code",
   "execution_count": 3,
   "metadata": {},
   "outputs": [],
   "source": [
    "class Solution:\n",
    "    def generateMatrix(self, n):\n",
    "        # 顺时针方向（右下左上）\n",
    "        dx = [0, 1, 0, -1]\n",
    "        dy = [1, 0, -1, 0]\n",
    "        dn = 0                              # 方向指针\n",
    "        \n",
    "        res = [[0]*n for _ in range(n)]    # 初始化\n",
    "        x = y = 0                           # 位置\n",
    "        for i in range(1, n*n+1):\n",
    "            res[x][y] = i\n",
    "\n",
    "            # 下一步位置\n",
    "            temp_x = x + dx[dn]\n",
    "            temp_y = y + dy[dn]\n",
    "            # 判断下一步位置是否合理，若合理则更新位置，若不合理则改变方向并更新位置\n",
    "            if 0<=temp_x<n and 0<=temp_y<n and res[temp_x][temp_y]==0:\n",
    "                x, y = temp_x, temp_y\n",
    "            else:\n",
    "                dn = (dn+1) % 4\n",
    "                x += dx[dn]\n",
    "                y += dy[dn]\n",
    "        return res"
   ]
  },
  {
   "cell_type": "code",
   "execution_count": 4,
   "metadata": {
    "scrolled": true
   },
   "outputs": [
    {
     "data": {
      "text/plain": [
       "[[1, 2, 3], [8, 9, 4], [7, 6, 5]]"
      ]
     },
     "execution_count": 4,
     "metadata": {},
     "output_type": "execute_result"
    }
   ],
   "source": [
    "test = Solution()\n",
    "n = 3\n",
    "test.generateMatrix(n)"
   ]
  },
  {
   "cell_type": "code",
   "execution_count": null,
   "metadata": {},
   "outputs": [],
   "source": []
  },
  {
   "cell_type": "code",
   "execution_count": null,
   "metadata": {},
   "outputs": [],
   "source": []
  }
 ],
 "metadata": {
  "kernelspec": {
   "display_name": "Python 3",
   "language": "python",
   "name": "python3"
  },
  "language_info": {
   "codemirror_mode": {
    "name": "ipython",
    "version": 3
   },
   "file_extension": ".py",
   "mimetype": "text/x-python",
   "name": "python",
   "nbconvert_exporter": "python",
   "pygments_lexer": "ipython3",
   "version": "3.7.0"
  }
 },
 "nbformat": 4,
 "nbformat_minor": 2
}

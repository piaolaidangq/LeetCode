{
 "cells": [
  {
   "cell_type": "code",
   "execution_count": 9,
   "metadata": {},
   "outputs": [],
   "source": [
    "# 递归\n",
    "import numpy as np\n",
    "class Solution:\n",
    "    def permute(self, nums):\n",
    "        result = []\n",
    "        def Permutation(nums, start, end):\n",
    "            if start == end:\n",
    "                result.extend(nums)\n",
    "                return \n",
    "            for i in range(start, end+1):\n",
    "                nums[i], nums[start] = nums[start], nums[i]\n",
    "                Permutation(nums, start+1, end)\n",
    "                nums[i], nums[start] = nums[start], nums[i]\n",
    "                \n",
    "        start = 0\n",
    "        end = len(nums) - 1\n",
    "        Permutation(nums, start, end)\n",
    "        return np.array(result).reshape((-1, end+1))"
   ]
  },
  {
   "cell_type": "code",
   "execution_count": 64,
   "metadata": {},
   "outputs": [],
   "source": [
    "# 空间换时间，由于测试样例中有负数，该方法不适用\n",
    "import numpy as np\n",
    "class Solution:\n",
    "    def permute(self, nums):\n",
    "        result = []\n",
    "        max_num = max(nums)\n",
    "        def Permutation(nums, start, end):\n",
    "            if start == end:\n",
    "                result.extend(nums)\n",
    "            mark = [0] * (max_num + 1)\n",
    "            for i in range(start, end+1):\n",
    "                if mark[nums[i]] == 1:\n",
    "                    continue\n",
    "                mark[nums[i]] = 1\n",
    "                nums[i], nums[start] = nums[start], nums[i]\n",
    "                Permutation(nums, start+1, end)\n",
    "                nums[i], nums[start] = nums[start], nums[i]\n",
    "        start = 0\n",
    "        end = len(nums) - 1\n",
    "        Permutation(nums, start, end)\n",
    "        return np.array(result).reshape((-1, end+1))"
   ]
  },
  {
   "cell_type": "code",
   "execution_count": 88,
   "metadata": {},
   "outputs": [],
   "source": [
    "# 非递归算法\n",
    "import numpy as np\n",
    "class Solution:\n",
    "    def permute(self, nums):\n",
    "        result = []\n",
    "        nums.sort()\n",
    "        size = len(nums)\n",
    "        \n",
    "        result.extend(nums)\n",
    "        find_swap = True\n",
    "        while find_swap:\n",
    "            find_swap = False\n",
    "            for i in range(size-2, -1, -1):      # 从后寻找第一个升序的位置 i, nums[i]<nums[i+1]             \n",
    "                if nums[i] < nums[i+1]:\n",
    "                    find_swap = True\n",
    "                    break\n",
    "            if find_swap:                         # 判断是否存在升序序列\n",
    "                min_ = nums[i+1]\n",
    "                pos = i+1\n",
    "                for j in range(i+2, size):       # 从位置 i 后寻找比 nums[i] 大的最小值的位置，即与其交换的位置\n",
    "                    if nums[j] > nums[i] and nums[j] < min_:\n",
    "                        min_ = nums[j]\n",
    "                        pos = j\n",
    "                nums[i], nums[pos] = nums[pos], nums[i]   # 交换\n",
    "                nums[i+1:] = nums[i+1:][::-1]             # 翻转\n",
    "                result.extend(nums)\n",
    "            else:\n",
    "                break\n",
    "        return np.array(result).reshape((-1, size))"
   ]
  },
  {
   "cell_type": "code",
   "execution_count": 11,
   "metadata": {},
   "outputs": [],
   "source": [
    "# 递归\n",
    "class Solution:\n",
    "    def permute(self, nums):\n",
    "        res = []\n",
    "        self.__dfs(nums, 0, len(nums)-1, res)\n",
    "        return res\n",
    "    def __dfs(self, nums, start, end, res):\n",
    "        if start == end:\n",
    "            res.append(nums[:])\n",
    "            return \n",
    "        for i in range(start, end+1):\n",
    "            nums[start], nums[i] = nums[i], nums[start]\n",
    "            self.__dfs(nums, start+1, end, res)\n",
    "            nums[start], nums[i] = nums[i], nums[start]"
   ]
  },
  {
   "cell_type": "code",
   "execution_count": 12,
   "metadata": {},
   "outputs": [
    {
     "data": {
      "text/plain": [
       "[[1, 2, 3], [1, 3, 2], [2, 1, 3], [2, 3, 1], [3, 2, 1], [3, 1, 2]]"
      ]
     },
     "execution_count": 12,
     "metadata": {},
     "output_type": "execute_result"
    }
   ],
   "source": [
    "test = Solution()\n",
    "# nums1 = [2, 4, 5, 6]\n",
    "nums1 = [1, 2, 3]\n",
    "test.permute(nums1)"
   ]
  },
  {
   "cell_type": "code",
   "execution_count": null,
   "metadata": {},
   "outputs": [],
   "source": []
  },
  {
   "cell_type": "code",
   "execution_count": null,
   "metadata": {},
   "outputs": [],
   "source": []
  },
  {
   "cell_type": "code",
   "execution_count": null,
   "metadata": {},
   "outputs": [],
   "source": []
  }
 ],
 "metadata": {
  "kernelspec": {
   "display_name": "Python 3",
   "language": "python",
   "name": "python3"
  },
  "language_info": {
   "codemirror_mode": {
    "name": "ipython",
    "version": 3
   },
   "file_extension": ".py",
   "mimetype": "text/x-python",
   "name": "python",
   "nbconvert_exporter": "python",
   "pygments_lexer": "ipython3",
   "version": "3.7.0"
  }
 },
 "nbformat": 4,
 "nbformat_minor": 2
}

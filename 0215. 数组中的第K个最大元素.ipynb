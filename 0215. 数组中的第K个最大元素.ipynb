{
 "cells": [
  {
   "cell_type": "code",
   "execution_count": 31,
   "metadata": {},
   "outputs": [],
   "source": [
    "class Solution:\n",
    "    def findKthLargest(self, nums, k):\n",
    "        return sorted(nums)[-k]"
   ]
  },
  {
   "cell_type": "code",
   "execution_count": 29,
   "metadata": {},
   "outputs": [],
   "source": [
    "# 快排\n",
    "class Solution:\n",
    "    def findKthLargest(self, nums, k):\n",
    "        self.alist = nums\n",
    "        self.quick_sort(0, len(nums) - 1)\n",
    "        return self.alist[-k]\n",
    "    \n",
    "    def quick_sort(self, start, end):\n",
    "        # 递归的退出条件\n",
    "        if start >= end:\n",
    "            return\n",
    "        mid_value = self.alist[start]\n",
    "        low = start\n",
    "        high = end\n",
    "\n",
    "        while low < high:\n",
    "            while low < high and self.alist[high] >= mid_value:\n",
    "                high -= 1\n",
    "            self.alist[low] = self.alist[high]\n",
    "\n",
    "            while low < high and self.alist[low] < mid_value:\n",
    "                low += 1\n",
    "            self.alist[high] = self.alist[low]\n",
    "        self.alist[low] = mid_value\n",
    "\n",
    "        self.quick_sort(start, low-1)\n",
    "        self.quick_sort(low+1, end)"
   ]
  },
  {
   "cell_type": "markdown",
   "metadata": {},
   "source": [
    "**分析**：超时"
   ]
  },
  {
   "cell_type": "code",
   "execution_count": 34,
   "metadata": {},
   "outputs": [],
   "source": [
    "import heapq\n",
    "class Solution:\n",
    "    def findKthLargest(self, nums, k):\n",
    "        return heapq.nlargest(k, nums)[-1]"
   ]
  },
  {
   "cell_type": "markdown",
   "metadata": {},
   "source": [
    "**分析**：heapq(堆队列)，堆数据结构\n",
    "* heapq.nlargest(n, iterable[, key])，从迭代器对象iterable中返回前n个最大的元素列表，其中关键字参数key用于匹配是字典对象的iterable，用于更复杂的数据结构中。\n",
    "* heapq.nsmallest(n, iterable[, key])，从迭代器对象iterable中返回前n个最小的元素列表，其中关键字参数key用于匹配是字典对象的iterable，用于更复杂的数据结构中。"
   ]
  },
  {
   "cell_type": "code",
   "execution_count": 42,
   "metadata": {},
   "outputs": [
    {
     "data": {
      "text/plain": [
       "[42, 37, 23]"
      ]
     },
     "execution_count": 42,
     "metadata": {},
     "output_type": "execute_result"
    }
   ],
   "source": [
    "import heapq\n",
    "\n",
    "nums = [1,8,2,23,7,-4,18,23,42,37,2]\n",
    "\n",
    "heapq.nlargest(3, nums)"
   ]
  },
  {
   "cell_type": "code",
   "execution_count": 43,
   "metadata": {},
   "outputs": [
    {
     "data": {
      "text/plain": [
       "[-4, 1, 2]"
      ]
     },
     "execution_count": 43,
     "metadata": {},
     "output_type": "execute_result"
    }
   ],
   "source": [
    "heapq.nsmallest(3, nums)"
   ]
  },
  {
   "cell_type": "code",
   "execution_count": 45,
   "metadata": {},
   "outputs": [
    {
     "data": {
      "text/plain": [
       "[{'name': 'YHOO', 'shares': 45, 'price': 16.35},\n",
       " {'name': 'FB', 'shares': 200, 'price': 21.09},\n",
       " {'name': 'HPQ', 'shares': 35, 'price': 31.75}]"
      ]
     },
     "execution_count": 45,
     "metadata": {},
     "output_type": "execute_result"
    }
   ],
   "source": [
    "portfolio = [\n",
    "     {'name': 'IBM', 'shares': 100, 'price': 91.1},\n",
    "     {'name': 'AAPL', 'shares': 50, 'price': 543.22},\n",
    "     {'name': 'FB', 'shares': 200, 'price': 21.09},\n",
    "     {'name': 'HPQ', 'shares': 35, 'price': 31.75},\n",
    "     {'name': 'YHOO', 'shares': 45, 'price': 16.35},\n",
    "     {'name': 'ACME', 'shares': 75, 'price': 115.65}\n",
    "]\n",
    "\n",
    "cheap = heapq.nsmallest(3, portfolio, key=lambda s: s['price'])\n",
    "cheap"
   ]
  },
  {
   "cell_type": "code",
   "execution_count": 46,
   "metadata": {},
   "outputs": [
    {
     "data": {
      "text/plain": [
       "[{'name': 'AAPL', 'shares': 50, 'price': 543.22},\n",
       " {'name': 'ACME', 'shares': 75, 'price': 115.65},\n",
       " {'name': 'IBM', 'shares': 100, 'price': 91.1}]"
      ]
     },
     "execution_count": 46,
     "metadata": {},
     "output_type": "execute_result"
    }
   ],
   "source": [
    "expensive = heapq.nlargest(3, portfolio, key=lambda s: s['price'])\n",
    "expensive"
   ]
  },
  {
   "cell_type": "markdown",
   "metadata": {},
   "source": [
    "**分析**：key匹配了portfolio中关键字为‘price’的一行"
   ]
  },
  {
   "cell_type": "markdown",
   "metadata": {},
   "source": [
    "1. heapq.heapify(iterable)：可以将一个列表转换成heapq\n",
    "\n",
    "2. 在Top N问题中，如果N=1，则直接用max(iterable)/min(iterable)即可。\n",
    "\n",
    "3. 如果N很大，接近集合元素，则为了提高效率，采用sort+切片的方式会更好，如：\n",
    "\n",
    "  * 求最大的N个元素：sorted(iterable, key=key, reverse=True)[:N]\n",
    "\n",
    "  * 求最小的N个元素：sorted(iterable, key=key)[:N]"
   ]
  },
  {
   "cell_type": "code",
   "execution_count": 48,
   "metadata": {},
   "outputs": [],
   "source": [
    "# 快排选择\n",
    "class Solution:\n",
    "    def findKthLargest(self, nums, k):\n",
    "        self.quick_sort(nums, 0, len(nums)-1, len(nums)-k)\n",
    "        return nums[-k]\n",
    "    \n",
    "    def quick_sort(self, nums, start, end, target):\n",
    "        if start >= end:\n",
    "            return \n",
    "        mid_value = nums[start]\n",
    "        low, hight = start, end\n",
    "        while low < hight:\n",
    "            while low < hight and nums[hight] >= mid_value:\n",
    "                hight -= 1\n",
    "            nums[low] = nums[hight]\n",
    "            \n",
    "            while low < hight and nums[low] < mid_value:\n",
    "                low += 1\n",
    "            nums[hight] = nums[low]\n",
    "        nums[low] = mid_value\n",
    "        if low == target:                  # 若已定位目标位置，则返回\n",
    "            return \n",
    "        elif low > target:                 # 若当前位置大于目标位置，则递归左半边\n",
    "            self.quick_sort(nums, start, low-1, target)\n",
    "        else:                              # 若当前位置小于目标位置，则递归右半边\n",
    "            self.quick_sort(nums, low+1, end, target)"
   ]
  },
  {
   "cell_type": "code",
   "execution_count": 49,
   "metadata": {},
   "outputs": [
    {
     "name": "stdout",
     "output_type": "stream",
     "text": [
      "5\n",
      "4\n"
     ]
    }
   ],
   "source": [
    "test = Solution()\n",
    "nums_li = [[3,2,1,5,6,4], [3,2,3,1,2,4,5,5,6]]\n",
    "k_li = [2, 4]\n",
    "for nums, k in zip(nums_li, k_li):\n",
    "    print(test.findKthLargest(nums, k))"
   ]
  },
  {
   "cell_type": "markdown",
   "metadata": {},
   "source": [
    "5 4"
   ]
  },
  {
   "cell_type": "code",
   "execution_count": null,
   "metadata": {},
   "outputs": [],
   "source": []
  }
 ],
 "metadata": {
  "kernelspec": {
   "display_name": "Python 3",
   "language": "python",
   "name": "python3"
  },
  "language_info": {
   "codemirror_mode": {
    "name": "ipython",
    "version": 3
   },
   "file_extension": ".py",
   "mimetype": "text/x-python",
   "name": "python",
   "nbconvert_exporter": "python",
   "pygments_lexer": "ipython3",
   "version": "3.7.0"
  }
 },
 "nbformat": 4,
 "nbformat_minor": 2
}

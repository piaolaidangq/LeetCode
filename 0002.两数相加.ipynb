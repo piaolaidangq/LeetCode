{
 "cells": [
  {
   "cell_type": "code",
   "execution_count": 3,
   "metadata": {},
   "outputs": [],
   "source": [
    "class ListNode:\n",
    "    def __init__(self, x):\n",
    "        self.val = x\n",
    "        self.next = None\n",
    "\n",
    "class Solution:\n",
    "    def addTwoNumbers(self, l1, l2):\n",
    "        if l1 is None:\n",
    "            return l2\n",
    "        if l2 is None:\n",
    "            return l1\n",
    "        carry = 0    # 进位标记\n",
    "        result = ListNode((l1.val+l2.val+carry) % 10)  # 首位\n",
    "        carry = (l1.val+l2.val+carry)//10              # 首位是否进位\n",
    "        node = result\n",
    "        while l1.next and l2.next:\n",
    "            l1 = l1.next\n",
    "            l2 = l2.next\n",
    "            node.next = ListNode((l1.val+l2.val+carry) % 10)\n",
    "            carry = (l1.val+l2.val+carry)//10\n",
    "            node = node.next\n",
    "        if l1.next:     # 若l1较长\n",
    "            while l1.next:\n",
    "                l1 = l1.next\n",
    "                node.next = ListNode((l1.val+carry)%10)\n",
    "                carry = (l1.val+carry)//10\n",
    "                node = node.next\n",
    "        if l2.next:     # 若l1较长\n",
    "            while l2.next:\n",
    "                l2 = l2.next\n",
    "                node.next = ListNode((l2.val+carry)%10)\n",
    "                carry = (l2.val+carry)//10\n",
    "                node = node.next\n",
    "        if carry == 1:  # 结束时判断是否还有进位\n",
    "            node.next = ListNode(1)\n",
    "        return result"
   ]
  },
  {
   "cell_type": "code",
   "execution_count": 4,
   "metadata": {},
   "outputs": [
    {
     "name": "stdout",
     "output_type": "stream",
     "text": [
      "708\n"
     ]
    }
   ],
   "source": [
    "test = Solution()\n",
    "l1 = ListNode(2)\n",
    "l1.next = ListNode(4)\n",
    "l1.next.next = ListNode(3)\n",
    "l2 = ListNode(5)\n",
    "l2.next = ListNode(6)\n",
    "l2.next.next = ListNode(4)\n",
    "result = test.addTwoNumbers(l1, l2)\n",
    "while result:\n",
    "    print(result.val, end='')\n",
    "    result = result.next\n",
    "print()"
   ]
  },
  {
   "cell_type": "markdown",
   "metadata": {},
   "source": [
    "输入：(2 -> 4 -> 3) + (5 -> 6 -> 4)\n",
    "\n",
    "输出：7 -> 0 -> 8"
   ]
  },
  {
   "cell_type": "markdown",
   "metadata": {},
   "source": [
    "### 第二次"
   ]
  },
  {
   "cell_type": "code",
   "execution_count": 19,
   "metadata": {},
   "outputs": [],
   "source": [
    "class ListNode:\n",
    "    def __init__(self, x):\n",
    "        self.val = x\n",
    "        self.next = None\n",
    "\n",
    "class Solution:\n",
    "    def addTwoNumbers(self, l1, l2):\n",
    "        if not l1: return l2\n",
    "        if not l2: return l1\n",
    "        \n",
    "        res = cur = ListNode(None)\n",
    "        carry = 0                           # 进位符\n",
    "        while l1 or l2:\n",
    "            # 遍历链表，计算当前位数值，移动指针\n",
    "            if not l1:\n",
    "                sum_ = l2.val+carry\n",
    "                l2 = l2.next\n",
    "            elif not l2:\n",
    "                sum_ = l1.val+carry\n",
    "                l1 = l1.next\n",
    "            else:\n",
    "                sum_ = l1.val+l2.val+carry\n",
    "                l1, l2 = l1.next, l2.next\n",
    "            carry = sum_//10                 # 更新进位符\n",
    "            cur.next = ListNode(sum_%10)     # 新建节点值\n",
    "            cur = cur.next \n",
    "        if carry:                            # 若剩余进位符，则添加节点\n",
    "            cur.next = ListNode(carry)\n",
    "        return res.next"
   ]
  },
  {
   "cell_type": "code",
   "execution_count": 20,
   "metadata": {},
   "outputs": [
    {
     "name": "stdout",
     "output_type": "stream",
     "text": [
      "708\n"
     ]
    }
   ],
   "source": [
    "# 构建链表\n",
    "def build_link(nums):\n",
    "    li = cur = ListNode(None)\n",
    "    for i in nums:\n",
    "        cur.next = ListNode(i)\n",
    "        cur = cur.next\n",
    "    return li.next\n",
    "\n",
    "nums1 = [2, 4, 3]\n",
    "nums2 = [5, 6, 4]\n",
    "l1 = build_link(nums1)\n",
    "l2 = build_link(nums2)\n",
    "\n",
    "# 两数相加\n",
    "test = Solution()\n",
    "res = test.addTwoNumbers(l1, l2)\n",
    "# 打印\n",
    "while res:\n",
    "    print(res.val, end='')\n",
    "    res = res.next\n",
    "print()"
   ]
  },
  {
   "cell_type": "code",
   "execution_count": null,
   "metadata": {},
   "outputs": [],
   "source": []
  }
 ],
 "metadata": {
  "kernelspec": {
   "display_name": "Python 3",
   "language": "python",
   "name": "python3"
  },
  "language_info": {
   "codemirror_mode": {
    "name": "ipython",
    "version": 3
   },
   "file_extension": ".py",
   "mimetype": "text/x-python",
   "name": "python",
   "nbconvert_exporter": "python",
   "pygments_lexer": "ipython3",
   "version": "3.7.0"
  }
 },
 "nbformat": 4,
 "nbformat_minor": 2
}

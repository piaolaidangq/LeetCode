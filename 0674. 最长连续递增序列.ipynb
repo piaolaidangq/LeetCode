{
 "cells": [
  {
   "cell_type": "code",
   "execution_count": 3,
   "metadata": {},
   "outputs": [],
   "source": [
    "class Solution:\n",
    "    def findLengthOfLCIS(self, nums):\n",
    "        if nums == []:\n",
    "            return 0\n",
    "        if len(nums) == 1:\n",
    "            return 1\n",
    "        res, i = 1, 0\n",
    "        while i < len(nums):\n",
    "            temp = 1\n",
    "            while i + 1 < len(nums) and nums[i] < nums[i + 1]:\n",
    "                temp += 1\n",
    "                i += 1\n",
    "            res = max(res, temp)\n",
    "            i += 1\n",
    "        return res"
   ]
  },
  {
   "cell_type": "code",
   "execution_count": 4,
   "metadata": {},
   "outputs": [
    {
     "name": "stdout",
     "output_type": "stream",
     "text": [
      "3\n",
      "1\n"
     ]
    }
   ],
   "source": [
    "test = Solution()\n",
    "nums_li = [[1,3,5,4,7], [2,2,2,2,2]]\n",
    "for nums in nums_li:\n",
    "    print(test.findLengthOfLCIS(nums))"
   ]
  },
  {
   "cell_type": "markdown",
   "metadata": {},
   "source": [
    "3 1"
   ]
  },
  {
   "cell_type": "code",
   "execution_count": null,
   "metadata": {},
   "outputs": [],
   "source": []
  }
 ],
 "metadata": {
  "kernelspec": {
   "display_name": "Python 3",
   "language": "python",
   "name": "python3"
  },
  "language_info": {
   "codemirror_mode": {
    "name": "ipython",
    "version": 3
   },
   "file_extension": ".py",
   "mimetype": "text/x-python",
   "name": "python",
   "nbconvert_exporter": "python",
   "pygments_lexer": "ipython3",
   "version": "3.7.0"
  }
 },
 "nbformat": 4,
 "nbformat_minor": 2
}

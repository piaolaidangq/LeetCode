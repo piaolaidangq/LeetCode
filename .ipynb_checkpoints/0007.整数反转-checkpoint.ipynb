{
 "cells": [
  {
   "cell_type": "code",
   "execution_count": 17,
   "metadata": {},
   "outputs": [],
   "source": [
    "class Solution:\n",
    "    def reverse(self, x):\n",
    "        if x == 0:\n",
    "            return 0\n",
    "        while x % 10 == 0:\n",
    "            x //= 10\n",
    "        if x>=0:\n",
    "            result = int(str(x)[::-1])\n",
    "            return result if -2**31<=result<=2**31-1 else 0\n",
    "        else:\n",
    "            result = -int(str(-x)[::-1])\n",
    "            return result if -2**31<=result<=2**31-1 else 0"
   ]
  },
  {
   "cell_type": "code",
   "execution_count": 18,
   "metadata": {},
   "outputs": [
    {
     "data": {
      "text/plain": [
       "321"
      ]
     },
     "execution_count": 18,
     "metadata": {},
     "output_type": "execute_result"
    }
   ],
   "source": [
    "test = Solution()\n",
    "x1 = 123\n",
    "test.reverse(x1)"
   ]
  },
  {
   "cell_type": "code",
   "execution_count": 19,
   "metadata": {},
   "outputs": [
    {
     "data": {
      "text/plain": [
       "-321"
      ]
     },
     "execution_count": 19,
     "metadata": {},
     "output_type": "execute_result"
    }
   ],
   "source": [
    "x2 = -123\n",
    "test.reverse(x2)"
   ]
  },
  {
   "cell_type": "code",
   "execution_count": 20,
   "metadata": {},
   "outputs": [
    {
     "data": {
      "text/plain": [
       "21"
      ]
     },
     "execution_count": 20,
     "metadata": {},
     "output_type": "execute_result"
    }
   ],
   "source": [
    "x3 = 120\n",
    "test.reverse(x3)"
   ]
  },
  {
   "cell_type": "code",
   "execution_count": 21,
   "metadata": {},
   "outputs": [
    {
     "data": {
      "text/plain": [
       "0"
      ]
     },
     "execution_count": 21,
     "metadata": {},
     "output_type": "execute_result"
    }
   ],
   "source": [
    "x4 = 0\n",
    "test.reverse(x4)\n"
   ]
  },
  {
   "cell_type": "markdown",
   "metadata": {},
   "source": [
    "#### 7. 整数反转\n",
    "\n",
    "- 利用字符串反转\n",
    "- 注意边界\n",
    "\n"
   ]
  },
  {
   "cell_type": "code",
   "execution_count": 10,
   "metadata": {},
   "outputs": [],
   "source": [
    "MAX = int((2**31-1)/10)\n",
    "MIN = int((-2**31)/10)\n",
    "class Solution:\n",
    "    def reverse(self, x):\n",
    "        res = 0\n",
    "        while x:\n",
    "            pop = x-int(x/10)*10\n",
    "            x = int(x/10)\n",
    "            if res>MAX or (res==MAX and pop>7):\n",
    "                return 0\n",
    "            if res<MIN or (res==MIN and pop<-8):\n",
    "                return 0\n",
    "            res = res*10+pop\n",
    "        return res"
   ]
  },
  {
   "cell_type": "code",
   "execution_count": 11,
   "metadata": {},
   "outputs": [
    {
     "name": "stdout",
     "output_type": "stream",
     "text": [
      "321\n",
      "-321\n",
      "21\n",
      "0\n"
     ]
    }
   ],
   "source": [
    "test = Solution()\n",
    "x_li = [123,-123,120,0]\n",
    "for x in x_li:\n",
    "    print(test.reverse(x))"
   ]
  },
  {
   "cell_type": "code",
   "execution_count": null,
   "metadata": {},
   "outputs": [],
   "source": []
  }
 ],
 "metadata": {
  "kernelspec": {
   "display_name": "Python 3",
   "language": "python",
   "name": "python3"
  },
  "language_info": {
   "codemirror_mode": {
    "name": "ipython",
    "version": 3
   },
   "file_extension": ".py",
   "mimetype": "text/x-python",
   "name": "python",
   "nbconvert_exporter": "python",
   "pygments_lexer": "ipython3",
   "version": "3.7.0"
  }
 },
 "nbformat": 4,
 "nbformat_minor": 2
}

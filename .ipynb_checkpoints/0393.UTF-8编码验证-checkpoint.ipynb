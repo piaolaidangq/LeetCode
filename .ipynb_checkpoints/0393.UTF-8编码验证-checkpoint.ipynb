{
 "cells": [
  {
   "cell_type": "code",
   "execution_count": 22,
   "metadata": {},
   "outputs": [],
   "source": [
    "class Solution(object):\n",
    "    def validUtf8(self, data):\n",
    "        \"\"\"\n",
    "        :type data: List[int]\n",
    "        :rtype: bool\n",
    "        \"\"\"\n",
    "        if not data:\n",
    "            return None\n",
    "        i, n = 0, len(data)-1\n",
    "        while i <= n:\n",
    "            # 转为2进制（取低位，防止超出255）\n",
    "            data_b = format(data[i], '010b')[-8:]\n",
    "            # 字节数\n",
    "            if data_b[0] == '0':\n",
    "                byte = 1\n",
    "            elif data_b[1] == '0':\n",
    "                return False\n",
    "            else:\n",
    "                byte = 2\n",
    "                for j in range(2, 5):\n",
    "                    if data_b[j] == '1':\n",
    "                        byte += 1\n",
    "                    else:\n",
    "                        break\n",
    "                    if byte > 4:\n",
    "                        return False\n",
    "            # 判断当前UTF-8字符是否符合规则\n",
    "            if byte == 1:\n",
    "                i += 1\n",
    "            else:\n",
    "                for j in range(i+1, i+byte):\n",
    "                    if j > n:\n",
    "                        return False\n",
    "                    data_b = format(data[j], '010b')[-8:]\n",
    "                    if data_b[:2] != '10':\n",
    "                        return False\n",
    "                i += byte    \n",
    "        return True"
   ]
  },
  {
   "cell_type": "code",
   "execution_count": 23,
   "metadata": {},
   "outputs": [
    {
     "name": "stdout",
     "output_type": "stream",
     "text": [
      "True\n",
      "False\n"
     ]
    }
   ],
   "source": [
    "test = Solution()\n",
    "data_li = [[197, 130, 1],\n",
    "           [235, 140, 4]\n",
    "          ]\n",
    "for data in data_li:\n",
    "    print(test.validUtf8(data))\n",
    "# test.validUtf8(data_li[0])"
   ]
  },
  {
   "cell_type": "code",
   "execution_count": null,
   "metadata": {},
   "outputs": [],
   "source": []
  }
 ],
 "metadata": {
  "kernelspec": {
   "display_name": "Python 3",
   "language": "python",
   "name": "python3"
  },
  "language_info": {
   "codemirror_mode": {
    "name": "ipython",
    "version": 3
   },
   "file_extension": ".py",
   "mimetype": "text/x-python",
   "name": "python",
   "nbconvert_exporter": "python",
   "pygments_lexer": "ipython3",
   "version": "3.7.0"
  }
 },
 "nbformat": 4,
 "nbformat_minor": 2
}

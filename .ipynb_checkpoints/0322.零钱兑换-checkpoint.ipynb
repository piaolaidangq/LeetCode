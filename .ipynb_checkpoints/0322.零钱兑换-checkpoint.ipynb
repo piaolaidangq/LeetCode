{
 "cells": [
  {
   "cell_type": "markdown",
   "metadata": {},
   "source": [
    "### 递归（超时）"
   ]
  },
  {
   "cell_type": "code",
   "execution_count": 22,
   "metadata": {},
   "outputs": [],
   "source": [
    "class Solution(object):\n",
    "    def coinChange(self, coins, amount):\n",
    "        if amount == 0:\n",
    "            return 0\n",
    "        res = float('inf')\n",
    "        for coin in coins:\n",
    "            if amount-coin < 0:    # 该硬币无解\n",
    "                continue\n",
    "            sub_count = self.coinChange(coins, amount-coin)\n",
    "            if sub_count == -1:     # 子问题无解\n",
    "                continue\n",
    "            res = min(res, sub_count+1)\n",
    "        return res if res!=float('inf') else -1        "
   ]
  },
  {
   "cell_type": "code",
   "execution_count": 23,
   "metadata": {},
   "outputs": [
    {
     "name": "stdout",
     "output_type": "stream",
     "text": [
      "3\n",
      "-1\n"
     ]
    }
   ],
   "source": [
    "test = Solution()\n",
    "coins_li = [[1,2,5],\n",
    "            [2]\n",
    "           ]\n",
    "amount_li = [11, 3]\n",
    "for coins, amount in zip(coins_li, amount_li):\n",
    "    print(test.coinChange(coins, amount))"
   ]
  },
  {
   "cell_type": "markdown",
   "metadata": {},
   "source": [
    "### 记忆递归"
   ]
  },
  {
   "cell_type": "code",
   "execution_count": 41,
   "metadata": {},
   "outputs": [
    {
     "name": "stdout",
     "output_type": "stream",
     "text": [
      "-4\n"
     ]
    }
   ],
   "source": [
    "#n, m = list(map(int, input().split()))\n",
    "#data = list(map(int, input().split()))\n",
    "#if m == 1:\n",
    "#    print(min(data))\n",
    "#else:\n",
    "n = 5\n",
    "m = 3\n",
    "#data = [1, 2, 3, 4, 5]\n",
    "data = [-2, 1, -1, -1, -1]\n",
    "res = sum(data[:m])\n",
    "dp = [[res] * n for _ in range(n)]\n",
    "for i in range(0, n - m):\n",
    "    dp[i][i + m - 1] = sum(data[i:i + m])\n",
    "    for j in range(i + m , n):\n",
    "        dp[i][j] = dp[i][j - 1] + data[j]\n",
    "        #print(dp[i][j])\n",
    "        res = min(res, dp[i][j])\n",
    "print(res)"
   ]
  },
  {
   "cell_type": "code",
   "execution_count": 24,
   "metadata": {},
   "outputs": [],
   "source": [
    "class Solution(object):\n",
    "    def coinChange(self, coins, amount):\n",
    "        memo = {}\n",
    "        return self.recurve(coins, amount, memo)\n",
    "    \n",
    "    def recurve(self, coins, amount, memo):\n",
    "        if amount == 0:\n",
    "            return 0\n",
    "        if amount in memo:\n",
    "            return memo[amount]        \n",
    "\n",
    "        res = float('inf')\n",
    "        for coin in coins:\n",
    "            if amount-coin < 0:\n",
    "                continue\n",
    "            sub_count = self.recurve(coins, amount-coin, memo)\n",
    "            if sub_count == -1:\n",
    "                continue\n",
    "            res = min(res, sub_count+1)\n",
    "        if res != float('inf'):\n",
    "            memo[amount] = res\n",
    "            return memo[amount]\n",
    "        else:\n",
    "            memo[amount] = -1\n",
    "            return memo[amount]"
   ]
  },
  {
   "cell_type": "code",
   "execution_count": 25,
   "metadata": {},
   "outputs": [
    {
     "name": "stdout",
     "output_type": "stream",
     "text": [
      "3\n",
      "-1\n"
     ]
    }
   ],
   "source": [
    "test = Solution()\n",
    "coins_li = [[1,2,5],\n",
    "            [2]\n",
    "           ]\n",
    "amount_li = [11, 3]\n",
    "for coins, amount in zip(coins_li, amount_li):\n",
    "    print(test.coinChange(coins, amount))"
   ]
  },
  {
   "cell_type": "markdown",
   "metadata": {},
   "source": [
    "### 动态规划"
   ]
  },
  {
   "cell_type": "code",
   "execution_count": 36,
   "metadata": {},
   "outputs": [],
   "source": [
    "class Solution(object):\n",
    "    def coinChange(self, coins, amount):\n",
    "        dp = [float('inf')]*(amount+1)\n",
    "        dp[0] = 0\n",
    "        for i in range(1, amount+1):\n",
    "            for coin in coins:\n",
    "                if coin <= i:\n",
    "                    dp[i] = min(dp[i], dp[i-coin]+1)\n",
    "        if dp[amount] > amount:\n",
    "            return -1\n",
    "        else:\n",
    "            return dp[amount]"
   ]
  },
  {
   "cell_type": "code",
   "execution_count": 37,
   "metadata": {},
   "outputs": [
    {
     "name": "stdout",
     "output_type": "stream",
     "text": [
      "3\n",
      "-1\n"
     ]
    }
   ],
   "source": [
    "test = Solution()\n",
    "coins_li = [[1,2,5],\n",
    "            [2]\n",
    "           ]\n",
    "amount_li = [11, 3]\n",
    "for coins, amount in zip(coins_li, amount_li):\n",
    "    print(test.coinChange(coins, amount))"
   ]
  },
  {
   "cell_type": "code",
   "execution_count": null,
   "metadata": {},
   "outputs": [],
   "source": []
  }
 ],
 "metadata": {
  "kernelspec": {
   "display_name": "Python 3",
   "language": "python",
   "name": "python3"
  },
  "language_info": {
   "codemirror_mode": {
    "name": "ipython",
    "version": 3
   },
   "file_extension": ".py",
   "mimetype": "text/x-python",
   "name": "python",
   "nbconvert_exporter": "python",
   "pygments_lexer": "ipython3",
   "version": "3.7.0"
  }
 },
 "nbformat": 4,
 "nbformat_minor": 2
}

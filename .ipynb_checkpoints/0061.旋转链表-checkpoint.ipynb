{
 "cells": [
  {
   "cell_type": "code",
   "execution_count": 17,
   "metadata": {},
   "outputs": [],
   "source": [
    "class ListNode:\n",
    "    def __init__(self, x):\n",
    "        self.val = x\n",
    "        self.next = None\n",
    "\n",
    "class Solution:\n",
    "    def rotateRight(self, head, k):\n",
    "        if not head:               # 链表空，则返回空\n",
    "            return None           \n",
    "        if not head.next or k==0:\n",
    "            return head            # 链表只有一个节点或旋转次数为0，则返回链表\n",
    "        \n",
    "        # 计算链表长度并寻找尾节点\n",
    "        length = 1                  \n",
    "        tail = head                 \n",
    "        while tail.next:\n",
    "            tail = tail.next\n",
    "            length += 1\n",
    "            \n",
    "        new_k = k%length            # 根据链表长度计算真实需要旋转的次数\n",
    "        if new_k == 0:              # 若为 0，则返回链表\n",
    "            return head\n",
    "        \n",
    "        # 寻找旋转后的断点，该断点为新链表的尾节点，断点下一处节点为新链表的头结点\n",
    "        tail.next = head                 # 连接首尾节点\n",
    "        for _ in range(length-new_k):    # 尾节点移动 length-new_k 步\n",
    "            tail = tail.next\n",
    "        new_head = tail.next             # 断点处下一节点为新链表的头结点\n",
    "        tail.next = None                 # 断点为新链表的尾节点\n",
    "        return new_head                  # 返回新链表头结点"
   ]
  },
  {
   "cell_type": "code",
   "execution_count": 18,
   "metadata": {},
   "outputs": [
    {
     "name": "stdout",
     "output_type": "stream",
     "text": [
      "4 5 1 2 3 \n",
      "2 0 1 \n"
     ]
    }
   ],
   "source": [
    "def build_link(nums):\n",
    "    '''构建链表'''\n",
    "    res = cur = ListNode(None)\n",
    "    for i in nums:\n",
    "        cur.next = ListNode(i)\n",
    "        cur = cur.next\n",
    "    return res.next\n",
    "\n",
    "test = Solution()\n",
    "\n",
    "# 示例1\n",
    "head1, k1 = build_link([1, 2, 3, 4, 5]), 2\n",
    "res1 = test.rotateRight(head1, k1)      # 旋转链表\n",
    "while res1:                             # 打印\n",
    "    print(res1.val, end=' ')\n",
    "    res1 = res1.next\n",
    "print()\n",
    "\n",
    "# 示例2\n",
    "head2, k2 = build_link([0, 1, 2]), 4     \n",
    "res2 = test.rotateRight(head2, k2)       # 旋转链表\n",
    "while res2:                              # 打印\n",
    "    print(res2.val, end=' ')\n",
    "    res2 = res2.next\n",
    "print()"
   ]
  },
  {
   "cell_type": "code",
   "execution_count": null,
   "metadata": {},
   "outputs": [],
   "source": []
  },
  {
   "cell_type": "code",
   "execution_count": null,
   "metadata": {},
   "outputs": [],
   "source": []
  }
 ],
 "metadata": {
  "kernelspec": {
   "display_name": "Python 3",
   "language": "python",
   "name": "python3"
  },
  "language_info": {
   "codemirror_mode": {
    "name": "ipython",
    "version": 3
   },
   "file_extension": ".py",
   "mimetype": "text/x-python",
   "name": "python",
   "nbconvert_exporter": "python",
   "pygments_lexer": "ipython3",
   "version": "3.7.0"
  }
 },
 "nbformat": 4,
 "nbformat_minor": 2
}

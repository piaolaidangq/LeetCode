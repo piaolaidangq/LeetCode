{
 "cells": [
  {
   "cell_type": "code",
   "execution_count": null,
   "metadata": {},
   "outputs": [],
   "source": [
    "class ListNode(object):\n",
    "    def __init__(self, x):\n",
    "        self.val = x\n",
    "        self.next = None\n",
    "\n",
    "class Solution(object):\n",
    "    def mergeKLists(self, lists):\n",
    "        \"\"\"\n",
    "        :type lists: List[ListNode]\n",
    "        :rtype: ListNode\n",
    "        \"\"\"\n",
    "        if not lists:\n",
    "            return None\n",
    "        \n",
    "        res = pre = ListNode(None)\n",
    "        pre.next = lists[0]\n",
    "        for i in range(1, len(lists)):\n",
    "            cur1 = pre.next\n",
    "            cur2 = lists[i]\n",
    "            while cur1 and cur2:\n",
    "                \n",
    "                if cur1.val < cur2.val:\n",
    "                    cur1 = cur1.next\n",
    "                    pre = pre.next\n",
    "                else:\n",
    "                    pre.next = cur2\n",
    "                    cur2 = cur2.next\n",
    "                    pre.next.next = cur1\n",
    "                    pre = pre.next\n",
    "            if cur2:\n",
    "                pre.next = cur2\n",
    "            pre = res            \n",
    "        return res.next"
   ]
  },
  {
   "cell_type": "code",
   "execution_count": null,
   "metadata": {},
   "outputs": [],
   "source": [
    "class ListNode(object):\n",
    "    def __init__(self, x):\n",
    "        self.val = x\n",
    "        self.next = None\n",
    "\n",
    "class Solution(object):\n",
    "    def mergeKLists(self, lists):\n",
    "        \"\"\"\n",
    "        :type lists: List[ListNode]\n",
    "        :rtype: ListNode\n",
    "        \"\"\"\n",
    "        if not lists:\n",
    "            return None\n",
    "        \n",
    "        nums_li = []\n",
    "        for i in range(len(lists)):\n",
    "            cur = lists[i]\n",
    "            while cur:\n",
    "                nums_li.append(cur.val)\n",
    "                cur = cur.next\n",
    "        nums_li.sort()\n",
    "        res = cur = ListNode(None)\n",
    "        for i in nums_li:\n",
    "            cur.next = ListNode(i)\n",
    "            cur = cur.next\n",
    "        return res.next"
   ]
  },
  {
   "cell_type": "code",
   "execution_count": null,
   "metadata": {},
   "outputs": [],
   "source": []
  }
 ],
 "metadata": {
  "kernelspec": {
   "display_name": "Python 3",
   "language": "python",
   "name": "python3"
  },
  "language_info": {
   "codemirror_mode": {
    "name": "ipython",
    "version": 3
   },
   "file_extension": ".py",
   "mimetype": "text/x-python",
   "name": "python",
   "nbconvert_exporter": "python",
   "pygments_lexer": "ipython3",
   "version": "3.7.0"
  }
 },
 "nbformat": 4,
 "nbformat_minor": 2
}

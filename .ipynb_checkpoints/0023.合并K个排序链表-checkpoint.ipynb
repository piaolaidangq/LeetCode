{
 "cells": [
  {
   "cell_type": "code",
   "execution_count": null,
   "metadata": {},
   "outputs": [],
   "source": [
    "class ListNode(object):\n",
    "    def __init__(self, x):\n",
    "        self.val = x\n",
    "        self.next = None\n",
    "\n",
    "class Solution(object):\n",
    "    def mergeKLists(self, lists):\n",
    "        \"\"\"\n",
    "        :type lists: List[ListNode]\n",
    "        :rtype: ListNode\n",
    "        \"\"\"\n",
    "        if not lists:\n",
    "            return None\n",
    "        \n",
    "        res = pre = ListNode(None)\n",
    "        pre.next = lists[0]\n",
    "        for i in range(1, len(lists)):\n",
    "            cur1 = pre.next\n",
    "            cur2 = lists[i]\n",
    "            while cur1 and cur2:\n",
    "                \n",
    "                if cur1.val < cur2.val:\n",
    "                    cur1 = cur1.next\n",
    "                    pre = pre.next\n",
    "                else:\n",
    "                    pre.next = cur2\n",
    "                    cur2 = cur2.next\n",
    "                    pre.next.next = cur1\n",
    "                    pre = pre.next\n",
    "            if cur2:\n",
    "                pre.next = cur2\n",
    "            pre = res            \n",
    "        return res.next"
   ]
  },
  {
   "cell_type": "code",
   "execution_count": null,
   "metadata": {},
   "outputs": [],
   "source": [
    "class ListNode(object):\n",
    "    def __init__(self, x):\n",
    "        self.val = x\n",
    "        self.next = None\n",
    "\n",
    "class Solution(object):\n",
    "    def mergeKLists(self, lists):\n",
    "        \"\"\"\n",
    "        :type lists: List[ListNode]\n",
    "        :rtype: ListNode\n",
    "        \"\"\"\n",
    "        if not lists:\n",
    "            return None\n",
    "        \n",
    "        nums_li = []\n",
    "        for i in range(len(lists)):\n",
    "            cur = lists[i]\n",
    "            while cur:\n",
    "                nums_li.append(cur.val)\n",
    "                cur = cur.next\n",
    "        nums_li.sort()\n",
    "        res = cur = ListNode(None)\n",
    "        for i in nums_li:\n",
    "            cur.next = ListNode(i)\n",
    "            cur = cur.next\n",
    "        return res.next"
   ]
  },
  {
   "cell_type": "markdown",
   "metadata": {},
   "source": [
    "### 第二次"
   ]
  },
  {
   "cell_type": "markdown",
   "metadata": {},
   "source": [
    "#### 分治+两两合并"
   ]
  },
  {
   "cell_type": "code",
   "execution_count": 4,
   "metadata": {},
   "outputs": [],
   "source": [
    "class ListNode:\n",
    "    def __init__(self, x):\n",
    "        self.val = x\n",
    "        self.next = None\n",
    "\n",
    "class Solution:\n",
    "    def mergeKLists(self, lists):\n",
    "        '''合并K个有序链表（分治法）'''\n",
    "        if not lists:\n",
    "            return None\n",
    "        n = len(lists)\n",
    "        interval = 1              # 间隔\n",
    "        while interval < n:     \n",
    "            for i in range(0, n-interval, interval*2):\n",
    "                lists[i] = self.merge2Lists(lists[i], lists[i+interval])\n",
    "            interval *= 2         # 更新间隔\n",
    "        return lists[0]\n",
    "    \n",
    "    def merge2Lists(self, l1, l2):\n",
    "        '''合并两个有序链表'''\n",
    "        res = cur = ListNode(None)\n",
    "        while l1 and l2:\n",
    "            if l1.val < l2.val:\n",
    "                cur.next = l1\n",
    "                l1 = l1.next\n",
    "            else:\n",
    "                cur.next = l2\n",
    "                l2 = l2.next\n",
    "            cur = cur.next\n",
    "        if l1:\n",
    "            cur.next = l1\n",
    "        else:\n",
    "            cur.next = l2\n",
    "        return res.next"
   ]
  },
  {
   "cell_type": "code",
   "execution_count": 5,
   "metadata": {},
   "outputs": [
    {
     "name": "stdout",
     "output_type": "stream",
     "text": [
      "1 1 2 3 4 4 5 6 \n"
     ]
    }
   ],
   "source": [
    "def build_link(nums):\n",
    "    '''创建链表'''\n",
    "    res = cur = ListNode(None)\n",
    "    for i in nums:\n",
    "        cur.next = ListNode(i)\n",
    "        cur = cur.next\n",
    "    return res.next\n",
    "\n",
    "# 创建链表列表\n",
    "nums_li = [[1, 4, 5], [1, 3, 4], [2, 6]]\n",
    "lists = []\n",
    "for i in nums_li:\n",
    "    lists.append(build_link(i))\n",
    "\n",
    "# 合并K个排序链表\n",
    "test = Solution()\n",
    "res = test.mergeKLists(lists)\n",
    "while res:\n",
    "    print(res.val, end=' ')\n",
    "    res = res.next\n",
    "print()"
   ]
  },
  {
   "cell_type": "code",
   "execution_count": null,
   "metadata": {},
   "outputs": [],
   "source": []
  }
 ],
 "metadata": {
  "kernelspec": {
   "display_name": "Python 3",
   "language": "python",
   "name": "python3"
  },
  "language_info": {
   "codemirror_mode": {
    "name": "ipython",
    "version": 3
   },
   "file_extension": ".py",
   "mimetype": "text/x-python",
   "name": "python",
   "nbconvert_exporter": "python",
   "pygments_lexer": "ipython3",
   "version": "3.7.0"
  }
 },
 "nbformat": 4,
 "nbformat_minor": 2
}

{
 "cells": [
  {
   "cell_type": "code",
   "execution_count": 8,
   "metadata": {},
   "outputs": [],
   "source": [
    "# 利用栈\n",
    "from queue import LifoQueue\n",
    "class Solution:\n",
    "    def simplifyPath(self, path: str) -> str:\n",
    "        li = path.split('/')\n",
    "        lq = LifoQueue()                 # 栈\n",
    "        for c in li:\n",
    "            if c == '..':\n",
    "                if not lq.empty():\n",
    "                    lq.get(False)       # 进栈\n",
    "            elif c == '.' or c == '':\n",
    "                continue\n",
    "            else:\n",
    "                lq.put(c, False)        # 出栈\n",
    "        res = []\n",
    "        while not lq.empty():\n",
    "            res.append(lq.get(False))\n",
    "        return '/' + '/'.join(res[::-1])"
   ]
  },
  {
   "cell_type": "code",
   "execution_count": 15,
   "metadata": {},
   "outputs": [],
   "source": [
    "# 利用列表\n",
    "class Solution:\n",
    "    def simplifyPath(self, path: str) -> str:\n",
    "        li = path.split('/')\n",
    "        res = []\n",
    "        for c in li:\n",
    "            if c in {'.', ''}:\n",
    "                continue\n",
    "            elif c == '..':\n",
    "                if res:\n",
    "                    res.pop()\n",
    "            else:\n",
    "                res.append(c)\n",
    "        return '/' + '/'.join(res)"
   ]
  },
  {
   "cell_type": "code",
   "execution_count": 16,
   "metadata": {},
   "outputs": [
    {
     "name": "stdout",
     "output_type": "stream",
     "text": [
      "/home\n",
      "/\n",
      "/home/foo\n",
      "/c\n",
      "/c\n",
      "/a/b/c\n"
     ]
    }
   ],
   "source": [
    "test = Solution()\n",
    "path_li = [\"/home/\", \"/../\", \"/home//foo/\", \"/a/./b/../../c/\", \"/a/../../b/../c//.//\", \"/a//b////c/d//././/..\"]\n",
    "for path in path_li:\n",
    "    print(test.simplifyPath(path))"
   ]
  },
  {
   "cell_type": "markdown",
   "metadata": {},
   "source": [
    "\"/home\"\n",
    "\n",
    "\"/\"\n",
    "\n",
    "\"/home/foo\"\n",
    "\n",
    "\"/c\"\n",
    "\n",
    "\"/c\"\n",
    "\n",
    "\"/a/b/c\""
   ]
  },
  {
   "cell_type": "code",
   "execution_count": null,
   "metadata": {},
   "outputs": [],
   "source": []
  }
 ],
 "metadata": {
  "kernelspec": {
   "display_name": "Python 3",
   "language": "python",
   "name": "python3"
  },
  "language_info": {
   "codemirror_mode": {
    "name": "ipython",
    "version": 3
   },
   "file_extension": ".py",
   "mimetype": "text/x-python",
   "name": "python",
   "nbconvert_exporter": "python",
   "pygments_lexer": "ipython3",
   "version": "3.7.0"
  }
 },
 "nbformat": 4,
 "nbformat_minor": 2
}

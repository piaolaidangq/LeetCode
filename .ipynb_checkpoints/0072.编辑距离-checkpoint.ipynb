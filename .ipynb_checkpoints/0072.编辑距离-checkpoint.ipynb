{
 "cells": [
  {
   "cell_type": "markdown",
   "metadata": {},
   "source": [
    "### 递归（超时）"
   ]
  },
  {
   "cell_type": "code",
   "execution_count": 9,
   "metadata": {},
   "outputs": [],
   "source": [
    "# 递归\n",
    "class Solution:\n",
    "    def minDistance(self, word1, word2):\n",
    "        n1, n2 = len(word1), len(word2)\n",
    "        \n",
    "        def dp(i, j):\n",
    "            if i==-1: return j+1    # word1 遍历完，返回 word2 的长度，即需要添加的步数\n",
    "            if j==-1: return i+1    # word2 遍历完，返回 word1 的长度，即需要删除的步数\n",
    "            \n",
    "            if word1[i] == word2[j]:       # 若字符串对应位置相等，则指针左移，不做操作\n",
    "                return dp(i-1, j-1)\n",
    "            else:                          # 若字符串对应位置不相等，则进行插入、删除、替换操作\n",
    "                return min(\n",
    "                            dp(i, j-1)+1,     # 插入操作\n",
    "                            dp(i-1, j)+1,     # 删除操作\n",
    "                            dp(i-1, j-1)+1    # 替换操作\n",
    "                            )\n",
    "        # 调用递归函数 \n",
    "        return dp(n1-1, n2-1)"
   ]
  },
  {
   "cell_type": "code",
   "execution_count": 10,
   "metadata": {},
   "outputs": [
    {
     "name": "stdout",
     "output_type": "stream",
     "text": [
      "3\n",
      "5\n"
     ]
    }
   ],
   "source": [
    "test = Solution()\n",
    "word1_li = [\"horse\", \"intention\"]\n",
    "word2_li = [\"ros\", \"execution\"]\n",
    "for word1, word2 in zip(word1_li, word2_li):\n",
    "    print(test.minDistance(word1, word2))"
   ]
  },
  {
   "cell_type": "markdown",
   "metadata": {},
   "source": [
    "**分析**：存在重叠子问题\n",
    "\n",
    "**示例**：\n",
    "\n",
    "    目的为 dp[i][j] --> dp[i-1][j-1] 可通过如下 3 种路线到达\n",
    "    1. dp[i][j] --> dp[i-1][j-1]\n",
    "    2. dp[i][j] --> dp[i-1][j] --> dp[i][j-1]\n",
    "    3. dp[i][j] --> dp[i][j-1] --> dp[i-1][j]"
   ]
  },
  {
   "cell_type": "markdown",
   "metadata": {},
   "source": [
    "### 添加记忆的递归"
   ]
  },
  {
   "cell_type": "code",
   "execution_count": 29,
   "metadata": {},
   "outputs": [],
   "source": [
    "# 添加记忆的递归\n",
    "class Solution:\n",
    "    def minDistance(self, word1, word2):\n",
    "        memo = dict()                   # 记忆\n",
    "        def dp_memo(i, j):\n",
    "            if i==-1: \n",
    "                memo[(i, j)] = j+1\n",
    "                return memo[(i, j)]    \n",
    "            if j==-1: \n",
    "                memo[(i, j)] = i+1\n",
    "                return memo[(i, j)]    \n",
    "            \n",
    "            if (i, j) in memo:         # 若该状态存在记忆中，则直接返回\n",
    "                return memo[(i, j)]\n",
    "            \n",
    "            if word1[i] == word2[j]:       \n",
    "                memo[(i, j)] = dp_memo(i-1, j-1)\n",
    "                return memo[(i, j)]\n",
    "            else:                          \n",
    "                memo[(i, j)] = min(dp_memo(i, j-1)+1, dp_memo(i-1, j)+1, dp_memo(i-1, j-1)+1)\n",
    "                return memo[(i, j)] \n",
    "        # 调用添加记忆的递归函数 \n",
    "        return dp_memo(len(word1)-1, len(word2)-1)"
   ]
  },
  {
   "cell_type": "code",
   "execution_count": 30,
   "metadata": {},
   "outputs": [
    {
     "name": "stdout",
     "output_type": "stream",
     "text": [
      "3\n",
      "5\n"
     ]
    }
   ],
   "source": [
    "test = Solution()\n",
    "word1_li = [\"horse\", \"intention\"]\n",
    "word2_li = [\"ros\", \"execution\"]\n",
    "for word1, word2 in zip(word1_li, word2_li):\n",
    "    print(test.minDistance(word1, word2))"
   ]
  },
  {
   "cell_type": "markdown",
   "metadata": {},
   "source": [
    "**分析**：以上字符串指针方向，从尾指针向头指针移动，采用头指针向尾指针移动亦可。"
   ]
  },
  {
   "cell_type": "code",
   "execution_count": 11,
   "metadata": {},
   "outputs": [],
   "source": [
    "# 携带记忆的递归，头指针向尾指针移动\n",
    "class Solution:\n",
    "    def minDistance(self, word1, word2):\n",
    "        memo = dict()                   # 记忆\n",
    "        def dp_memo(i, j):\n",
    "            if i==len(word1): \n",
    "                memo[(i, j)] = len(word2)-j\n",
    "                return memo[(i, j)]    \n",
    "            if j==len(word2): \n",
    "                memo[(i, j)] = len(word1)-i\n",
    "                return memo[(i, j)]    \n",
    "            \n",
    "            if (i, j) in memo:         # 若该状态存在记忆中，则直接返回\n",
    "                return memo[(i, j)]\n",
    "            \n",
    "            if word1[i] == word2[j]:       \n",
    "                memo[(i, j)] = dp_memo(i+1, j+1)\n",
    "                return memo[(i, j)]\n",
    "            else:                          \n",
    "                memo[(i, j)] = min(dp_memo(i, j+1)+1, dp_memo(i+1, j)+1, dp_memo(i+1, j+1)+1)\n",
    "                return memo[(i, j)] \n",
    "        # 调用携带记忆的递归函数 \n",
    "        return dp_memo(0, 0)"
   ]
  },
  {
   "cell_type": "code",
   "execution_count": 12,
   "metadata": {},
   "outputs": [
    {
     "name": "stdout",
     "output_type": "stream",
     "text": [
      "3\n",
      "5\n"
     ]
    }
   ],
   "source": [
    "test = Solution()\n",
    "word1_li = [\"horse\", \"intention\"]\n",
    "word2_li = [\"ros\", \"execution\"]\n",
    "for word1, word2 in zip(word1_li, word2_li):\n",
    "    print(test.minDistance(word1, word2))"
   ]
  },
  {
   "cell_type": "markdown",
   "metadata": {},
   "source": [
    "### 动态规划"
   ]
  },
  {
   "cell_type": "markdown",
   "metadata": {},
   "source": [
    "**分析**：\n",
    "* 从以上的递归算法中，可以推断出状态转移方程：\n",
    "\n",
    "    `dp[i][j] = dp[i-1][j-1] if word1[i] = word2[j]`\n",
    "    \n",
    "    `dp[i][j] = min(dp[i][j-1]+1, dp[i-1][j]+1, dp[i-1][j-1]+1) if word1[i] != word2[j]`"
   ]
  },
  {
   "cell_type": "code",
   "execution_count": 41,
   "metadata": {},
   "outputs": [],
   "source": [
    "# 动态规划\n",
    "class Solution:\n",
    "    def minDistance(self, word1, word2):\n",
    "        n1, n2 = len(word1), len(word2)\n",
    "        # 初始化 dp 数组\n",
    "        dp = [[0]*(n2+1) for _ in range(n1+1)]\n",
    "        for i in range(n1+1):            # 第一列\n",
    "            dp[i][0] = i\n",
    "        for j in range(n2+1):            # 第一行\n",
    "            dp[0][j] = j\n",
    "        # 更新 dp 数组\n",
    "        for i in range(1, n1+1):\n",
    "            for j in range(1, n2+1):\n",
    "                if word1[i-1] == word2[j-1]:\n",
    "                    dp[i][j] = dp[i-1][j-1]\n",
    "                else:\n",
    "                    dp[i][j] = min(dp[i][j-1], dp[i-1][j], dp[i-1][j-1]) + 1\n",
    "        return dp[n1][n2]"
   ]
  },
  {
   "cell_type": "code",
   "execution_count": 42,
   "metadata": {},
   "outputs": [
    {
     "name": "stdout",
     "output_type": "stream",
     "text": [
      "3\n",
      "5\n"
     ]
    }
   ],
   "source": [
    "test = Solution()\n",
    "word1_li = [\"horse\", \"intention\"]\n",
    "word2_li = [\"ros\", \"execution\"]\n",
    "for word1, word2 in zip(word1_li, word2_li):\n",
    "    print(test.minDistance(word1, word2))"
   ]
  },
  {
   "cell_type": "markdown",
   "metadata": {},
   "source": [
    "[以上参考 LeetCode 题解](https://leetcode-cn.com/problems/edit-distance/solution/bian-ji-ju-chi-mian-shi-ti-xiang-jie-by-labuladong/)"
   ]
  },
  {
   "cell_type": "code",
   "execution_count": null,
   "metadata": {},
   "outputs": [],
   "source": []
  },
  {
   "cell_type": "code",
   "execution_count": null,
   "metadata": {},
   "outputs": [],
   "source": []
  }
 ],
 "metadata": {
  "kernelspec": {
   "display_name": "Python 3",
   "language": "python",
   "name": "python3"
  },
  "language_info": {
   "codemirror_mode": {
    "name": "ipython",
    "version": 3
   },
   "file_extension": ".py",
   "mimetype": "text/x-python",
   "name": "python",
   "nbconvert_exporter": "python",
   "pygments_lexer": "ipython3",
   "version": "3.7.0"
  }
 },
 "nbformat": 4,
 "nbformat_minor": 2
}

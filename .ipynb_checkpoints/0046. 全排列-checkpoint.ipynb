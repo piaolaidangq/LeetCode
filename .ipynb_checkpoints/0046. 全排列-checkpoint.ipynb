{
 "cells": [
  {
   "cell_type": "code",
   "execution_count": 47,
   "metadata": {},
   "outputs": [],
   "source": [
    "# 递归\n",
    "import numpy as np\n",
    "class Solution:\n",
    "    def permute(self, nums):\n",
    "        result = []\n",
    "        def Permutation(nums, start, end):\n",
    "            if start == end:\n",
    "                result.extend(nums)\n",
    "                return \n",
    "            for i in range(start, end+1):\n",
    "                nums[i], nums[start] = nums[start], nums[i]\n",
    "                Permutation(nums, start+1, end)\n",
    "                nums[i], nums[start] = nums[start], nums[i]\n",
    "                \n",
    "        start = 0\n",
    "        end = len(nums) - 1\n",
    "        Permutation(nums, start, end)\n",
    "        return np.array(result).reshape((-1, end+1))"
   ]
  },
  {
   "cell_type": "code",
   "execution_count": 64,
   "metadata": {},
   "outputs": [],
   "source": [
    "# 空间换时间，由于测试样例中有负数，该方法不适用\n",
    "import numpy as np\n",
    "class Solution:\n",
    "    def permute(self, nums):\n",
    "        result = []\n",
    "        max_num = max(nums)\n",
    "        def Permutation(nums, start, end):\n",
    "            if start == end:\n",
    "                result.extend(nums)\n",
    "            mark = [0] * (max_num + 1)\n",
    "            for i in range(start, end+1):\n",
    "                if mark[nums[i]] == 1:\n",
    "                    continue\n",
    "                mark[nums[i]] = 1\n",
    "                nums[i], nums[start] = nums[start], nums[i]\n",
    "                Permutation(nums, start+1, end)\n",
    "                nums[i], nums[start] = nums[start], nums[i]\n",
    "        start = 0\n",
    "        end = len(nums) - 1\n",
    "        Permutation(nums, start, end)\n",
    "        return np.array(result).reshape((-1, end+1))"
   ]
  },
  {
   "cell_type": "code",
   "execution_count": 88,
   "metadata": {},
   "outputs": [],
   "source": [
    "# 非递归算法\n",
    "import numpy as np\n",
    "class Solution:\n",
    "    def permute(self, nums):\n",
    "        result = []\n",
    "        nums.sort()\n",
    "        size = len(nums)\n",
    "        \n",
    "        result.extend(nums)\n",
    "        find_swap = True\n",
    "        while find_swap:\n",
    "            find_swap = False\n",
    "            for i in range(size-2, -1, -1):      # 从后寻找第一个升序的位置 i, nums[i]<nums[i+1]             \n",
    "                if nums[i] < nums[i+1]:\n",
    "                    find_swap = True\n",
    "                    break\n",
    "            if find_swap:                         # 判断是否存在升序序列\n",
    "                min_ = nums[i+1]\n",
    "                pos = i+1\n",
    "                for j in range(i+2, size):       # 从位置 i 后寻找比 nums[i] 大的最小值的位置，即与其交换的位置\n",
    "                    if nums[j] > nums[i] and nums[j] < min_:\n",
    "                        min_ = nums[j]\n",
    "                        pos = j\n",
    "                nums[i], nums[pos] = nums[pos], nums[i]   # 交换\n",
    "                nums[i+1:] = nums[i+1:][::-1]             # 翻转\n",
    "                result.extend(nums)\n",
    "            else:\n",
    "                break\n",
    "        return np.array(result).reshape((-1, size))"
   ]
  },
  {
   "cell_type": "code",
   "execution_count": 91,
   "metadata": {},
   "outputs": [
    {
     "data": {
      "text/plain": [
       "array([[1, 2, 3],\n",
       "       [1, 3, 2],\n",
       "       [2, 1, 3],\n",
       "       [2, 3, 1],\n",
       "       [3, 1, 2],\n",
       "       [3, 2, 1]])"
      ]
     },
     "execution_count": 91,
     "metadata": {},
     "output_type": "execute_result"
    }
   ],
   "source": [
    "test = Solution()\n",
    "# nums1 = [2, 4, 5, 6]\n",
    "nums1 = [1, 2, 3]\n",
    "test.permute(nums1)"
   ]
  },
  {
   "cell_type": "code",
   "execution_count": null,
   "metadata": {},
   "outputs": [],
   "source": []
  },
  {
   "cell_type": "code",
   "execution_count": null,
   "metadata": {},
   "outputs": [],
   "source": []
  },
  {
   "cell_type": "code",
   "execution_count": null,
   "metadata": {},
   "outputs": [],
   "source": []
  },
  {
   "cell_type": "code",
   "execution_count": null,
   "metadata": {},
   "outputs": [],
   "source": []
  }
 ],
 "metadata": {
  "kernelspec": {
   "display_name": "Python 3",
   "language": "python",
   "name": "python3"
  },
  "language_info": {
   "codemirror_mode": {
    "name": "ipython",
    "version": 3
   },
   "file_extension": ".py",
   "mimetype": "text/x-python",
   "name": "python",
   "nbconvert_exporter": "python",
   "pygments_lexer": "ipython3",
   "version": "3.7.0"
  }
 },
 "nbformat": 4,
 "nbformat_minor": 2
}

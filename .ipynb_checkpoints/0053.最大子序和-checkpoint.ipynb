{
 "cells": [
  {
   "cell_type": "code",
   "execution_count": 7,
   "metadata": {},
   "outputs": [],
   "source": [
    "class Solution:\n",
    "    def maxSubArray(self, nums):\n",
    "        if not nums:\n",
    "            return None\n",
    "        res = cur = nums[0]\n",
    "        for i in range(1, len(nums)):\n",
    "            if cur < 0:\n",
    "                cur = nums[i]\n",
    "            else:\n",
    "                cur += nums[i]\n",
    "            if cur > res:\n",
    "                res = cur\n",
    "        return res"
   ]
  },
  {
   "cell_type": "code",
   "execution_count": 8,
   "metadata": {},
   "outputs": [
    {
     "data": {
      "text/plain": [
       "6"
      ]
     },
     "execution_count": 8,
     "metadata": {},
     "output_type": "execute_result"
    }
   ],
   "source": [
    "test = Solution()\n",
    "nums = [-2,1,-3,4,-1,2,1,-5,4]\n",
    "test.maxSubArray(nums)"
   ]
  },
  {
   "cell_type": "markdown",
   "metadata": {},
   "source": [
    "输入: [-2,1,-3,4,-1,2,1,-5,4]\n",
    "    \n",
    "输出: 6"
   ]
  },
  {
   "cell_type": "markdown",
   "metadata": {},
   "source": [
    "### 第二次"
   ]
  },
  {
   "cell_type": "code",
   "execution_count": 7,
   "metadata": {},
   "outputs": [],
   "source": [
    "# 动态规划\n",
    "class Solution:\n",
    "    def maxSubArray(self, nums):\n",
    "        if not nums:\n",
    "            return None\n",
    "        \n",
    "        res = cur = nums[0]            # 初始化最大子序和、状态值\n",
    "        for i in range(1, len(nums)):\n",
    "            # 若 cur 大于 0，有助于后序数字和的增加，则更新 cur（叠加当前数字）；\n",
    "            # 若 cur 小于（等于） 0，有损于（无益于）后序数字和的增加，则更新 cur 为当前数字\n",
    "            if cur > 0:                  \n",
    "                cur += nums[i]\n",
    "            else:\n",
    "                cur = nums[i]\n",
    "            res = max(res, cur)         # 更新最大自子和\n",
    "        return res"
   ]
  },
  {
   "cell_type": "code",
   "execution_count": 8,
   "metadata": {},
   "outputs": [
    {
     "data": {
      "text/plain": [
       "6"
      ]
     },
     "execution_count": 8,
     "metadata": {},
     "output_type": "execute_result"
    }
   ],
   "source": [
    "test = Solution()\n",
    "nums = [-2,1,-3,4,-1,2,1,-5,4]\n",
    "test.maxSubArray(nums)"
   ]
  },
  {
   "cell_type": "code",
   "execution_count": 26,
   "metadata": {},
   "outputs": [],
   "source": [
    "# 分治法\n",
    "class Solution:\n",
    "    def maxSubArray(self, nums):\n",
    "        n = len(nums)\n",
    "        if n == 1:             \n",
    "            return nums[0]     # 递归截止\n",
    "        else:\n",
    "            max_left = self.maxSubArray(nums[:n//2])    # 左序列最大子序和\n",
    "            max_right = self.maxSubArray(nums[n//2:])   # 右序列最大子序和\n",
    "        \n",
    "        # 中间序列最大子序和（max_l+max_r）\n",
    "        max_l, cur = nums[n//2-1], 0        # 初始化左中位数为\n",
    "        for i in range(n//-1, -1, -1):\n",
    "            cur += nums[i]\n",
    "            max_l = max(max_l, cur)\n",
    "        max_r, cur = nums[n//2], 0\n",
    "        for i in range(n//2, n):\n",
    "            cur += nums[i]\n",
    "            max_r = max(max_r, cur)\n",
    "        return max(max_left, max_right, max_mid)"
   ]
  },
  {
   "cell_type": "code",
   "execution_count": 27,
   "metadata": {},
   "outputs": [
    {
     "data": {
      "text/plain": [
       "6"
      ]
     },
     "execution_count": 27,
     "metadata": {},
     "output_type": "execute_result"
    }
   ],
   "source": [
    "test = Solution()\n",
    "nums = [-2,1,-3,4,-1,2,1,-5,4]\n",
    "test.maxSubArray(nums)"
   ]
  },
  {
   "cell_type": "code",
   "execution_count": 49,
   "metadata": {},
   "outputs": [],
   "source": [
    "# 分治法\n",
    "class Solution:\n",
    "    def maxSubArray(self, nums):\n",
    "        n, mid = len(nums), len(nums)//2\n",
    "        if n == 1:             \n",
    "            return nums[0]     # 递归截止\n",
    "        else:\n",
    "            max_left = self.maxSubArray(nums[:mid])    # 左序列最大子序和\n",
    "            max_right = self.maxSubArray(nums[mid:])   # 右序列最大子序和\n",
    "        \n",
    "        # 中间序列最大子序和（max_l + max_r）\n",
    "        max_l = cur = nums[mid-1]                     # 初始化左中位数为左侧子序和最大值和状态值\n",
    "        for i in range(mid-2, -1, -1):\n",
    "            cur += nums[i]\n",
    "            max_l = max(max_l, cur)\n",
    "        max_r = cur = nums[mid]                       # 初始化右中位数为右侧子序和最大值和状态值\n",
    "        for i in range(mid+1, n):\n",
    "            cur += nums[i]\n",
    "            max_r = max(max_r, cur)\n",
    "        return max(max_left, max_right, max_l+max_r)"
   ]
  },
  {
   "cell_type": "code",
   "execution_count": 51,
   "metadata": {},
   "outputs": [
    {
     "data": {
      "text/plain": [
       "6"
      ]
     },
     "execution_count": 51,
     "metadata": {},
     "output_type": "execute_result"
    }
   ],
   "source": [
    "test = Solution()\n",
    "nums = [-2,1,-3,4,-1,2,1,-5,4]\n",
    "test.maxSubArray(nums)"
   ]
  },
  {
   "cell_type": "code",
   "execution_count": null,
   "metadata": {},
   "outputs": [],
   "source": []
  },
  {
   "cell_type": "code",
   "execution_count": null,
   "metadata": {},
   "outputs": [],
   "source": []
  }
 ],
 "metadata": {
  "kernelspec": {
   "display_name": "Python 3",
   "language": "python",
   "name": "python3"
  },
  "language_info": {
   "codemirror_mode": {
    "name": "ipython",
    "version": 3
   },
   "file_extension": ".py",
   "mimetype": "text/x-python",
   "name": "python",
   "nbconvert_exporter": "python",
   "pygments_lexer": "ipython3",
   "version": "3.7.0"
  }
 },
 "nbformat": 4,
 "nbformat_minor": 2
}

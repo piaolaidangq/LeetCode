{
 "cells": [
  {
   "cell_type": "markdown",
   "metadata": {},
   "source": [
    "### 递归（超时）"
   ]
  },
  {
   "cell_type": "code",
   "execution_count": 35,
   "metadata": {},
   "outputs": [],
   "source": [
    "class Solution:\n",
    "    def uniquePathsWithObstacles(self, obstacleGrid):\n",
    "        if not obstacleGrid:\n",
    "            return 0\n",
    "        return self.recurve(0, 0, obstacleGrid)\n",
    "    \n",
    "    def recurve(self, x, y, obstacleGrid):\n",
    "        if x==len(obstacleGrid) or y==len(obstacleGrid[0]) or obstacleGrid[x][y]==1:\n",
    "            return 0\n",
    "        if x==len(obstacleGrid)-1 and y==len(obstacleGrid[0])-1 and obstacleGrid[x][y]!=1:\n",
    "            return 1\n",
    "        return self.recurve(x+1, y, obstacleGrid)+self.recurve(x, y+1, obstacleGrid)"
   ]
  },
  {
   "cell_type": "code",
   "execution_count": 36,
   "metadata": {},
   "outputs": [
    {
     "name": "stdout",
     "output_type": "stream",
     "text": [
      "2\n",
      "0\n"
     ]
    }
   ],
   "source": [
    "test = Solution()\n",
    "obstacleGrid_li = [[[0,0,0],\n",
    "                    [0,1,0],\n",
    "                    [0,0,0]],\n",
    "                   [[0,0],\n",
    "                    [1,1],\n",
    "                    [0,0]]\n",
    "                  ]\n",
    "#print(test.uniquePathsWithObstacles(obstacleGrid_li[1]))\n",
    "for obstacleGrid in obstacleGrid_li:\n",
    "    print(test.uniquePathsWithObstacles(obstacleGrid))"
   ]
  },
  {
   "cell_type": "markdown",
   "metadata": {},
   "source": [
    "### 记忆递归"
   ]
  },
  {
   "cell_type": "code",
   "execution_count": 37,
   "metadata": {},
   "outputs": [],
   "source": [
    "class Solution:\n",
    "    def uniquePathsWithObstacles(self, obstacleGrid):\n",
    "        if not obstacleGrid:\n",
    "            return 0\n",
    "        memo = {}\n",
    "        return self.memo_recurve(0, 0, obstacleGrid, memo)\n",
    "    \n",
    "    def memo_recurve(self, x, y, obstacleGrid, memo):\n",
    "        if (x,y) in memo:\n",
    "            return memo[(x,y)]\n",
    "        \n",
    "        if x==len(obstacleGrid) or y==len(obstacleGrid[0]) or obstacleGrid[x][y]==1:\n",
    "            memo[(x,y)] = 0\n",
    "            return memo[(x,y)]\n",
    "        \n",
    "        if x==len(obstacleGrid)-1 and y==len(obstacleGrid[0])-1 and obstacleGrid[x][y]!=1:\n",
    "            memo[(x,y)] = 1\n",
    "            return memo[(x,y)]\n",
    "        \n",
    "        memo[(x,y)] = self.memo_recurve(x+1, y, obstacleGrid, memo)+self.memo_recurve(x, y+1, obstacleGrid, memo)\n",
    "        return memo[(x,y)]"
   ]
  },
  {
   "cell_type": "code",
   "execution_count": 38,
   "metadata": {},
   "outputs": [
    {
     "name": "stdout",
     "output_type": "stream",
     "text": [
      "2\n",
      "0\n"
     ]
    }
   ],
   "source": [
    "test = Solution()\n",
    "obstacleGrid_li = [[[0,0,0],\n",
    "                    [0,1,0],\n",
    "                    [0,0,0]],\n",
    "                   [[0,0],\n",
    "                    [1,1],\n",
    "                    [0,0]]\n",
    "                  ]\n",
    "#print(test.uniquePathsWithObstacles(obstacleGrid_li[1]))\n",
    "for obstacleGrid in obstacleGrid_li:\n",
    "    print(test.uniquePathsWithObstacles(obstacleGrid))"
   ]
  }
 ],
 "metadata": {
  "kernelspec": {
   "display_name": "Python 3",
   "language": "python",
   "name": "python3"
  },
  "language_info": {
   "codemirror_mode": {
    "name": "ipython",
    "version": 3
   },
   "file_extension": ".py",
   "mimetype": "text/x-python",
   "name": "python",
   "nbconvert_exporter": "python",
   "pygments_lexer": "ipython3",
   "version": "3.7.0"
  }
 },
 "nbformat": 4,
 "nbformat_minor": 2
}

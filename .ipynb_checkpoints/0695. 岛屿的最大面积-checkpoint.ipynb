{
 "cells": [
  {
   "cell_type": "code",
   "execution_count": 73,
   "metadata": {},
   "outputs": [],
   "source": [
    "# DFS\n",
    "class Solution:\n",
    "    def maxAreaOfIsland(self, grid):\n",
    "        next_step = [[-1, 0], [0, 1], [1, 0], [0, -1]]  # 方向\n",
    "        res = 0\n",
    "        for i in range(len(grid)):\n",
    "            for j in range(len(grid[0])):\n",
    "                if grid[i][j] == 1:\n",
    "                    self.area = 0                       # 岛屿面积\n",
    "                    self.dfs(grid, next_step, i, j)\n",
    "                    res = max(res, self.area)\n",
    "        return res\n",
    "    \n",
    "    def dfs(self, grid, next_step, i, j):\n",
    "#         if i < 0 or j < 0 or i > len(grid)-1 or j > len(grid[0])-1 or grid[i][j]!=1:\n",
    "#             return \n",
    "#         grid[i][j] = -1\n",
    "#         self.area += 1\n",
    "#         for step in next_step:\n",
    "#             self.dfs(grid, next_step, i+step[0], j+step[1])\n",
    "        if 0 <= i <= len(grid)-1 and 0 <= j <= len(grid[0])-1 and grid[i][j] == 1:\n",
    "            grid[i][j] = -1\n",
    "            self.area += 1\n",
    "            for step in next_step:\n",
    "                self.dfs(grid, next_step, i+step[0], j+step[1])\n",
    "        else:\n",
    "            return "
   ]
  },
  {
   "cell_type": "code",
   "execution_count": 80,
   "metadata": {},
   "outputs": [
    {
     "name": "stdout",
     "output_type": "stream",
     "text": [
      "6\n",
      "4\n"
     ]
    }
   ],
   "source": [
    "test = Solution()\n",
    "grid_li = [\n",
    "[[0,0,1,0,0,0,0,1,0,0,0,0,0],\n",
    " [0,0,0,0,0,0,0,1,1,1,0,0,0],\n",
    " [0,1,1,0,1,0,0,0,0,0,0,0,0],\n",
    " [0,1,0,0,1,1,0,0,1,0,1,0,0],\n",
    " [0,1,0,0,1,1,0,0,1,1,1,0,0],\n",
    " [0,0,0,0,0,0,0,0,0,0,1,0,0],\n",
    " [0,0,0,0,0,0,0,1,1,1,0,0,0],\n",
    " [0,0,0,0,0,0,0,1,1,0,0,0,0]],\n",
    "[[1,1,0,0,0],\n",
    " [1,1,0,0,0],\n",
    " [0,0,0,1,1],\n",
    " [0,0,0,1,1]]\n",
    "]\n",
    "for grid in grid_li:\n",
    "    print(test.maxAreaOfIsland(grid))"
   ]
  },
  {
   "cell_type": "markdown",
   "metadata": {},
   "source": [
    "6 4"
   ]
  },
  {
   "cell_type": "markdown",
   "metadata": {},
   "source": [
    "**分析**：测试样例的岛屿边界未都被水包围"
   ]
  },
  {
   "cell_type": "code",
   "execution_count": null,
   "metadata": {},
   "outputs": [],
   "source": []
  }
 ],
 "metadata": {
  "kernelspec": {
   "display_name": "Python 3",
   "language": "python",
   "name": "python3"
  },
  "language_info": {
   "codemirror_mode": {
    "name": "ipython",
    "version": 3
   },
   "file_extension": ".py",
   "mimetype": "text/x-python",
   "name": "python",
   "nbconvert_exporter": "python",
   "pygments_lexer": "ipython3",
   "version": "3.7.0"
  }
 },
 "nbformat": 4,
 "nbformat_minor": 2
}

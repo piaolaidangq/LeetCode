{
 "cells": [
  {
   "cell_type": "code",
   "execution_count": 13,
   "metadata": {},
   "outputs": [],
   "source": [
    "class Solution:\n",
    "    def maxProfit(self, prices):\n",
    "        n = len(prices)\n",
    "        if n==0 or n==1:\n",
    "            return 0\n",
    "        res = 0\n",
    "        cur = prices[0]\n",
    "        for i in range(1, n):\n",
    "            if prices[i] > cur:\n",
    "                res += prices[i]-cur\n",
    "                cur = prices[i]\n",
    "            else:\n",
    "                cur = prices[i]\n",
    "        return res"
   ]
  },
  {
   "cell_type": "code",
   "execution_count": 14,
   "metadata": {},
   "outputs": [
    {
     "name": "stdout",
     "output_type": "stream",
     "text": [
      "7\n",
      "4\n",
      "0\n"
     ]
    }
   ],
   "source": [
    "test = Solution()\n",
    "prices_li = [[7,1,5,3,6,4],\n",
    "             [1,2,3,4,5],\n",
    "             [7,6,4,3,1]\n",
    "            ]\n",
    "for prices in prices_li:\n",
    "    print(test.maxProfit(prices))"
   ]
  },
  {
   "cell_type": "markdown",
   "metadata": {},
   "source": [
    "输入: [7,1,5,3,6,4]\n",
    "    \n",
    "输出: 7\n",
    "\n",
    "输入: [1,2,3,4,5]\n",
    "    \n",
    "输出: 4\n",
    "\n",
    "输入: [7,6,4,3,1]\n",
    "    \n",
    "输出: 0"
   ]
  },
  {
   "cell_type": "markdown",
   "metadata": {},
   "source": [
    "### 第二次"
   ]
  },
  {
   "cell_type": "code",
   "execution_count": 5,
   "metadata": {},
   "outputs": [],
   "source": [
    "class Solution:\n",
    "    def maxProfit(self, prices):\n",
    "        if not prices:\n",
    "            return 0 \n",
    "        res = 0                                    # 初始化利润\n",
    "        for i in range(len(prices)-1):\n",
    "            res += max(0, prices[i+1]-prices[i])   # 若股票价格上升，则叠加利润\n",
    "        return res"
   ]
  },
  {
   "cell_type": "code",
   "execution_count": 6,
   "metadata": {},
   "outputs": [
    {
     "name": "stdout",
     "output_type": "stream",
     "text": [
      "7\n",
      "4\n",
      "0\n"
     ]
    }
   ],
   "source": [
    "test = Solution()\n",
    "prices_li = [[7,1,5,3,6,4],\n",
    "             [1,2,3,4,5],\n",
    "             [7,6,4,3,1]\n",
    "            ]\n",
    "for prices in prices_li:\n",
    "    print(test.maxProfit(prices))"
   ]
  },
  {
   "cell_type": "markdown",
   "metadata": {},
   "source": [
    "### 动态规划"
   ]
  },
  {
   "cell_type": "code",
   "execution_count": 1,
   "metadata": {},
   "outputs": [],
   "source": [
    "class Solution:\n",
    "    def maxProfit(self, prices):\n",
    "        if not prices:\n",
    "            return 0 \n",
    "        dp_i_0, dp_i_1 = 0, float('-inf') \n",
    "        for i in range(len(prices)):\n",
    "            temp = dp_i_0\n",
    "            dp_i_0 = max(dp_i_0, dp_i_1 + prices[i])\n",
    "            dp_i_1 = max(dp_i_1, temp - prices[i])\n",
    "        return dp_i_0"
   ]
  },
  {
   "cell_type": "code",
   "execution_count": 2,
   "metadata": {},
   "outputs": [
    {
     "name": "stdout",
     "output_type": "stream",
     "text": [
      "7\n",
      "4\n",
      "0\n"
     ]
    }
   ],
   "source": [
    "test = Solution()\n",
    "prices_li = [[7,1,5,3,6,4],\n",
    "             [1,2,3,4,5],\n",
    "             [7,6,4,3,1]\n",
    "            ]\n",
    "for prices in prices_li:\n",
    "    print(test.maxProfit(prices))"
   ]
  },
  {
   "cell_type": "code",
   "execution_count": null,
   "metadata": {},
   "outputs": [],
   "source": []
  }
 ],
 "metadata": {
  "kernelspec": {
   "display_name": "Python 3",
   "language": "python",
   "name": "python3"
  },
  "language_info": {
   "codemirror_mode": {
    "name": "ipython",
    "version": 3
   },
   "file_extension": ".py",
   "mimetype": "text/x-python",
   "name": "python",
   "nbconvert_exporter": "python",
   "pygments_lexer": "ipython3",
   "version": "3.7.0"
  }
 },
 "nbformat": 4,
 "nbformat_minor": 2
}

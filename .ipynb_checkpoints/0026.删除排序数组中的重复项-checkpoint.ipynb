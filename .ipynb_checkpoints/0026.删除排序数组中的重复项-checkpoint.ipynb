{
 "cells": [
  {
   "cell_type": "code",
   "execution_count": 26,
   "metadata": {},
   "outputs": [],
   "source": [
    "class Solution:\n",
    "    def removeDuplicates(self, nums):\n",
    "        if not nums:\n",
    "            return 0\n",
    "        \n",
    "        pos = 1                       # 初始化需要修改的位置\n",
    "        for i in range(1, len(nums)):\n",
    "            if nums[i] != nums[i-1]: # 当前数字不等于前一个数字，则该数字为非重复数字\n",
    "                nums[pos] = nums[i]   \n",
    "                pos += 1\n",
    "        return pos                   # 返回新列表长度"
   ]
  },
  {
   "cell_type": "code",
   "execution_count": 27,
   "metadata": {},
   "outputs": [
    {
     "name": "stdout",
     "output_type": "stream",
     "text": [
      "2\n",
      "5\n",
      "1\n"
     ]
    }
   ],
   "source": [
    "test = Solution()\n",
    "nums_li = [[1,1,2], [0,0,1,1,1,2,2,3,3,4], [1,1]]\n",
    "for nums in nums_li:\n",
    "    print(test.removeDuplicates(nums))"
   ]
  },
  {
   "cell_type": "code",
   "execution_count": null,
   "metadata": {},
   "outputs": [],
   "source": []
  }
 ],
 "metadata": {
  "kernelspec": {
   "display_name": "Python 3",
   "language": "python",
   "name": "python3"
  },
  "language_info": {
   "codemirror_mode": {
    "name": "ipython",
    "version": 3
   },
   "file_extension": ".py",
   "mimetype": "text/x-python",
   "name": "python",
   "nbconvert_exporter": "python",
   "pygments_lexer": "ipython3",
   "version": "3.7.0"
  }
 },
 "nbformat": 4,
 "nbformat_minor": 2
}

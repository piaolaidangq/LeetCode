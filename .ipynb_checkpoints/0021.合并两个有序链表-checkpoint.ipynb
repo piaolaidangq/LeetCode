{
 "cells": [
  {
   "cell_type": "code",
   "execution_count": 1,
   "metadata": {},
   "outputs": [],
   "source": [
    "class ListNode:\n",
    "    def __init__(self, x):\n",
    "        self.val = x\n",
    "        self.next = None\n",
    "\n",
    "class Solution:\n",
    "    def mergeTwoLists(self, l1, l2): \n",
    "        li = ListNode(None)\n",
    "        res = li\n",
    "        while l1 and l2:\n",
    "            if l1.val < l2.val:\n",
    "                li.next = ListNode(l1.val)\n",
    "                l1 = l1.next\n",
    "                li = li.next\n",
    "            else:\n",
    "                li.next = ListNode(l2.val)\n",
    "                l2 = l2.next\n",
    "                li = li.next\n",
    "        if l1:\n",
    "            li.next = l1\n",
    "        else:\n",
    "            li.next = l2\n",
    "        return res.next"
   ]
  },
  {
   "cell_type": "code",
   "execution_count": 3,
   "metadata": {},
   "outputs": [],
   "source": [
    "class ListNode:\n",
    "    def __init__(self, x):\n",
    "        self.val = x\n",
    "        self.next = None\n",
    "\n",
    "class Solution:\n",
    "    def mergeTwoLists(self, l1, l2): \n",
    "        res = ListNode(None)\n",
    "        cur = res\n",
    "        while l1 and l2:\n",
    "            if l1.val < l2.val:\n",
    "                cur.next = ListNode(l1.val)\n",
    "                l1 = l1.next\n",
    "                cur = cur.next\n",
    "            else:\n",
    "                cur.next = ListNode(l2.val)\n",
    "                l2 = l2.next\n",
    "                cur = cur.next\n",
    "        if l1:\n",
    "            cur.next = l1\n",
    "        else:\n",
    "            cur.next = l2\n",
    "        return res.next"
   ]
  },
  {
   "cell_type": "code",
   "execution_count": 4,
   "metadata": {},
   "outputs": [
    {
     "name": "stdout",
     "output_type": "stream",
     "text": [
      "1 1 2 3 4 4 "
     ]
    }
   ],
   "source": [
    "l1 = ListNode(1)\n",
    "l1.next = ListNode(2)\n",
    "l1.next.next = ListNode(4)\n",
    "\n",
    "l2 = ListNode(1)\n",
    "l2.next = ListNode(3)\n",
    "l2.next.next = ListNode(4)\n",
    "\n",
    "test = Solution()\n",
    "res = test.mergeTwoLists(l1, l2)\n",
    "while res:\n",
    "    print(res.val, end=' ')\n",
    "    res = res.next"
   ]
  },
  {
   "cell_type": "markdown",
   "metadata": {},
   "source": [
    "1->1->2->3->4->4"
   ]
  },
  {
   "cell_type": "markdown",
   "metadata": {},
   "source": [
    "### 第二次"
   ]
  },
  {
   "cell_type": "code",
   "execution_count": 5,
   "metadata": {},
   "outputs": [],
   "source": [
    "class ListNode:\n",
    "    def __init__(self, x):\n",
    "        self.val = x\n",
    "        self.next = None\n",
    "\n",
    "# 迭代\n",
    "class Solution:\n",
    "    def mergeTwoLists(self, l1, l2):\n",
    "        if not l1: return l2\n",
    "        if not l2: return l1\n",
    "        \n",
    "        res = cur = ListNode(None)     # 创建新链表\n",
    "        while l1 and l2:\n",
    "            # 指向较小值节点\n",
    "            if l1.val < l2.val:\n",
    "                cur.next = l1\n",
    "                l1 = l1.next\n",
    "            else:\n",
    "                cur.next = l2\n",
    "                l2 = l2.next\n",
    "            cur = cur.next\n",
    "        # 指向剩余链表\n",
    "        if l1:\n",
    "            cur.next = l1\n",
    "        else:\n",
    "            cur.next = l2\n",
    "        return res.next"
   ]
  },
  {
   "cell_type": "code",
   "execution_count": 6,
   "metadata": {},
   "outputs": [
    {
     "name": "stdout",
     "output_type": "stream",
     "text": [
      "1 1 2 3 4 4 \n"
     ]
    }
   ],
   "source": [
    "# 创建链表\n",
    "def build_link(nums):\n",
    "    li = cur = ListNode(None)\n",
    "    for i in nums:\n",
    "        cur.next = ListNode(i)\n",
    "        cur = cur.next\n",
    "    return li.next\n",
    "\n",
    "nums1 = [1, 2, 4]\n",
    "nums2 = [1, 3, 4]\n",
    "l1 = build_link(nums1)\n",
    "l2 = build_link(nums2)\n",
    "\n",
    "\n",
    "# 合并两个有序链表\n",
    "test = Solution()\n",
    "res = test.mergeTwoLists(l1, l2)\n",
    "# 打印\n",
    "while res:\n",
    "    print(res.val, end=' ')\n",
    "    res = res.next\n",
    "print()"
   ]
  },
  {
   "cell_type": "markdown",
   "metadata": {},
   "source": [
    "### 递归"
   ]
  },
  {
   "cell_type": "code",
   "execution_count": 13,
   "metadata": {},
   "outputs": [],
   "source": [
    "class ListNode:\n",
    "    def __init__(self, x):\n",
    "        self.val = x\n",
    "        self.next = None\n",
    "\n",
    "# 递归\n",
    "class Solution:\n",
    "    def mergeTwoLists(self, l1, l2):\n",
    "        if not l1:      \n",
    "            return l2    # 递归截止\n",
    "        elif not l2:\n",
    "            return l1    # 递归截止\n",
    "        elif l1.val < l2.val:    # l1.val 较小时，指向 l1（返回 l1），并往下递归 l1.next\n",
    "            l1.next = self.mergeTwoLists(l1.next, l2)   \n",
    "            return l1\n",
    "        else:                    # l2.val 较小时，指向 l2（返回 l2），并往下递归 l2.next\n",
    "            l2.next = self.mergeTwoLists(l1, l2.next)\n",
    "            return l2"
   ]
  },
  {
   "cell_type": "code",
   "execution_count": 14,
   "metadata": {},
   "outputs": [
    {
     "name": "stdout",
     "output_type": "stream",
     "text": [
      "1 1 2 3 4 4 \n"
     ]
    }
   ],
   "source": [
    "# 创建链表\n",
    "def build_link(nums):\n",
    "    li = cur = ListNode(None)\n",
    "    for i in nums:\n",
    "        cur.next = ListNode(i)\n",
    "        cur = cur.next\n",
    "    return li.next\n",
    "\n",
    "nums1 = [1, 2, 4]\n",
    "nums2 = [1, 3, 4]\n",
    "l1 = build_link(nums1)\n",
    "l2 = build_link(nums2)\n",
    "\n",
    "\n",
    "# 合并两个有序链表\n",
    "test = Solution()\n",
    "res = test.mergeTwoLists(l1, l2)\n",
    "# 打印\n",
    "while res:\n",
    "    print(res.val, end=' ')\n",
    "    res = res.next\n",
    "print()"
   ]
  },
  {
   "cell_type": "code",
   "execution_count": null,
   "metadata": {},
   "outputs": [],
   "source": []
  },
  {
   "cell_type": "code",
   "execution_count": null,
   "metadata": {},
   "outputs": [],
   "source": []
  }
 ],
 "metadata": {
  "kernelspec": {
   "display_name": "Python 3",
   "language": "python",
   "name": "python3"
  },
  "language_info": {
   "codemirror_mode": {
    "name": "ipython",
    "version": 3
   },
   "file_extension": ".py",
   "mimetype": "text/x-python",
   "name": "python",
   "nbconvert_exporter": "python",
   "pygments_lexer": "ipython3",
   "version": "3.7.0"
  }
 },
 "nbformat": 4,
 "nbformat_minor": 2
}

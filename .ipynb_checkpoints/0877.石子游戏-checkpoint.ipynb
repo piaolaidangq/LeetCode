{
 "cells": [
  {
   "cell_type": "code",
   "execution_count": 5,
   "metadata": {},
   "outputs": [],
   "source": [
    "class Solution:\n",
    "    def stoneGame(self, piles):\n",
    "        n = len(piles)\n",
    "        dp = [[0]*n for _ in range(n)]\n",
    "        for i in range(n):\n",
    "            dp[i][i] = piles[i]\n",
    "        for i in range(n-1, -1, -1):\n",
    "            for j in range(i+1, n):\n",
    "                dp[i][j] = max(piles[i]-dp[i+1][j], piles[j]-dp[i][j-1])\n",
    "        return dp[0][n-1]>=0"
   ]
  },
  {
   "cell_type": "code",
   "execution_count": 6,
   "metadata": {},
   "outputs": [
    {
     "data": {
      "text/plain": [
       "True"
      ]
     },
     "execution_count": 6,
     "metadata": {},
     "output_type": "execute_result"
    }
   ],
   "source": [
    "test = Solution()\n",
    "piles = [5,3,4,5]\n",
    "test.stoneGame(piles)"
   ]
  },
  {
   "cell_type": "code",
   "execution_count": 9,
   "metadata": {},
   "outputs": [],
   "source": [
    "class Solution:\n",
    "    def stoneGame(self, piles):\n",
    "        n = len(piles)\n",
    "        dp = [[0]*n for _ in range(n)]\n",
    "        for i in range(n-1, -1, -1):\n",
    "            for j in range(i, n):\n",
    "                if i==j:\n",
    "                    dp[i][j] = piles[i]\n",
    "                else:\n",
    "                    dp[i][j] = max(piles[i]-dp[i+1][j], piles[j]-dp[i][j-1])\n",
    "        return dp[0][n-1]>=0"
   ]
  },
  {
   "cell_type": "code",
   "execution_count": 10,
   "metadata": {},
   "outputs": [
    {
     "data": {
      "text/plain": [
       "True"
      ]
     },
     "execution_count": 10,
     "metadata": {},
     "output_type": "execute_result"
    }
   ],
   "source": [
    "test = Solution()\n",
    "piles = [5,3,4,5]\n",
    "test.stoneGame(piles)"
   ]
  },
  {
   "cell_type": "markdown",
   "metadata": {},
   "source": [
    "### 一个解释性高的动态规划方案"
   ]
  },
  {
   "cell_type": "code",
   "execution_count": 30,
   "metadata": {},
   "outputs": [],
   "source": [
    "class Solution:\n",
    "    def stoneGame(self, piles):\n",
    "        n = len(piles)\n",
    "        # 初始化先后手 dp，dp]i][j] 中保存先后手在序列 i~j 上的最大收益\n",
    "        # 序列为单个石子堆时，即 i=j，则先手收益为 piles[i]，后手收益为 0\n",
    "        dp_fir = [[0]*n for _ in range(n)]   \n",
    "        dp_sec = [[0]*n for _ in range(n)]   \n",
    "        for i in range(n):\n",
    "            dp_fir[i][i] = piles[i] \n",
    "        # 由动态转移方程可知，动态规划由下往上，由左往右遍历\n",
    "        for i in range(n-1, -1, -1):\n",
    "            for j in range(i+1, n):\n",
    "                left = piles[i]+dp_sec[i+1][j]      # 先手面对 i~j，选 piles[i] 时，则在 i+1~j 上，他为后手，因此他的收益为 piles[i] + dp_sec[i+1][j]\n",
    "                right = piles[j]+dp_sec[i][j-1]     # 先手面对 i~j，选 piles[j] 时，则在 i~j-1 上，他为后手，因此他的收益为 piles[j] + dp_sec[i][j-1]\n",
    "                if left > right: \n",
    "                    dp_fir[i][j] = left             # 先手选 left（i）\n",
    "                    dp_sec[i][j] = dp_fir[i+1][j]   # 先手选了 piles[i]，剩下 i+1~j 轮到后手选，此时，后手变成 i~j-1 上的先手\n",
    "                else:\n",
    "                    dp_fir[i][j] = right            # 先手选 right（j） \n",
    "                    dp_sec[i][j] = dp_fir[i][j-1]   # 先手选了 piles[j]，剩下 i~j-1 轮到后手选，此时，后手变成 i~j-1 上的先手\n",
    "        return dp_fir[0][n-1] >= dp_sec[0][n-1]"
   ]
  },
  {
   "cell_type": "code",
   "execution_count": 31,
   "metadata": {},
   "outputs": [
    {
     "data": {
      "text/plain": [
       "True"
      ]
     },
     "execution_count": 31,
     "metadata": {},
     "output_type": "execute_result"
    }
   ],
   "source": [
    "test = Solution()\n",
    "piles = [5,3,4,5]\n",
    "test.stoneGame(piles)"
   ]
  },
  {
   "cell_type": "markdown",
   "metadata": {},
   "source": [
    "[该方法参考 LeetCode 题解](https://leetcode-cn.com/problems/stone-game/solution/jie-jue-bo-yi-wen-ti-de-dong-tai-gui-hua-tong-yong/)"
   ]
  },
  {
   "cell_type": "markdown",
   "metadata": {},
   "source": [
    "### 致幻方案"
   ]
  },
  {
   "cell_type": "code",
   "execution_count": 11,
   "metadata": {},
   "outputs": [],
   "source": [
    "class Solution:\n",
    "    def stoneGame(self, piles):\n",
    "        return True"
   ]
  }
 ],
 "metadata": {
  "kernelspec": {
   "display_name": "Python 3",
   "language": "python",
   "name": "python3"
  },
  "language_info": {
   "codemirror_mode": {
    "name": "ipython",
    "version": 3
   },
   "file_extension": ".py",
   "mimetype": "text/x-python",
   "name": "python",
   "nbconvert_exporter": "python",
   "pygments_lexer": "ipython3",
   "version": "3.7.0"
  }
 },
 "nbformat": 4,
 "nbformat_minor": 2
}

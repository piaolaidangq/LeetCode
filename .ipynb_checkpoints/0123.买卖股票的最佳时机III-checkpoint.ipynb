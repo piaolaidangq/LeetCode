{
 "cells": [
  {
   "cell_type": "markdown",
   "metadata": {},
   "source": [
    "### 简单动态规划（超时）\n",
    "* 第一层动态规划（最多一次交易）：\n",
    "    * dp[i] = max(dp[i-1], dp[i] - dp[j])，0<=j<=i\n",
    "        * 第 i 天的最大收益 = max（第 i-1 天的最大收益，第 j 天（遍历）买入第 i 天卖出的最大收益）\n",
    "        * 若为第一种情况，表示未进行交易\n",
    "        * 若为第二种情况，表示进行交易且收益大于前一天的最大收益\n",
    "* 第二层动态对话（最多两次交易）：\n",
    "    * 第二层动态规划需要在第一层动态规划的基础上进行，即上一层动态规划的值为 dp[1][:]（dp[0][:]=0，为占位符，方便计算）\n",
    "    * 初始化，dp[2][i] = max(dp[2][i-1], prices[i]-prices[0])\n",
    "        * 第一种情况，表示并未进行交易，初始最大值为前一天的最大值\n",
    "        * 第二种情况，表示第 0 天买入，第 i 天卖出的收益，且大于前一天的最大收益\n",
    "    * 遍历第 j 天买入第 i 天卖出的收益，进一步确定 dp[2][i] 的最大值，dp[2][i] = max(dp[2][i], dp[1][j-1]+prices[i]-prices[j])\n",
    "        * 第一种情况，表示未进行交易\n",
    "        * 第二种情况，表示第 j 天买入第 i 天卖出的收益且加上第一层动态规划的第 j-1 天的最大收益（要求第二次交易必须在第一次交易之后）"
   ]
  },
  {
   "cell_type": "code",
   "execution_count": 57,
   "metadata": {},
   "outputs": [],
   "source": [
    "class Solution:\n",
    "    def maxProfit(self, prices):\n",
    "        if not prices:\n",
    "            return 0\n",
    "        n = len(prices)\n",
    "        dp = [[0]*n for _ in range(3)]\n",
    "        for k in range(1, 3):\n",
    "            for i in range(1, n):\n",
    "                # 第一层动态对话，初始化第二层动态规划\n",
    "                dp[k][i] = max(dp[k][i-1], prices[i]-prices[0])  \n",
    "                for j in range(1, i+1):\n",
    "                    # 第二层动态规划\n",
    "                    dp[k][i] = max(dp[k][i], dp[k-1][j-1]+prices[i]-prices[j])\n",
    "        return dp[-1][-1]"
   ]
  },
  {
   "cell_type": "code",
   "execution_count": 58,
   "metadata": {},
   "outputs": [
    {
     "name": "stdout",
     "output_type": "stream",
     "text": [
      "6\n",
      "4\n"
     ]
    }
   ],
   "source": [
    "test = Solution()\n",
    "prices_li = [[3,3,5,0,0,3,1,4], [1,2,3,4,5]]\n",
    "for prices in prices_li:\n",
    "    print(test.maxProfit(prices))"
   ]
  },
  {
   "cell_type": "markdown",
   "metadata": {},
   "source": [
    "### 优化上一种方案（超时）\n",
    "* 先求 dp[k-1][j-1]-prices[j] 最大值, 再求 prices[i] 的最大值\n",
    "\n",
    "（意义不大，但有助于下一个方案的理解）"
   ]
  },
  {
   "cell_type": "code",
   "execution_count": 61,
   "metadata": {},
   "outputs": [],
   "source": [
    "class Solution:\n",
    "    def maxProfit(self, prices):\n",
    "        if not prices: return 0\n",
    "        n = len(prices)\n",
    "        dp = [[0] * n for _ in range(3)]\n",
    "        for k in range(1, 3):\n",
    "            for i in range(1, n):\n",
    "                pre_max = -prices[0]\n",
    "                for j in range(1, i + 1):\n",
    "                    pre_max = max(pre_max, dp[k - 1][j - 1] - prices[j])\n",
    "                dp[k][i] = max(dp[k][i - 1], prices[i] + pre_max)\n",
    "        return dp[-1][-1]"
   ]
  },
  {
   "cell_type": "code",
   "execution_count": 62,
   "metadata": {},
   "outputs": [
    {
     "name": "stdout",
     "output_type": "stream",
     "text": [
      "6\n",
      "4\n"
     ]
    }
   ],
   "source": [
    "test = Solution()\n",
    "prices_li = [[3,3,5,0,0,3,1,4], [1,2,3,4,5]]\n",
    "for prices in prices_li:\n",
    "    print(test.maxProfit(prices))"
   ]
  },
  {
   "cell_type": "markdown",
   "metadata": {},
   "source": [
    "### 致幻方案\n",
    "\n",
    "#### 观察上一方案中的 i 循环和 j 循环：\n",
    "* 本质上更新 dp[k][i]，而每次寻找 pre_max 最大值都是遍历区间 [1, i]，因此 j 循环与 i 循环是重叠的，可以同步更新 pre_max 和 dp[k][i]。\n",
    "\n",
    "（该方案可通过所有测试样例，但不好理解（大佬除外））"
   ]
  },
  {
   "cell_type": "code",
   "execution_count": 87,
   "metadata": {},
   "outputs": [],
   "source": [
    "class Solution:\n",
    "    def maxProfit(self, prices):\n",
    "        if not prices: return 0\n",
    "        n = len(prices)\n",
    "        dp = [[0] * n for _ in range(3)]\n",
    "        for k in range(1, 3):\n",
    "            pre_max = -prices[0]             \n",
    "            for i in range(1, n):                                   \n",
    "                pre_max = max(pre_max, dp[k - 1][i - 1] - prices[i])    \n",
    "                dp[k][i] = max(dp[k][i - 1], prices[i] + pre_max)       \n",
    "        return dp[-1][-1]"
   ]
  },
  {
   "cell_type": "code",
   "execution_count": 88,
   "metadata": {},
   "outputs": [
    {
     "name": "stdout",
     "output_type": "stream",
     "text": [
      "6\n",
      "4\n"
     ]
    }
   ],
   "source": [
    "test = Solution()\n",
    "prices_li = [[3,3,5,0,0,3,1,4], [1,2,3,4,5]]\n",
    "for prices in prices_li:\n",
    "    print(test.maxProfit(prices))"
   ]
  },
  {
   "cell_type": "markdown",
   "metadata": {},
   "source": [
    "### 优化可读性方案\n",
    "\n",
    "#### 最多一次交易的动态规划：\n",
    "* dp[i] = max(dp[i-1], dp[i] - dp[j])，0<=j<=i\n",
    "* 第 i 天的最大收益 = max（第 i-1 天的收益，第 j 天买入第 i 天卖出的收益）\n",
    "    * 若为第一种情况，表示未进行交易\n",
    "    * 若为第二种情况，表示进行交易且收益大于前一天的最大收益；dp[j] 为第 i 天之前的最低股票值。\n",
    "    \n",
    "#### 最多两次交易的动态规划：\n",
    "* dp[t][i] = max(dp[t][i-1], prices[i]-min_p)\n",
    "* 第 t 次交易第 i 天的最大收益 = max（第 t 次交易第 i-1 天的收益，第 i 天卖出的股票收益-第 i 天之前的最小负收益）\n",
    "* 考虑最多一次交易的动态规划中 dp[j] 为第 i 天之前买入股票的最低值，即最小值，则 min_p 也为第 i 天之前的最小值，但要加入之前交易次数的影响。由于买入股票为负收益，而第 i-1 天的上次交易后的最大收益为 dp[t-1][i-1]，因此最小值 min(min_p, prices[i]-dp[t-1][i-1])。\n",
    "* 由于 min_p 为第 i 天之前的最小值，则可通过一次遍历，同步计算 min_p 和 dp[t][i]。"
   ]
  },
  {
   "cell_type": "code",
   "execution_count": 89,
   "metadata": {},
   "outputs": [],
   "source": [
    "class Solution:\n",
    "    def maxProfit(self, prices):\n",
    "        if not prices:\n",
    "            return 0\n",
    "        n = len(prices)\n",
    "        dp = [[0]*n for _ in range(3)]\n",
    "        for t in range(1, 3):\n",
    "            min_p = prices[0]              # 初始化最小负收益，即买入初始股票\n",
    "            for i in range(1, n):\n",
    "                min_p = min(min_p, prices[i]-dp[t-1][i-1])     # 更新最小负收益 \n",
    "                dp[t][i] = max(dp[t][i-1], prices[i]-min_p)    # 更新当前交易次数下第 i 天的最大收益\n",
    "        return dp[-1][-1]"
   ]
  },
  {
   "cell_type": "code",
   "execution_count": 90,
   "metadata": {},
   "outputs": [
    {
     "name": "stdout",
     "output_type": "stream",
     "text": [
      "6\n",
      "4\n"
     ]
    }
   ],
   "source": [
    "test = Solution()\n",
    "prices_li = [[3,3,5,0,0,3,1,4], [1,2,3,4,5]]\n",
    "for prices in prices_li:\n",
    "    print(test.maxProfit(prices))"
   ]
  },
  {
   "cell_type": "markdown",
   "metadata": {},
   "source": [
    "这时候返回去再想致幻方案应该有好理解一些了"
   ]
  },
  {
   "cell_type": "code",
   "execution_count": null,
   "metadata": {},
   "outputs": [],
   "source": []
  },
  {
   "cell_type": "markdown",
   "metadata": {},
   "source": [
    "## 动态规划思路"
   ]
  },
  {
   "cell_type": "code",
   "execution_count": null,
   "metadata": {},
   "outputs": [],
   "source": [
    "for 状态1 in 状态1的所有取值：\n",
    "    for 状态2 in 状态2的所有取值：\n",
    "        for ...\n",
    "            dp[状态1][状态2][...] = 择优(选择1，选择2...)"
   ]
  },
  {
   "cell_type": "markdown",
   "metadata": {},
   "source": [
    "### 分析\n",
    "#### 每天三种「选择」：\n",
    "* 买入 buy\n",
    "* 卖出 sell\n",
    "* 无操作 rest\n",
    "\n",
    "#### 情况：\n",
    "* sell 在 buy 之后\n",
    "* buy 在 sell 之后\n",
    "* rest 操作\n",
    "    * buy 之后 restrest（持有了股票）\n",
    "    * sell 之后的 rest（没有持有股票）\n",
    "* 交易次数 k 限制，即 buy 在 k > 0 的前提下操作"
   ]
  },
  {
   "cell_type": "markdown",
   "metadata": {},
   "source": [
    "### 步骤1：穷举\n",
    "#### 状态\n",
    "* 天数\n",
    "* 交易次数\n",
    "* 持有状态（1 表示持有，0 表示未持有）\n",
    "#### 则 `dp[i][k][0 or 1]`，`n` 为天数，`K` 为最多交易数，该问题有 `n × K × 2` 种状态"
   ]
  },
  {
   "cell_type": "code",
   "execution_count": null,
   "metadata": {},
   "outputs": [],
   "source": [
    "for 0 <= i < n:\n",
    "    for 1 <= k <= K:\n",
    "        for s in {0, 1}:\n",
    "            dp[i][k][s] = max(buy, sell, rest)"
   ]
  },
  {
   "cell_type": "markdown",
   "metadata": {},
   "source": [
    "#### 目的：求 `dp[n - 1][K][0]`"
   ]
  },
  {
   "cell_type": "markdown",
   "metadata": {},
   "source": [
    "### 步骤2：状态转移图\n",
    "\n",
    "![0123.图01](0123.图01.PNG)\n",
    "\n",
    "#### 得状态转移方程：\n",
    "`dp[i][k][0] = max(dp[i-1][k][0], dp[i-1][k][1] + prices[i])`\n",
    "\n",
    "              `max(   选择 rest  ,           选择 sell     )`\n",
    "\n",
    "`dp[i][k][1] = max(dp[i-1][k][1], dp[i-1][k-1][0] - prices[i])`\n",
    "\n",
    "              `max(   选择 rest  ,           选择 buy        )`\n",
    "\n",
    "buy 或 sell 之后交易次数 +1 \n",
    "\n",
    "**注意**：边界\n",
    "\n",
    "`dp[-1][k][0] = dp[i][0][0] = 0`\n",
    "`dp[-1][k][1] = dp[i][0][1] = -infinity`"
   ]
  },
  {
   "cell_type": "markdown",
   "metadata": {},
   "source": [
    "### 步骤3：化简"
   ]
  },
  {
   "cell_type": "markdown",
   "metadata": {},
   "source": [
    "### 练习1：K=1"
   ]
  },
  {
   "cell_type": "markdown",
   "metadata": {},
   "source": [
    "#### 121.买卖股票的最佳时机"
   ]
  },
  {
   "cell_type": "markdown",
   "metadata": {},
   "source": [
    "#### 状态转移方程：\n",
    "`dp[i][1][0] = max(dp[i-1][1][0], dp[i-1][1][1] + prices[i])`\n",
    "\n",
    "`dp[i][1][1] = max(dp[i-1][1][1], dp[i-1][0][0] - prices[i]) = max(dp[i-1][1][1], -prices[i])`\n",
    "\n",
    "#### 化简：\n",
    "* k = 0 时，dp[i-1][0][0] = 0\n",
    "* 消去 k = 0 的状态 --> 其余 k 都为 1 --> 消去 k\n",
    "\n",
    "#### 得：\n",
    "`dp[i][0] = max(dp[i-1][0], dp[i-1][1] + prices[i])`\n",
    "\n",
    "`dp[i][1] = max(dp[i-1][1], -prices[i])`"
   ]
  },
  {
   "cell_type": "code",
   "execution_count": 3,
   "metadata": {},
   "outputs": [],
   "source": [
    "class Solution:\n",
    "    def maxProfit(self, prices):\n",
    "        if not prices:\n",
    "            return 0\n",
    "        n = len(prices)\n",
    "        # 初始化 i=0 的状态\n",
    "        dp = [[0]*2 for _ in range(n)]\n",
    "        dp[0][1] = -prices[0]\n",
    "        # 从 i=1 处开始动态转移\n",
    "        for i in range(1, n):\n",
    "            dp[i][0] = max(dp[i-1][0], dp[i-1][1]+prices[i])\n",
    "            dp[i][1] = max(dp[i-1][1], -prices[i])\n",
    "        return dp[n-1][0]"
   ]
  },
  {
   "cell_type": "code",
   "execution_count": 4,
   "metadata": {},
   "outputs": [
    {
     "name": "stdout",
     "output_type": "stream",
     "text": [
      "5\n",
      "0\n",
      "1\n"
     ]
    }
   ],
   "source": [
    "test = Solution()\n",
    "prices_li = [[7,1,5,3,6,4],\n",
    "             [7,6,4,3,1],\n",
    "             [1,2]\n",
    "            ]\n",
    "for prices in prices_li:\n",
    "    print(test.maxProfit(prices))"
   ]
  },
  {
   "cell_type": "markdown",
   "metadata": {},
   "source": [
    "### 优化：状态转移只与前一个状态有关"
   ]
  },
  {
   "cell_type": "code",
   "execution_count": 5,
   "metadata": {},
   "outputs": [],
   "source": [
    "class Solution:\n",
    "    def maxProfit(self, prices):\n",
    "        if not prices:\n",
    "            return 0\n",
    "        # 初始化状态\n",
    "        dp_i_0 = 0\n",
    "        dp_i_1 = -prices[0]\n",
    "        # 从 i=1 处开始迭代\n",
    "        for i in range(1, len(prices)):\n",
    "            dp_i_0 = max(dp_i_0, dp_i_1+prices[i])\n",
    "            dp_i_1 = max(dp_i_1, -prices[i])\n",
    "        return dp_i_0"
   ]
  },
  {
   "cell_type": "code",
   "execution_count": 6,
   "metadata": {},
   "outputs": [
    {
     "name": "stdout",
     "output_type": "stream",
     "text": [
      "5\n",
      "0\n",
      "1\n"
     ]
    }
   ],
   "source": [
    "test = Solution()\n",
    "prices_li = [[7,1,5,3,6,4],\n",
    "             [7,6,4,3,1],\n",
    "             [1,2]\n",
    "            ]\n",
    "for prices in prices_li:\n",
    "    print(test.maxProfit(prices))"
   ]
  },
  {
   "cell_type": "markdown",
   "metadata": {},
   "source": [
    "#### 注意：化简后，边界，可从第 `0` 步开始迭代，初始化 `dp_i_1` 为 负无穷大"
   ]
  },
  {
   "cell_type": "code",
   "execution_count": 7,
   "metadata": {},
   "outputs": [],
   "source": [
    "class Solution:\n",
    "    def maxProfit(self, prices):\n",
    "        if not prices:\n",
    "            return 0\n",
    "        # 初始化状态\n",
    "        dp_i_0 = 0\n",
    "        dp_i_1 = float('-inf')\n",
    "        # 从 i=0 处开始迭代\n",
    "        for i in range(len(prices)):\n",
    "            dp_i_0 = max(dp_i_0, dp_i_1+prices[i])\n",
    "            dp_i_1 = max(dp_i_1, -prices[i])\n",
    "        return dp_i_0"
   ]
  },
  {
   "cell_type": "code",
   "execution_count": 8,
   "metadata": {},
   "outputs": [
    {
     "name": "stdout",
     "output_type": "stream",
     "text": [
      "5\n",
      "0\n",
      "1\n"
     ]
    }
   ],
   "source": [
    "test = Solution()\n",
    "prices_li = [[7,1,5,3,6,4],\n",
    "             [7,6,4,3,1],\n",
    "             [1,2]\n",
    "            ]\n",
    "for prices in prices_li:\n",
    "    print(test.maxProfit(prices))"
   ]
  },
  {
   "cell_type": "markdown",
   "metadata": {},
   "source": [
    "### 练习2：K=正无穷"
   ]
  },
  {
   "cell_type": "markdown",
   "metadata": {},
   "source": [
    "#### 122.买卖股票的最佳时机II"
   ]
  },
  {
   "cell_type": "markdown",
   "metadata": {},
   "source": [
    "#### 状态转移方程：\n",
    "`dp[i][k][0] = max(dp[i-1][k][0], dp[i-1][k][1] + prices[i])`\n",
    "\n",
    "`dp[i][k][1] = max(dp[i-1][k][1], dp[i-1][k-1][0] - prices[i])`\n",
    "#### 化简：K 不受限制，可消去 K\n",
    "`dp[i][0] = max(dp[i-1][0], dp[i-1][1] + prices[i])`\n",
    "\n",
    "`dp[i][1] = max(dp[i-1][1], dp[i-1][0] - prices[i])`"
   ]
  },
  {
   "cell_type": "code",
   "execution_count": 188,
   "metadata": {},
   "outputs": [],
   "source": [
    "class Solution:\n",
    "    def maxProfit(self, prices):\n",
    "        if not prices:\n",
    "            return 0 \n",
    "        dp_i_0, dp_i_1 = 0, float('-inf') \n",
    "        for i in range(len(prices)):\n",
    "            temp = dp_i_0\n",
    "            dp_i_0 = max(dp_i_0, dp_i_1 + prices[i])\n",
    "            dp_i_1 = max(dp_i_1, temp - prices[i])\n",
    "        return dp_i_0"
   ]
  },
  {
   "cell_type": "code",
   "execution_count": 189,
   "metadata": {},
   "outputs": [
    {
     "name": "stdout",
     "output_type": "stream",
     "text": [
      "7\n",
      "4\n",
      "0\n"
     ]
    }
   ],
   "source": [
    "test = Solution()\n",
    "prices_li = [[7,1,5,3,6,4],\n",
    "             [1,2,3,4,5],\n",
    "             [7,6,4,3,1]\n",
    "            ]\n",
    "for prices in prices_li:\n",
    "    print(test.maxProfit(prices))"
   ]
  },
  {
   "cell_type": "markdown",
   "metadata": {},
   "source": [
    "### 练习3：K=正无穷，卖出后要等一天之后才能继续交易"
   ]
  },
  {
   "cell_type": "markdown",
   "metadata": {},
   "source": [
    "#### 309. 最佳买卖股票时机含冷冻期"
   ]
  },
  {
   "cell_type": "markdown",
   "metadata": {},
   "source": [
    "#### 动态转移方程：\n",
    "`dp[i][0] = max(dp[i-1][0], dp[i-1][1] + prices[i])`\n",
    "\n",
    "`dp[i][1] = max(dp[i-1][1], dp[i-2][0] - prices[i])`\n",
    "\n",
    "**说明**：再次购买时需要隔一天。即状态转为 1 时（买股票时）需要前两天为未持有股票状态。"
   ]
  },
  {
   "cell_type": "code",
   "execution_count": 190,
   "metadata": {},
   "outputs": [],
   "source": [
    "class Solution:\n",
    "    def maxProfit(self, prices):\n",
    "        if not prices:\n",
    "            return 0\n",
    "        \n",
    "        dp_i_0, dp_i_1 = 0, float('-inf')\n",
    "        dp_pre_0 = 0\n",
    "        for i in range(len(prices)):\n",
    "            temp = dp_i_0\n",
    "            dp_i_0 = max(dp_i_0, dp_i_1+prices[i])\n",
    "            dp_i_1 = max(dp_i_1, dp_pre_0-prices[i])\n",
    "            dp_pre_0 = temp\n",
    "        return dp_i_0"
   ]
  },
  {
   "cell_type": "code",
   "execution_count": 191,
   "metadata": {},
   "outputs": [
    {
     "data": {
      "text/plain": [
       "3"
      ]
     },
     "execution_count": 191,
     "metadata": {},
     "output_type": "execute_result"
    }
   ],
   "source": [
    "test = Solution()\n",
    "prices = [1,2,3,0,2]\n",
    "test.maxProfit(prices)"
   ]
  },
  {
   "cell_type": "markdown",
   "metadata": {},
   "source": [
    "### 练习4：K=正无穷，每次交易需要手续费（一次买入+一次卖出=一次交易）"
   ]
  },
  {
   "cell_type": "markdown",
   "metadata": {},
   "source": [
    "#### 714. 买卖股票的最佳时机含手续费"
   ]
  },
  {
   "cell_type": "markdown",
   "metadata": {},
   "source": [
    "#### 动态转移方程：\n",
    "`dp[i][0] = max(dp[i-1][0], dp[i-1][1] + prices[i])`\n",
    "\n",
    "`dp[i][1] = max(dp[i-1][1], dp[i-1][0] - prices[i] - fee)`\n",
    "\n",
    "**解释**：\n",
    "* `dp[i][1]` 中 `-fee` 相当于买入的价格提高了\n",
    "* `dp[i][0]` 中 `-fee` 相当于卖处的利润减小了（效果相同，但注意初始化处也相应减去手续费）\n",
    "\n",
    "    `dp[i][0] = max(dp[i-1][0], dp[i-1][1] + prices[i] - fee)`\n",
    "    \n",
    "    `dp[i][1] = max(dp[i-1][1], dp[i-1][0] - prices[i])`"
   ]
  },
  {
   "cell_type": "code",
   "execution_count": 196,
   "metadata": {},
   "outputs": [],
   "source": [
    "class Solution:\n",
    "    def maxProfit(self, prices, fee):\n",
    "        if not prices:\n",
    "            return 0\n",
    "        \n",
    "        dp_i_0, dp_i_1 = 0, float('-inf')\n",
    "        for i in range(len(prices)):\n",
    "            dp_i_0 = max(dp_i_0, dp_i_1+prices[i])\n",
    "            dp_i_1 = max(dp_i_1, dp_i_0-prices[i]-fee)\n",
    "        return dp_i_0"
   ]
  },
  {
   "cell_type": "code",
   "execution_count": 197,
   "metadata": {},
   "outputs": [
    {
     "data": {
      "text/plain": [
       "8"
      ]
     },
     "execution_count": 197,
     "metadata": {},
     "output_type": "execute_result"
    }
   ],
   "source": [
    "prices = [1, 3, 2, 8, 4, 9]\n",
    "fee = 2\n",
    "\n",
    "test = Solution()\n",
    "test.maxProfit(prices, fee)"
   ]
  },
  {
   "cell_type": "markdown",
   "metadata": {},
   "source": [
    "### 练习5：K=2\n",
    "#### 123.买卖股票的最佳时机III"
   ]
  },
  {
   "cell_type": "markdown",
   "metadata": {},
   "source": [
    "#### 动态转移方程：\n",
    "`dp[i][k][0] = max(dp[i-1][k][0], dp[i-1][k][1] + prices[i])`\n",
    "\n",
    "`dp[i][k][1] = max(dp[i-1][k][1], dp[i-1][k-1][0] - prices[i])`\n",
    "\n",
    "**注意**：穷举所有状态\n",
    "\n",
    "**对比**：之前的练习都消去了 k，而该练习需要考虑交易次数 k 的影响。"
   ]
  },
  {
   "cell_type": "code",
   "execution_count": 9,
   "metadata": {},
   "outputs": [],
   "source": [
    "class Solution:\n",
    "    def maxProfit(self, prices):\n",
    "        if not prices:\n",
    "            return 0\n",
    "        n = len(prices)\n",
    "        # 初始化状态\n",
    "        dp = [[[0]*2 for _ in range(3)] for _ in range(n)]\n",
    "        for i in range(3):\n",
    "            dp[0][i][1] = -prices[0]\n",
    "        # 从 i=1 处开始迭代\n",
    "        for i in range(1, n):\n",
    "            for k in range(1, 3):\n",
    "                dp[i][k][0] = max(dp[i-1][k][0], dp[i-1][k][1]+prices[i])\n",
    "                dp[i][k][1] = max(dp[i-1][k][1], dp[i-1][k-1][0]-prices[i])\n",
    "        return dp[n-1][2][0]"
   ]
  },
  {
   "cell_type": "code",
   "execution_count": 10,
   "metadata": {},
   "outputs": [
    {
     "name": "stdout",
     "output_type": "stream",
     "text": [
      "6\n",
      "4\n"
     ]
    }
   ],
   "source": [
    "test = Solution()\n",
    "prices_li = [[3,3,5,0,0,3,1,4], [1,2,3,4,5]]\n",
    "for prices in prices_li:\n",
    "    print(test.maxProfit(prices))"
   ]
  },
  {
   "cell_type": "markdown",
   "metadata": {},
   "source": [
    "#### 化简：由于该练习 K 值较小，因此可以手动列举 k=1 和 k=2 的情况，不用使用 for 循环。"
   ]
  },
  {
   "cell_type": "code",
   "execution_count": 78,
   "metadata": {},
   "outputs": [],
   "source": [
    "class Solution:\n",
    "    def maxProfit(self, prices):\n",
    "        if not prices:\n",
    "            return 0\n",
    "        n = len(prices)\n",
    "        # 初始化状态\n",
    "        dp_i_1_0 = dp_i_2_0 = 0\n",
    "        dp_i_1_1 = dp_i_2_1 = float('-inf') \n",
    "        # 等同于从 i=0 处开始迭代\n",
    "        for i in range(n):\n",
    "            dp_i_1_0 = max(dp_i_1_0, dp_i_1_1+prices[i])\n",
    "            dp_i_1_1 = max(dp_i_1_1, -prices[i])\n",
    "            \n",
    "            dp_i_2_0 = max(dp_i_2_0, dp_i_2_1+prices[i])\n",
    "            dp_i_2_1 = max(dp_i_2_1, dp_i_1_0-prices[i])\n",
    "        return dp_i_2_0"
   ]
  },
  {
   "cell_type": "code",
   "execution_count": 79,
   "metadata": {},
   "outputs": [
    {
     "name": "stdout",
     "output_type": "stream",
     "text": [
      "6\n",
      "4\n"
     ]
    }
   ],
   "source": [
    "test = Solution()\n",
    "prices_li = [[3,3,5,0,0,3,1,4], [1,2,3,4,5]]\n",
    "for prices in prices_li:\n",
    "    print(test.maxProfit(prices))"
   ]
  },
  {
   "cell_type": "markdown",
   "metadata": {},
   "source": [
    "### 练习6：K=给定值\n",
    "**注意**：约束 k，有效交易次数小于等于 n//2"
   ]
  },
  {
   "cell_type": "code",
   "execution_count": 90,
   "metadata": {},
   "outputs": [],
   "source": [
    "class Solution:\n",
    "    def maxProfit(self, k, prices):\n",
    "        if not prices:\n",
    "            return 0\n",
    "        n = len(prices)\n",
    "        max_k = n//2        # 最大交易次数\n",
    "        if k >= max_k:      # k>最大交易次数，做 k=无穷大处理\n",
    "            res = 0\n",
    "            for i in range(n-1):\n",
    "                res += max(0, prices[i+1]-prices[i])\n",
    "            return res\n",
    "        else:\n",
    "            max_k = k\n",
    "        # k<最大交易次数，动态规划\n",
    "        dp = [[[0]*2 for _ in range(k+1)] for _ in range(n)]\n",
    "        for i in range(max_k+1):\n",
    "            dp[0][i][1] = -prices[0]\n",
    "        for i in range(1, n):\n",
    "            for k in range(1, max_k+1):\n",
    "                dp[i][k][0] = max(dp[i-1][k][0], dp[i-1][k][1]+prices[i])\n",
    "                dp[i][k][1] = max(dp[i-1][k][1], dp[i-1][k-1][0]-prices[i])\n",
    "        return dp[n-1][max_k][0]"
   ]
  },
  {
   "cell_type": "code",
   "execution_count": 91,
   "metadata": {},
   "outputs": [
    {
     "name": "stdout",
     "output_type": "stream",
     "text": [
      "2\n",
      "7\n"
     ]
    }
   ],
   "source": [
    "test = Solution()\n",
    "prices_li = [[2,4,1], [3,2,6,5,0,3]]\n",
    "k_li = [2, 2]\n",
    "for prices, k in zip(prices_li, k_li):\n",
    "    print(test.maxProfit(k, prices))"
   ]
  },
  {
   "cell_type": "code",
   "execution_count": null,
   "metadata": {},
   "outputs": [],
   "source": []
  }
 ],
 "metadata": {
  "kernelspec": {
   "display_name": "Python 3",
   "language": "python",
   "name": "python3"
  },
  "language_info": {
   "codemirror_mode": {
    "name": "ipython",
    "version": 3
   },
   "file_extension": ".py",
   "mimetype": "text/x-python",
   "name": "python",
   "nbconvert_exporter": "python",
   "pygments_lexer": "ipython3",
   "version": "3.7.0"
  }
 },
 "nbformat": 4,
 "nbformat_minor": 2
}

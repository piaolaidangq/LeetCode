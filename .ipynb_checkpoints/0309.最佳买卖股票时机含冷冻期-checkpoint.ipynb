{
 "cells": [
  {
   "cell_type": "code",
   "execution_count": 1,
   "metadata": {},
   "outputs": [],
   "source": [
    "class Solution:\n",
    "    def maxProfit(self, prices):\n",
    "        if not prices:\n",
    "            return 0\n",
    "        # 初始化状态\n",
    "        dp_i_0, dp_i_1 = 0, float('-inf')\n",
    "        # 初始化前 2 天未持有股票状态的收益\n",
    "        dp_pre_0 = 0           \n",
    "        # 等同于 i=0 处开始迭代\n",
    "        for i in range(len(prices)):\n",
    "            # 记录前 1 天状态\n",
    "            temp = dp_i_0\n",
    "            # 更新当天状态\n",
    "            dp_i_0 = max(dp_i_0, dp_i_1+prices[i])\n",
    "            dp_i_1 = max(dp_i_1, dp_pre_0-prices[i])\n",
    "            # 更新记录的前 1 天状态为前 2 天状态\n",
    "            dp_pre_0 = temp\n",
    "        return dp_i_0"
   ]
  },
  {
   "cell_type": "code",
   "execution_count": 2,
   "metadata": {},
   "outputs": [
    {
     "data": {
      "text/plain": [
       "3"
      ]
     },
     "execution_count": 2,
     "metadata": {},
     "output_type": "execute_result"
    }
   ],
   "source": [
    "test = Solution()\n",
    "prices = [1,2,3,0,2]\n",
    "test.maxProfit(prices)"
   ]
  },
  {
   "cell_type": "code",
   "execution_count": null,
   "metadata": {},
   "outputs": [],
   "source": []
  }
 ],
 "metadata": {
  "kernelspec": {
   "display_name": "Python 3",
   "language": "python",
   "name": "python3"
  },
  "language_info": {
   "codemirror_mode": {
    "name": "ipython",
    "version": 3
   },
   "file_extension": ".py",
   "mimetype": "text/x-python",
   "name": "python",
   "nbconvert_exporter": "python",
   "pygments_lexer": "ipython3",
   "version": "3.7.0"
  }
 },
 "nbformat": 4,
 "nbformat_minor": 2
}

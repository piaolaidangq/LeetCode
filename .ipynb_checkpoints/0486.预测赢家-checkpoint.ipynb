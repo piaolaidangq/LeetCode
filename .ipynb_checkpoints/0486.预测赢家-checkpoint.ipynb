{
 "cells": [
  {
   "cell_type": "code",
   "execution_count": 31,
   "metadata": {},
   "outputs": [],
   "source": [
    "class Solution:\n",
    "    def PredictTheWinner(self, nums):\n",
    "        n = len(nums)\n",
    "        dp = [[0]*n for _ in range(n)]        # 初始化\n",
    "        for i in range(n-1, -1, -1):\n",
    "            for j in range(i, n):\n",
    "                if i == j:\n",
    "                    dp[i][j] = nums[i]        # 当前数组中只有一个数字，先手玩家比后手玩家得分多的最大值为 nums[i]\n",
    "                else:\n",
    "                    dp[i][j] = max(nums[i]-dp[i+1][j], nums[j]-dp[i][j-1])    # 更新 dp\n",
    "        return dp[0][n-1] >= 0               # 返回赢家"
   ]
  },
  {
   "cell_type": "code",
   "execution_count": 32,
   "metadata": {},
   "outputs": [
    {
     "name": "stdout",
     "output_type": "stream",
     "text": [
      "False\n",
      "True\n"
     ]
    }
   ],
   "source": [
    "test = Solution()\n",
    "nums_li = [[1, 5, 2], [1, 5, 233, 7]]\n",
    "for nums in nums_li:\n",
    "    print(test.PredictTheWinner(nums))"
   ]
  },
  {
   "cell_type": "code",
   "execution_count": null,
   "metadata": {},
   "outputs": [],
   "source": []
  },
  {
   "cell_type": "code",
   "execution_count": null,
   "metadata": {},
   "outputs": [],
   "source": []
  }
 ],
 "metadata": {
  "kernelspec": {
   "display_name": "Python 3",
   "language": "python",
   "name": "python3"
  },
  "language_info": {
   "codemirror_mode": {
    "name": "ipython",
    "version": 3
   },
   "file_extension": ".py",
   "mimetype": "text/x-python",
   "name": "python",
   "nbconvert_exporter": "python",
   "pygments_lexer": "ipython3",
   "version": "3.7.0"
  }
 },
 "nbformat": 4,
 "nbformat_minor": 2
}

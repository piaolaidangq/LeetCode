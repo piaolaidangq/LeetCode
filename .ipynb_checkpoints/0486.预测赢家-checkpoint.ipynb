{
 "cells": [
  {
   "cell_type": "code",
   "execution_count": 31,
   "metadata": {},
   "outputs": [],
   "source": [
    "class Solution:\n",
    "    def PredictTheWinner(self, nums):\n",
    "        n = len(nums)\n",
    "        dp = [[0]*n for _ in range(n)]        # 初始化\n",
    "        for i in range(n-1, -1, -1):\n",
    "            for j in range(i, n):\n",
    "                if i == j:\n",
    "                    dp[i][j] = nums[i]        # 当前序列状态为单值，先手比后手收益多的最大值为 nums[i]\n",
    "                else:\n",
    "                    dp[i][j] = max(nums[i]-dp[i+1][j], nums[j]-dp[i][j-1])    # 更新 dp\n",
    "        return dp[0][n-1] >= 0               "
   ]
  },
  {
   "cell_type": "code",
   "execution_count": 32,
   "metadata": {},
   "outputs": [
    {
     "name": "stdout",
     "output_type": "stream",
     "text": [
      "False\n",
      "True\n"
     ]
    }
   ],
   "source": [
    "test = Solution()\n",
    "nums_li = [[1, 5, 2], [1, 5, 233, 7]]\n",
    "for nums in nums_li:\n",
    "    print(test.PredictTheWinner(nums))"
   ]
  },
  {
   "cell_type": "markdown",
   "metadata": {},
   "source": [
    "### 第二次"
   ]
  },
  {
   "cell_type": "code",
   "execution_count": 38,
   "metadata": {},
   "outputs": [],
   "source": [
    "class Solution:\n",
    "    def PredictTheWinner(self, nums):\n",
    "        n = len(nums)\n",
    "        dp = [[0]*n for _ in range(n)]\n",
    "        for i in range(n-1, -1, -1):\n",
    "            for j in range(i, n):\n",
    "                if i == j:\n",
    "                    dp[i][j] = nums[i]\n",
    "                else:\n",
    "                    dp[i][j] = max(nums[i]-dp[i+1][j], nums[j]-dp[i][j-1])\n",
    "        print(dp)\n",
    "        return dp[0][n-1]>=0"
   ]
  },
  {
   "cell_type": "code",
   "execution_count": 39,
   "metadata": {},
   "outputs": [
    {
     "name": "stdout",
     "output_type": "stream",
     "text": [
      "[[1, 4, -2], [0, 5, 3], [0, 0, 2]]\n",
      "False\n",
      "[[1, 4, 229, 222], [0, 5, 228, -221], [0, 0, 233, 226], [0, 0, 0, 7]]\n",
      "True\n"
     ]
    }
   ],
   "source": [
    "test = Solution()\n",
    "nums_li = [[1, 5, 2], [1, 5, 233, 7]]\n",
    "for nums in nums_li:\n",
    "    print(test.PredictTheWinner(nums))"
   ]
  },
  {
   "cell_type": "code",
   "execution_count": 17,
   "metadata": {},
   "outputs": [],
   "source": [
    "class Solution:\n",
    "    def PredictTheWinner(self, nums):\n",
    "        n = len(nums)\n",
    "        # 初始化先后手 dp，dp]i][j] 中保存先后手在序列 i~j 上的最大收益\n",
    "        # 序列为单数值时，即 i=j，则先手收益为 nums[i]，后手收益为 0\n",
    "        dp_fir = [[0]*n for _ in range(n)]   \n",
    "        dp_sec = [[0]*n for _ in range(n)]    \n",
    "        for i in range(n):\n",
    "            dp_fir[i][i] = nums[i] \n",
    "        # 由动态转移方程可知，动态规划由下往上，由左往右遍历\n",
    "        for i in range(n-1, -1, -1):\n",
    "            for j in range(i+1, n):\n",
    "                left = nums[i]+dp_sec[i+1][j]      # 先手面对 i~j，选 nums[i] 时，则在 i+1~j 上，他为后手，因此他的收益为 nums[i] + dp_sec[i+1][j]\n",
    "                right = nums[j]+dp_sec[i][j-1]     # 先手面对 i~j，选 nums[j] 时，则在 i~j-1 上，他为后手，因此他的收益为 nums[j] + dp_sec[i][j-1]\n",
    "                if left > right: \n",
    "                    dp_fir[i][j] = left             # 先手选 left（i）\n",
    "                    dp_sec[i][j] = dp_fir[i+1][j]   # 先手选了 nums[i]，剩下 i+1~j 轮到后手选，此时，后手变成 i+1~j 上的先手\n",
    "                else:\n",
    "                    dp_fir[i][j] = right            # 先手选 right（j） \n",
    "                    dp_sec[i][j] = dp_fir[i][j-1]   # 先手选了 nums[j]，剩下 i~j-1 轮到后手选，此时，后手变成 i~j-1 上的先手\n",
    "        return dp_fir[0][n-1] >= dp_sec[0][n-1]"
   ]
  },
  {
   "cell_type": "code",
   "execution_count": 18,
   "metadata": {},
   "outputs": [
    {
     "name": "stdout",
     "output_type": "stream",
     "text": [
      "False\n",
      "True\n"
     ]
    }
   ],
   "source": [
    "test = Solution()\n",
    "nums_li = [[1, 5, 2], [1, 5, 233, 7]]\n",
    "for nums in nums_li:\n",
    "    print(test.PredictTheWinner(nums))"
   ]
  },
  {
   "cell_type": "code",
   "execution_count": 54,
   "metadata": {},
   "outputs": [],
   "source": [
    "class Solution:\n",
    "    def PredictTheWinner(self, nums):\n",
    "        if not nums:\n",
    "            return 0\n",
    "        n = len(nums)\n",
    "        dp = nums[:]\n",
    "        for i in range(n-1, -1, -1):\n",
    "            for j in range(i+1, n):\n",
    "                dp[j] = max(nums[i]-dp[j], nums[j]-dp[j-1])\n",
    "        return dp[n-1] >= 0"
   ]
  },
  {
   "cell_type": "code",
   "execution_count": 55,
   "metadata": {},
   "outputs": [
    {
     "name": "stdout",
     "output_type": "stream",
     "text": [
      "False\n",
      "True\n"
     ]
    }
   ],
   "source": [
    "test = Solution()\n",
    "nums_li = [[1, 5, 2], [1, 5, 233, 7]]\n",
    "for nums in nums_li:\n",
    "    print(test.PredictTheWinner(nums))"
   ]
  },
  {
   "cell_type": "code",
   "execution_count": null,
   "metadata": {},
   "outputs": [],
   "source": []
  }
 ],
 "metadata": {
  "kernelspec": {
   "display_name": "Python 3",
   "language": "python",
   "name": "python3"
  },
  "language_info": {
   "codemirror_mode": {
    "name": "ipython",
    "version": 3
   },
   "file_extension": ".py",
   "mimetype": "text/x-python",
   "name": "python",
   "nbconvert_exporter": "python",
   "pygments_lexer": "ipython3",
   "version": "3.7.0"
  }
 },
 "nbformat": 4,
 "nbformat_minor": 2
}

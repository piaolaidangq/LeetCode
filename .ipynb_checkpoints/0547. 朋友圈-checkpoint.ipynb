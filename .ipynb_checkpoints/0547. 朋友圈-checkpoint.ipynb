{
 "cells": [
  {
   "cell_type": "code",
   "execution_count": 44,
   "metadata": {},
   "outputs": [],
   "source": [
    "# DFS\n",
    "class Solution:\n",
    "    def findCircleNum(self, M):\n",
    "        self.__N = len(M)\n",
    "        self.__user = set()\n",
    "        res = 0\n",
    "        for i in range(self.__N):          \n",
    "            if i not in self.__user:\n",
    "                self.__user.add(i)\n",
    "                self.__dfs(M, i)\n",
    "                res += 1\n",
    "        return res\n",
    "    \n",
    "    def __dfs(self, M, i):\n",
    "        for j in range(self.__N):\n",
    "            if M[i][j] == 1 and j not in self.__user:\n",
    "                self.__user.add(j)\n",
    "                self.__dfs(M, j)"
   ]
  },
  {
   "cell_type": "code",
   "execution_count": 70,
   "metadata": {},
   "outputs": [],
   "source": [
    "# BFS\n",
    "class Solution:    \n",
    "    def findCircleNum(self, M):        \n",
    "        self.__N = len(M)\n",
    "        self.__visited = set()  \n",
    "        self.__queen = [] \n",
    "        res = 0                     \n",
    "        for i in range(self.__N):            \n",
    "            if i not in self.__visited:                \n",
    "                self.__bfs(M, i)              \n",
    "                res += 1\n",
    "        return res\n",
    "    \n",
    "    def __bfs(self, M, i):\n",
    "        self.__queen.append(i)\n",
    "        while self.__queen:\n",
    "            x = self.__queen.pop(0)        # 出队\n",
    "            for y in range(self.__N):     \n",
    "                if M[x][y] and y not in self.__visited:\n",
    "                    self.__visited.add(y)\n",
    "                    self.__queen.append(y)  # 进队   "
   ]
  },
  {
   "cell_type": "code",
   "execution_count": 71,
   "metadata": {},
   "outputs": [
    {
     "name": "stdout",
     "output_type": "stream",
     "text": [
      "2\n",
      "1\n",
      "1\n"
     ]
    }
   ],
   "source": [
    "test = Solution()\n",
    "M_li = [\n",
    "    [[1,1,0],\n",
    "     [1,1,0],\n",
    "     [0,0,1]],\n",
    "    [[1,1,0],\n",
    "     [1,1,1],\n",
    "     [0,1,1]],\n",
    "    [[1,0,0,1],\n",
    "     [0,1,1,0],\n",
    "     [0,1,1,1],\n",
    "     [1,0,1,1]]\n",
    "]\n",
    "for M in M_li:\n",
    "    print(test.findCircleNum(M))"
   ]
  },
  {
   "cell_type": "markdown",
   "metadata": {},
   "source": [
    "2\n",
    "\n",
    "1\n",
    "\n",
    "1"
   ]
  },
  {
   "cell_type": "code",
   "execution_count": null,
   "metadata": {},
   "outputs": [],
   "source": []
  }
 ],
 "metadata": {
  "kernelspec": {
   "display_name": "Python 3",
   "language": "python",
   "name": "python3"
  },
  "language_info": {
   "codemirror_mode": {
    "name": "ipython",
    "version": 3
   },
   "file_extension": ".py",
   "mimetype": "text/x-python",
   "name": "python",
   "nbconvert_exporter": "python",
   "pygments_lexer": "ipython3",
   "version": "3.7.0"
  }
 },
 "nbformat": 4,
 "nbformat_minor": 2
}

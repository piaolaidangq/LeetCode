{
 "cells": [
  {
   "cell_type": "code",
   "execution_count": 11,
   "metadata": {},
   "outputs": [],
   "source": [
    "# Definition for singly-linked list.\n",
    "class ListNode:\n",
    "    def __init__(self, x):\n",
    "        self.val = x\n",
    "        self.next = None\n",
    "\n",
    "class Solution:\n",
    "    def sortList(self, head):\n",
    "        li = []\n",
    "        while head:\n",
    "            li.append(head.val)\n",
    "            head = head.next\n",
    "        li.sort()\n",
    "        res = ListNode(None)\n",
    "        cur = res\n",
    "        for i in li:\n",
    "            cur.next = ListNode(i)\n",
    "            cur = cur.next\n",
    "        return res.next"
   ]
  },
  {
   "cell_type": "code",
   "execution_count": 29,
   "metadata": {},
   "outputs": [],
   "source": [
    "# Definition for singly-linked list.\n",
    "class ListNode:\n",
    "    def __init__(self, x):\n",
    "        self.val = x\n",
    "        self.next = None\n",
    "        \n",
    "# 归并排序（递归）\n",
    "class Solution:\n",
    "    def sortList(self, head):\n",
    "        if not head or not head.next:\n",
    "            return head\n",
    "        slow, fast = head, head.next\n",
    "        while fast and fast.next:                  # 寻找中间节点（偶数寻找中心的左边节点）\n",
    "            slow, fast = slow.next, fast.next.next\n",
    "        mid, slow.next = slow.next, None           # mid指向第二段链表的头部，断开中间节点\n",
    "        left, right = self.sortList(head), self.sortList(mid)  # 递归，不断划分链表\n",
    "        res = cur = ListNode(None)                 # 创建新链表\n",
    "        while left and right:                      # 合并两段链表\n",
    "            if left.val < right.val:\n",
    "                cur.next, left = left, left.next\n",
    "            else:\n",
    "                cur.next, right = right, right.next\n",
    "            cur = cur.next\n",
    "        cur.next = left or right\n",
    "        return res.next"
   ]
  },
  {
   "cell_type": "code",
   "execution_count": 30,
   "metadata": {},
   "outputs": [
    {
     "name": "stdout",
     "output_type": "stream",
     "text": [
      "1 2 3 4 \n",
      "-1 0 3 4 5 \n"
     ]
    }
   ],
   "source": [
    "test = Solution()\n",
    "\n",
    "head = ListNode(None)\n",
    "cur = head\n",
    "for i in [4, 2, 1, 3]:\n",
    "    cur.next = ListNode(i)\n",
    "    cur = cur.next\n",
    "head = head.next\n",
    "res = test.sortList(head)\n",
    "while res:\n",
    "    print(res.val, end=' ')\n",
    "    res = res.next\n",
    "print()\n",
    "\n",
    "head = ListNode(None)\n",
    "cur = head\n",
    "for i in [-1, 5, 3, 4, 0]:\n",
    "    cur.next = ListNode(i)\n",
    "    cur = cur.next\n",
    "head = head.next\n",
    "res = test.sortList(head)\n",
    "while res:\n",
    "    print(res.val, end=' ')\n",
    "    res = res.next\n",
    "print()"
   ]
  },
  {
   "cell_type": "markdown",
   "metadata": {},
   "source": [
    "1->2->3->4\n",
    "\n",
    "-1->0->3->4->5"
   ]
  },
  {
   "cell_type": "code",
   "execution_count": null,
   "metadata": {},
   "outputs": [],
   "source": []
  }
 ],
 "metadata": {
  "kernelspec": {
   "display_name": "Python 3",
   "language": "python",
   "name": "python3"
  },
  "language_info": {
   "codemirror_mode": {
    "name": "ipython",
    "version": 3
   },
   "file_extension": ".py",
   "mimetype": "text/x-python",
   "name": "python",
   "nbconvert_exporter": "python",
   "pygments_lexer": "ipython3",
   "version": "3.7.0"
  }
 },
 "nbformat": 4,
 "nbformat_minor": 2
}

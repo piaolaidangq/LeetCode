{
 "cells": [
  {
   "cell_type": "code",
   "execution_count": 11,
   "metadata": {},
   "outputs": [],
   "source": [
    "class Solution:\n",
    "    def convert(self, s, numRows):\n",
    "        if numRows == 1:\n",
    "            return s\n",
    "        result = ['']*numRows\n",
    "        dire = False   # 方向\n",
    "        row = 0\n",
    "        for ch in s:\n",
    "            result[row] += ch\n",
    "            if row == 0 or row == numRows-1:\n",
    "                dire = not dire\n",
    "            if dire:\n",
    "                row += 1\n",
    "            else:\n",
    "                row -= 1\n",
    "        return ''.join(result)        "
   ]
  },
  {
   "cell_type": "code",
   "execution_count": 12,
   "metadata": {},
   "outputs": [
    {
     "data": {
      "text/plain": [
       "'LCIRETOESIIGEDHN'"
      ]
     },
     "execution_count": 12,
     "metadata": {},
     "output_type": "execute_result"
    }
   ],
   "source": [
    "test = Solution()\n",
    "s1 = \"LEETCODEISHIRING\"\n",
    "test.convert(s1, 3)"
   ]
  },
  {
   "cell_type": "code",
   "execution_count": 13,
   "metadata": {},
   "outputs": [
    {
     "data": {
      "text/plain": [
       "'LDREOEIIECIHNTSG'"
      ]
     },
     "execution_count": 13,
     "metadata": {},
     "output_type": "execute_result"
    }
   ],
   "source": [
    "s2 = \"LEETCODEISHIRING\"\n",
    "test.convert(s2, 4)"
   ]
  },
  {
   "cell_type": "code",
   "execution_count": 36,
   "metadata": {},
   "outputs": [],
   "source": [
    "class Solution:\n",
    "    def convert(self, s, numRows):\n",
    "        if numRows == 1:\n",
    "            return s\n",
    "        inter = numRows * 2 - 2\n",
    "        result = s[::inter]                # 第0行\n",
    "        gap = inter\n",
    "        for i in range(1, numRows-1):     # 中间行\n",
    "            gap -= 2\n",
    "            for j in range(i, len(s), inter):\n",
    "                result += s[j]\n",
    "                if j + gap < len(s):\n",
    "                    result += s[j + gap] \n",
    "        result += s[numRows - 1::inter]   # 最后一行\n",
    "        return result"
   ]
  },
  {
   "cell_type": "code",
   "execution_count": 37,
   "metadata": {},
   "outputs": [
    {
     "data": {
      "text/plain": [
       "'LCIRETOESIIGEDHN'"
      ]
     },
     "execution_count": 37,
     "metadata": {},
     "output_type": "execute_result"
    }
   ],
   "source": [
    "test = Solution()\n",
    "s1 = \"LEETCODEISHIRING\"\n",
    "test.convert(s1, 3)"
   ]
  },
  {
   "cell_type": "code",
   "execution_count": 38,
   "metadata": {},
   "outputs": [
    {
     "data": {
      "text/plain": [
       "'LDREOEIIECIHNTSG'"
      ]
     },
     "execution_count": 38,
     "metadata": {},
     "output_type": "execute_result"
    }
   ],
   "source": [
    "s2 = \"LEETCODEISHIRING\"\n",
    "test.convert(s2, 4)"
   ]
  },
  {
   "cell_type": "code",
   "execution_count": 39,
   "metadata": {},
   "outputs": [
    {
     "data": {
      "text/plain": [
       "'PINALSIGYAHRPI'"
      ]
     },
     "execution_count": 39,
     "metadata": {},
     "output_type": "execute_result"
    }
   ],
   "source": [
    "s3 = \"PAYPALISHIRING\"\n",
    "test.convert(s3, 4)"
   ]
  },
  {
   "cell_type": "markdown",
   "metadata": {},
   "source": [
    "### 6. Z 字形变换\n",
    "\n",
    "#### 方法1：\n",
    "\n",
    "- 控制行数和方向的关系\n",
    "\n",
    "#### 方法2：\n",
    "\n",
    "- 找行数和间隙的等差关系\n",
    "\n"
   ]
  },
  {
   "cell_type": "code",
   "execution_count": null,
   "metadata": {},
   "outputs": [],
   "source": []
  }
 ],
 "metadata": {
  "kernelspec": {
   "display_name": "Python 3",
   "language": "python",
   "name": "python3"
  },
  "language_info": {
   "codemirror_mode": {
    "name": "ipython",
    "version": 3
   },
   "file_extension": ".py",
   "mimetype": "text/x-python",
   "name": "python",
   "nbconvert_exporter": "python",
   "pygments_lexer": "ipython3",
   "version": "3.7.0"
  }
 },
 "nbformat": 4,
 "nbformat_minor": 2
}

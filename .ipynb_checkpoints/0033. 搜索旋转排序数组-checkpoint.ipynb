{
 "cells": [
  {
   "cell_type": "code",
   "execution_count": 34,
   "metadata": {},
   "outputs": [],
   "source": [
    "class Solution:\n",
    "    def search(self, nums, target):\n",
    "        try:\n",
    "            return nums.index(target)\n",
    "        except:\n",
    "            return -1"
   ]
  },
  {
   "cell_type": "code",
   "execution_count": 7,
   "metadata": {},
   "outputs": [],
   "source": [
    "# 二分法\n",
    "class Solution:\n",
    "    def search(self, nums, target):\n",
    "        left, right = 0, len(nums) - 1\n",
    "        while left < right:                    # 寻找旋转点\n",
    "            mid = (left + right) // 2\n",
    "            if nums[mid] > nums[right]:\n",
    "                left = mid + 1\n",
    "            else:\n",
    "                right = mid\n",
    "        pos = self.binary_search(nums[:left], target)\n",
    "        if pos != -1:\n",
    "            return pos\n",
    "        pos = self.binary_search(nums[left:], target)\n",
    "        if pos != -1:\n",
    "            return pos + left\n",
    "        return -1\n",
    "       \n",
    "    def binary_search(self, nums, target):     # 寻找target\n",
    "        print(nums)\n",
    "        left, right = 0, len(nums) - 1\n",
    "        while left <= right:\n",
    "            mid = (left + right) // 2\n",
    "            if nums[mid] == target:\n",
    "                return mid\n",
    "            elif nums[mid] < target:\n",
    "                left = mid + 1\n",
    "            else:\n",
    "                right = mid - 1\n",
    "        return -1"
   ]
  },
  {
   "cell_type": "code",
   "execution_count": 47,
   "metadata": {},
   "outputs": [
    {
     "name": "stdout",
     "output_type": "stream",
     "text": [
      "4\n",
      "-1\n",
      "1\n",
      "-1\n",
      "0\n",
      "1\n"
     ]
    }
   ],
   "source": [
    "test = Solution()\n",
    "nums_li = [[4,5,6,7,0,1,2], [4,5,6,7,0,1,2], [1,3], [3,1], [3,1], [5,1,3]]\n",
    "target_li = [0, 3, 3, 0, 3, 1]\n",
    "for nums, target in zip(nums_li, target_li):\n",
    "    print(test.search(nums, target))"
   ]
  },
  {
   "cell_type": "markdown",
   "metadata": {},
   "source": [
    "4 \n",
    "\n",
    "-1\n",
    "\n",
    "1\n",
    "\n",
    "-1\n",
    "\n",
    "0\n",
    "\n",
    "1"
   ]
  },
  {
   "cell_type": "code",
   "execution_count": null,
   "metadata": {},
   "outputs": [],
   "source": []
  }
 ],
 "metadata": {
  "kernelspec": {
   "display_name": "Python 3",
   "language": "python",
   "name": "python3"
  },
  "language_info": {
   "codemirror_mode": {
    "name": "ipython",
    "version": 3
   },
   "file_extension": ".py",
   "mimetype": "text/x-python",
   "name": "python",
   "nbconvert_exporter": "python",
   "pygments_lexer": "ipython3",
   "version": "3.7.0"
  }
 },
 "nbformat": 4,
 "nbformat_minor": 2
}

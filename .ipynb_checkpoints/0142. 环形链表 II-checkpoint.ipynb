{
 "cells": [
  {
   "cell_type": "code",
   "execution_count": 19,
   "metadata": {},
   "outputs": [],
   "source": [
    "class ListNode(object):\n",
    "    def __init__(self, x):\n",
    "        self.val = x\n",
    "        self.next = None\n",
    "\n",
    "# 使用set\n",
    "class Solution(object):\n",
    "    def detectCycle(self, head):\n",
    "        if not head:\n",
    "            return None\n",
    "        visited = set()\n",
    "        \n",
    "        while head:\n",
    "            if not head.next:\n",
    "                return None\n",
    "            if head in visited:\n",
    "                return head\n",
    "            else:\n",
    "                visited.add(head)\n",
    "            head = head.next"
   ]
  },
  {
   "cell_type": "code",
   "execution_count": 1,
   "metadata": {},
   "outputs": [],
   "source": [
    "class ListNode(object):\n",
    "    def __init__(self, x):\n",
    "        self.val = x\n",
    "        self.next = None\n",
    "        \n",
    "# 快慢指针\n",
    "class Solution(object):\n",
    "    def detectCycle(self, head):    \n",
    "        res = head\n",
    "        slow = fast = head\n",
    "        while fast and fast.next:                 \n",
    "            slow, fast = slow.next, fast.next.next\n",
    "            if slow == fast:            # 快慢指针相遇       \n",
    "                while res != slow:      # 寻找入环节点\n",
    "                    res, slow = res.next, slow.next\n",
    "                return res       \n",
    "        return None"
   ]
  },
  {
   "cell_type": "code",
   "execution_count": 2,
   "metadata": {},
   "outputs": [
    {
     "name": "stdout",
     "output_type": "stream",
     "text": [
      "<__main__.ListNode object at 0x0000000005039D30> 2\n",
      "<__main__.ListNode object at 0x0000000005039CF8> 1\n",
      "None\n"
     ]
    }
   ],
   "source": [
    "head_li = [[3,2,0,-4], [1,2], [1]]\n",
    "pos_li = [1, 0, -1]\n",
    "test = Solution()\n",
    "for it, pos in zip(head_li, pos_li):\n",
    "    # 创建循环链表\n",
    "    head = cur = ListNode(None)\n",
    "    have = None\n",
    "    for i in range(len(it)):\n",
    "        cur.next = ListNode(it[i])\n",
    "        if i == pos:\n",
    "            have = cur.next\n",
    "        if i == len(it)-1 and have:\n",
    "            cur.next.next = have\n",
    "        cur = cur.next\n",
    "    head = head.next\n",
    "    res = test.detectCycle(head)\n",
    "    if res:\n",
    "        print(res, res.val)\n",
    "    else:\n",
    "        print(res)"
   ]
  },
  {
   "cell_type": "markdown",
   "metadata": {},
   "source": [
    "**分析**：返回节点"
   ]
  },
  {
   "cell_type": "markdown",
   "metadata": {},
   "source": [
    "位置1处节点  2\n",
    "\n",
    "位置0处节点  1\n",
    "\n",
    "位置-1处无节点"
   ]
  },
  {
   "cell_type": "code",
   "execution_count": null,
   "metadata": {},
   "outputs": [],
   "source": []
  }
 ],
 "metadata": {
  "kernelspec": {
   "display_name": "Python 3",
   "language": "python",
   "name": "python3"
  },
  "language_info": {
   "codemirror_mode": {
    "name": "ipython",
    "version": 3
   },
   "file_extension": ".py",
   "mimetype": "text/x-python",
   "name": "python",
   "nbconvert_exporter": "python",
   "pygments_lexer": "ipython3",
   "version": "3.7.0"
  }
 },
 "nbformat": 4,
 "nbformat_minor": 2
}

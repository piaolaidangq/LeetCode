{
 "cells": [
  {
   "cell_type": "code",
   "execution_count": 3,
   "metadata": {},
   "outputs": [],
   "source": [
    "# 暴力求解\n",
    "class Solution:\n",
    "    def maxArea(self, height):\n",
    "        result = 0\n",
    "        n = len(height)\n",
    "        for i, h in enumerate(height):\n",
    "            for j in range(i+1, n):\n",
    "                temp = min(h, height[j]) * (j - i)\n",
    "                if temp > result:\n",
    "                    result = temp\n",
    "        return result"
   ]
  },
  {
   "cell_type": "markdown",
   "metadata": {},
   "source": [
    "**分析**：暴力超时了"
   ]
  },
  {
   "cell_type": "code",
   "execution_count": 6,
   "metadata": {},
   "outputs": [],
   "source": [
    "# 左右指针逼近法\n",
    "class Solution:\n",
    "    def maxArea(self, height):\n",
    "        res = 0\n",
    "        i, j = 0, len(height) - 1\n",
    "        while j > i:\n",
    "            temp = (j - i) * min(height[i], height[j])\n",
    "            if res < temp:\n",
    "                res = temp\n",
    "            if height[i] < height[j]:\n",
    "                i += 1\n",
    "            else:\n",
    "                j -= 1\n",
    "        return res"
   ]
  },
  {
   "cell_type": "code",
   "execution_count": 7,
   "metadata": {},
   "outputs": [
    {
     "data": {
      "text/plain": [
       "49"
      ]
     },
     "execution_count": 7,
     "metadata": {},
     "output_type": "execute_result"
    }
   ],
   "source": [
    "test = Solution()\n",
    "h = [1,8,6,2,5,4,8,3,7]\n",
    "test.maxArea(h)"
   ]
  },
  {
   "cell_type": "markdown",
   "metadata": {},
   "source": [
    "**分析**：\n",
    "* 距离越远，盛水越多\n",
    "* 盛水量受小的一边限制"
   ]
  },
  {
   "cell_type": "markdown",
   "metadata": {},
   "source": [
    "### 第二次"
   ]
  },
  {
   "cell_type": "code",
   "execution_count": 11,
   "metadata": {},
   "outputs": [],
   "source": [
    "class Solution:\n",
    "    def maxArea(self, height):\n",
    "        res = 0                 # 盛水量\n",
    "        left, right = 0, len(height)-1\n",
    "        while left < right:   \n",
    "            if height[left] < height[right]:              # 若左边柱子低\n",
    "                res = max(res, height[left]*(right-left)) # 更新盛水量\n",
    "                left += 1                                 # 左指针右移\n",
    "            else:                                         # 若右边柱子低\n",
    "                res = max(res, height[right]*(right-left))# 更新盛水量\n",
    "                right -= 1                                # 右指针左移\n",
    "        return res"
   ]
  },
  {
   "cell_type": "code",
   "execution_count": 12,
   "metadata": {},
   "outputs": [
    {
     "data": {
      "text/plain": [
       "49"
      ]
     },
     "execution_count": 12,
     "metadata": {},
     "output_type": "execute_result"
    }
   ],
   "source": [
    "test = Solution()\n",
    "height = [1,8,6,2,5,4,8,3,7]\n",
    "test.maxArea(height)"
   ]
  },
  {
   "cell_type": "code",
   "execution_count": null,
   "metadata": {},
   "outputs": [],
   "source": []
  }
 ],
 "metadata": {
  "kernelspec": {
   "display_name": "Python 3",
   "language": "python",
   "name": "python3"
  },
  "language_info": {
   "codemirror_mode": {
    "name": "ipython",
    "version": 3
   },
   "file_extension": ".py",
   "mimetype": "text/x-python",
   "name": "python",
   "nbconvert_exporter": "python",
   "pygments_lexer": "ipython3",
   "version": "3.7.0"
  }
 },
 "nbformat": 4,
 "nbformat_minor": 2
}

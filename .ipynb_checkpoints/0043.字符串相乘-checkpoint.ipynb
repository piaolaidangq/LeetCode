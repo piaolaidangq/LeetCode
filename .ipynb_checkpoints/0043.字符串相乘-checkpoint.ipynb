{
 "cells": [
  {
   "cell_type": "code",
   "execution_count": 22,
   "metadata": {},
   "outputs": [],
   "source": [
    "# 利用乘法规则，进位符\n",
    "class Solution:\n",
    "    def multiply(self, num1: str, num2: str) -> str:\n",
    "        len1, len2 = len(num1), len(num2)\n",
    "        res = 0\n",
    "        for index1, c1 in enumerate(num1[::-1]):\n",
    "            sum_t, carry = 0, 0\n",
    "            for index2, c2 in enumerate(num2[::-1]):\n",
    "                num_t = int(c1) * int(c2) + carry\n",
    "                sum_t += (num_t % 10) * 10 ** index2\n",
    "                carry = num_t // 10\n",
    "            sum_t += carry * 10 ** (index2 + 1)\n",
    "            res += sum_t * 10 ** index1\n",
    "        return str(res)"
   ]
  },
  {
   "cell_type": "code",
   "execution_count": 27,
   "metadata": {},
   "outputs": [],
   "source": [
    "# 利用乘法规则，不使用进位符\n",
    "class Solution:\n",
    "    def multiply(self, num1: str, num2: str) -> str:\n",
    "        res = 0\n",
    "        for i in range(1, len(num1) + 1):\n",
    "            for j in range(1, len(num2) + 1):\n",
    "                res += int(num1[-i]) * int(num2[-j]) * 10 ** (i + j - 2)\n",
    "        return str(res)"
   ]
  },
  {
   "cell_type": "code",
   "execution_count": 28,
   "metadata": {},
   "outputs": [
    {
     "name": "stdout",
     "output_type": "stream",
     "text": [
      "6\n",
      "56088\n"
     ]
    }
   ],
   "source": [
    "test = Solution()\n",
    "num1_li = [\"2\", \"123\"]\n",
    "num2_li = [\"3\", \"456\"]\n",
    "for num1, num2 in zip(num1_li, num2_li):\n",
    "    print(test.multiply(num1, num2))"
   ]
  },
  {
   "cell_type": "markdown",
   "metadata": {},
   "source": [
    "\"6\" \"56088\""
   ]
  },
  {
   "cell_type": "markdown",
   "metadata": {},
   "source": [
    "### 查看字符ASCII编码"
   ]
  },
  {
   "cell_type": "code",
   "execution_count": 31,
   "metadata": {},
   "outputs": [
    {
     "data": {
      "text/plain": [
       "97"
      ]
     },
     "execution_count": 31,
     "metadata": {},
     "output_type": "execute_result"
    }
   ],
   "source": [
    "ord('a')"
   ]
  },
  {
   "cell_type": "markdown",
   "metadata": {},
   "source": [
    "### 第二次"
   ]
  },
  {
   "cell_type": "code",
   "execution_count": 9,
   "metadata": {},
   "outputs": [],
   "source": [
    "class Solution:\n",
    "    def multiply(self, num1, num2):\n",
    "        if num1=='0' or num2=='0':\n",
    "            return 0\n",
    "        num1 = num1[::-1]\n",
    "        num2 = num2[::-1]\n",
    "        res = 0\n",
    "        for i,x in enumerate(num1):\n",
    "            for j,y in enumerate(num2):\n",
    "                res += (ord(x)-ord('0')) * (ord(y)-ord('0')) * 10**(i+j) \n",
    "        return res"
   ]
  },
  {
   "cell_type": "code",
   "execution_count": 15,
   "metadata": {},
   "outputs": [],
   "source": [
    "class Solution:\n",
    "    def multiply(self, num1, num2):\n",
    "        if num1=='0' or num2=='0':\n",
    "            return '0'\n",
    "\n",
    "        res = 0\n",
    "        for i in range(1, len(num1)+1):\n",
    "            for j in range(1, len(num2)+1):\n",
    "                res += (ord(num1[-i])-ord('0')) * (ord(num2[-j])-ord('0')) * 10**(i+j-2) \n",
    "        return str(res)"
   ]
  },
  {
   "cell_type": "code",
   "execution_count": 14,
   "metadata": {},
   "outputs": [
    {
     "name": "stdout",
     "output_type": "stream",
     "text": [
      "6\n",
      "56088\n"
     ]
    }
   ],
   "source": [
    "test = Solution()\n",
    "num1_li = [\"2\", \"123\"]\n",
    "num2_li = [\"3\", \"456\"]\n",
    "for num1, num2 in zip(num1_li, num2_li):\n",
    "    print(test.multiply(num1, num2))"
   ]
  },
  {
   "cell_type": "code",
   "execution_count": null,
   "metadata": {},
   "outputs": [],
   "source": []
  }
 ],
 "metadata": {
  "kernelspec": {
   "display_name": "Python 3",
   "language": "python",
   "name": "python3"
  },
  "language_info": {
   "codemirror_mode": {
    "name": "ipython",
    "version": 3
   },
   "file_extension": ".py",
   "mimetype": "text/x-python",
   "name": "python",
   "nbconvert_exporter": "python",
   "pygments_lexer": "ipython3",
   "version": "3.7.0"
  }
 },
 "nbformat": 4,
 "nbformat_minor": 2
}

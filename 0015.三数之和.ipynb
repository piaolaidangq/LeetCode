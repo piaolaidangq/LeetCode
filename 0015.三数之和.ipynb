{
 "cells": [
  {
   "cell_type": "code",
   "execution_count": 4,
   "metadata": {},
   "outputs": [],
   "source": [
    "# 排序后，左右指针遍历\n",
    "class Solution:\n",
    "    def threeSum(self, nums):\n",
    "        nums.sort()\n",
    "        res = []\n",
    "        for i in range(len(nums)-2):\n",
    "            left, right = i + 1 , len(nums) - 1\n",
    "            while left < right:\n",
    "                if nums[i] + nums[left] + nums[right] == 0:\n",
    "                    if [nums[i], nums[left], nums[right]] not in res:\n",
    "                        res.append([nums[i], nums[left], nums[right]])\n",
    "                    left += 1\n",
    "                    right -= 1\n",
    "                elif nums[i] + nums[left] + nums[right] < 0:\n",
    "                    left += 1\n",
    "                else:\n",
    "                    right -= 1\n",
    "        return res"
   ]
  },
  {
   "cell_type": "code",
   "execution_count": null,
   "metadata": {},
   "outputs": [],
   "source": []
  },
  {
   "cell_type": "markdown",
   "metadata": {},
   "source": [
    "**分析**：该方法超时"
   ]
  },
  {
   "cell_type": "code",
   "execution_count": 1,
   "metadata": {},
   "outputs": [],
   "source": [
    "# 排序后，左右指针遍历，跳过重复匹配值\n",
    "class Solution:\n",
    "    def threeSum(self, nums):\n",
    "        nums.sort()\n",
    "        res = []\n",
    "        for i in range(len(nums)-2):\n",
    "            if i > 0 and nums[i] == nums[i - 1]:    # 排序后nums，若当前数字等于前一个数组（前一个数字一找到所有匹配）则跳过\n",
    "                continue\n",
    "            left, right = i + 1 , len(nums) - 1\n",
    "            while left < right:\n",
    "                if nums[i] + nums[left] + nums[right] == 0:\n",
    "                    res.append([nums[i], nums[left], nums[right]])\n",
    "                    while left + 1 < len(nums) and nums[left] == nums[left + 1]:   # 左指针跳过已匹配的数字\n",
    "                        left += 1\n",
    "                    left += 1\n",
    "                    while right - 1 > 0 and nums[right] == nums[right - 1]:        # 右指针跳过已匹配的数字\n",
    "                        right -= 1\n",
    "                    right -= 1\n",
    "                elif nums[i] + nums[left] + nums[right] < 0:\n",
    "                    left += 1\n",
    "                else:\n",
    "                    right -= 1\n",
    "        return res"
   ]
  },
  {
   "cell_type": "code",
   "execution_count": 2,
   "metadata": {},
   "outputs": [
    {
     "name": "stdout",
     "output_type": "stream",
     "text": [
      "[[-1, -1, 2], [-1, 0, 1]]\n",
      "[[0, 0, 0]]\n"
     ]
    }
   ],
   "source": [
    "test = Solution()\n",
    "nums_li = [[-1, 0, 1, 2, -1, -4], [0,0,0]]\n",
    "for nums in nums_li:\n",
    "    print(test.threeSum(nums))"
   ]
  },
  {
   "cell_type": "markdown",
   "metadata": {},
   "source": [
    "[\n",
    "  [-1, 0, 1],\n",
    "  [-1, -1, 2]\n",
    "]\n",
    "\n",
    "[0,0,0]"
   ]
  },
  {
   "cell_type": "markdown",
   "metadata": {},
   "source": [
    "### 第二次"
   ]
  },
  {
   "cell_type": "markdown",
   "metadata": {},
   "source": [
    "**思路**：\n",
    "* 排序\n",
    "* 从头遍历，固定第 i 个元素，双指针从 i+1、len(nums)-1 处向中间遍历，寻找和为 0 的组合；\n",
    "* 遍历过程中，跳过重复元素"
   ]
  },
  {
   "cell_type": "code",
   "execution_count": 3,
   "metadata": {},
   "outputs": [],
   "source": [
    "class Solution:\n",
    "    def threeSum(self, nums):\n",
    "        nums.sort()                          # 排序\n",
    "        res = []\n",
    "        for i in range(len(nums)-2):        # 头部遍历\n",
    "            if i>0 and nums[i]==nums[i-1]:  # 跳过重复元素\n",
    "                continue\n",
    "            left, right = i+1, len(nums)-1\n",
    "            while left < right:              # 双指针遍历\n",
    "                if nums[left]+nums[right] == -nums[i]:     \n",
    "                    res.append([nums[i], nums[left], nums[right]])            # 满足条件添加组合\n",
    "                    while left+1 < len(nums) and nums[left]==nums[left+1]:  # left跳过重复元素\n",
    "                        left += 1\n",
    "                    left += 1\n",
    "                    while right-1 > 0 and nums[right]==nums[right-1]:       # right跳过重复元素\n",
    "                        right -= 1\n",
    "                    right -= 1\n",
    "                elif nums[left]+nums[right] > -nums[i]:\n",
    "                    right -= 1\n",
    "                else:\n",
    "                    left += 1\n",
    "        return res"
   ]
  },
  {
   "cell_type": "code",
   "execution_count": 4,
   "metadata": {},
   "outputs": [
    {
     "name": "stdout",
     "output_type": "stream",
     "text": [
      "[[-1, -1, 2], [-1, 0, 1]]\n",
      "[[0, 0, 0]]\n"
     ]
    }
   ],
   "source": [
    "test = Solution()\n",
    "nums_li = [[-1, 0, 1, 2, -1, -4], [0,0,0]]\n",
    "for nums in nums_li:\n",
    "    print(test.threeSum(nums))"
   ]
  },
  {
   "cell_type": "code",
   "execution_count": null,
   "metadata": {},
   "outputs": [],
   "source": []
  }
 ],
 "metadata": {
  "kernelspec": {
   "display_name": "Python 3",
   "language": "python",
   "name": "python3"
  },
  "language_info": {
   "codemirror_mode": {
    "name": "ipython",
    "version": 3
   },
   "file_extension": ".py",
   "mimetype": "text/x-python",
   "name": "python",
   "nbconvert_exporter": "python",
   "pygments_lexer": "ipython3",
   "version": "3.7.0"
  }
 },
 "nbformat": 4,
 "nbformat_minor": 2
}

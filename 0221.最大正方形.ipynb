{
 "cells": [
  {
   "cell_type": "code",
   "execution_count": 26,
   "metadata": {},
   "outputs": [],
   "source": [
    "# 暴力\n",
    "class Solution:\n",
    "    def maximalSquare(self, matrix):\n",
    "        if not matrix:\n",
    "            return 0\n",
    "        m, n = len(matrix), len(matrix[0])\n",
    "        res = 0\n",
    "        for i in range(m):\n",
    "            for j in range(n):\n",
    "                if matrix[i][j] == '1':\n",
    "                    cur = self.find_squ(matrix, i, j, m, n)\n",
    "                    if cur > res:\n",
    "                        res = cur\n",
    "        return res\n",
    "    def find_squ(self, matrix, i, j, m, n):\n",
    "        squ_flag = True\n",
    "        scale, cur = 1, 1\n",
    "        while scale+i<m and scale+j <n:\n",
    "            for x in range(i, i+scale+1):\n",
    "                if matrix[x][j+scale] != '1':\n",
    "                    squ_flag = False\n",
    "                    break\n",
    "            for y in range(j,j+scale+1):\n",
    "                if matrix[i+scale][y] != '1':\n",
    "                    squ_flag = False\n",
    "                    break\n",
    "            if not squ_flag:\n",
    "                break\n",
    "            else:\n",
    "                cur = (scale+1)**2\n",
    "            scale += 1\n",
    "        return cur"
   ]
  },
  {
   "cell_type": "code",
   "execution_count": 40,
   "metadata": {},
   "outputs": [],
   "source": [
    "# 动态规划（二维）\n",
    "class Solution:\n",
    "    def maximalSquare(self, matrix):\n",
    "        if not matrix:\n",
    "            return 0\n",
    "        m, n = len(matrix), len(matrix[0])\n",
    "        dp = [[0]*(n+1) for _ in range(m+1)]\n",
    "        res = 0\n",
    "        for i in range(m):\n",
    "            for j in range(n):\n",
    "                if matrix[i][j] == '1':\n",
    "                    dp[i+1][j+1] = min(dp[i][j+1], dp[i+1][j], dp[i][j])+1\n",
    "                    if dp[i+1][j+1]**2 > res:\n",
    "                        res = dp[i+1][j+1]**2\n",
    "        return res"
   ]
  },
  {
   "cell_type": "code",
   "execution_count": 46,
   "metadata": {},
   "outputs": [],
   "source": [
    "# 动态规划（一维）\n",
    "class Solution:\n",
    "    def maximalSquare(self, matrix):\n",
    "        if not matrix:\n",
    "            return 0\n",
    "        m, n = len(matrix), len(matrix[0])\n",
    "        dp = [0]*(n+1)\n",
    "        res = 0\n",
    "        for i in range(m):\n",
    "            dp_new = [0]*(n+1)\n",
    "            for j in range(n):\n",
    "                if matrix[i][j] == '1':\n",
    "                    dp_new[j+1] = min(dp_new[j], dp[j], dp[j+1])+1\n",
    "                    if dp_new[j+1] > res:\n",
    "                        res = dp_new[j+1]\n",
    "            dp = dp_new\n",
    "        return res**2"
   ]
  },
  {
   "cell_type": "code",
   "execution_count": 47,
   "metadata": {},
   "outputs": [
    {
     "data": {
      "text/plain": [
       "4"
      ]
     },
     "execution_count": 47,
     "metadata": {},
     "output_type": "execute_result"
    }
   ],
   "source": [
    "test = Solution()\n",
    "matrix = [['1', '0', '1', '0', '0'],\n",
    "          ['1', '0', '1', '1', '1'],\n",
    "          ['1', '1', '1', '1', '1'],\n",
    "          ['1', '0', '0', '1', '0']\n",
    "         ]\n",
    "test.maximalSquare(matrix)"
   ]
  },
  {
   "cell_type": "markdown",
   "metadata": {},
   "source": [
    "输入: \n",
    "\n",
    "1 0 1 0 0\n",
    "\n",
    "1 0 1 1 1\n",
    "\n",
    "1 1 1 1 1\n",
    "\n",
    "1 0 0 1 0\n",
    "\n",
    "输出: 4"
   ]
  },
  {
   "cell_type": "code",
   "execution_count": null,
   "metadata": {},
   "outputs": [],
   "source": []
  }
 ],
 "metadata": {
  "kernelspec": {
   "display_name": "Python 3",
   "language": "python",
   "name": "python3"
  },
  "language_info": {
   "codemirror_mode": {
    "name": "ipython",
    "version": 3
   },
   "file_extension": ".py",
   "mimetype": "text/x-python",
   "name": "python",
   "nbconvert_exporter": "python",
   "pygments_lexer": "ipython3",
   "version": "3.7.0"
  }
 },
 "nbformat": 4,
 "nbformat_minor": 2
}

{
 "cells": [
  {
   "cell_type": "code",
   "execution_count": 41,
   "metadata": {},
   "outputs": [],
   "source": [
    "class Solution:\n",
    "    def longestPalindrome(self, s):\n",
    "        # Manacher\n",
    "        s = '$#'+'#'.join(s)+'#'\n",
    "        size = len(s)\n",
    "        p = [1]\n",
    "        pos, mx = 0, 1\n",
    "        for i in range(1, size):\n",
    "            if mx > i:\n",
    "                p.append(min(p[2 * pos - i], mx - i))\n",
    "            else:\n",
    "                p.append(1)\n",
    "            while i + p[i] < size and i - p[i] >= 0 and s[i + p[i]] == s[i - p[i]]:\n",
    "                p[i] += 1\n",
    "            if mx < i + p[i]:\n",
    "                mx = i + p[i]\n",
    "                pos = i\n",
    "        result = ''\n",
    "        len_max = max(p)\n",
    "        pos = p.index(len_max)\n",
    "        for i in range(pos-len_max+2, pos+len_max, 2):\n",
    "            result += s[i]\n",
    "        return result"
   ]
  },
  {
   "cell_type": "code",
   "execution_count": 42,
   "metadata": {},
   "outputs": [
    {
     "data": {
      "text/plain": [
       "'bab'"
      ]
     },
     "execution_count": 42,
     "metadata": {},
     "output_type": "execute_result"
    }
   ],
   "source": [
    "test = Solution()\n",
    "s1 = \"babad\"\n",
    "test.longestPalindrome(s1)"
   ]
  },
  {
   "cell_type": "code",
   "execution_count": 43,
   "metadata": {},
   "outputs": [
    {
     "data": {
      "text/plain": [
       "'bb'"
      ]
     },
     "execution_count": 43,
     "metadata": {},
     "output_type": "execute_result"
    }
   ],
   "source": [
    "s2 = \"cbbd\"\n",
    "test.longestPalindrome(s2)"
   ]
  },
  {
   "cell_type": "markdown",
   "metadata": {},
   "source": [
    "执行结果：通过  显示详情\n",
    "执行用时 :120 ms, 在所有 Python3 提交中击败了92.24% 的用户\n",
    "内存消耗 :13.9 MB, 在所有 Python3 提交中击败了18.96%的用户"
   ]
  },
  {
   "cell_type": "markdown",
   "metadata": {},
   "source": [
    "### Manacher算法\n",
    "\n",
    "#### 步骤\n",
    "\n",
    "- 字符串用 '#' 分隔，头部添加 '$'\n",
    "\n",
    "  如：s = '122123' -----> s = '$#1#2#2#1#2#3#'\n",
    "\n",
    "- 列表 p 记录字符串 s[i] 为中心的最长回文字串长度\n",
    "\n",
    "- 求 p[i]：记录 0 ... i-1 中最长回文字串的中心位置 pos 和 边界位置 (mi, mx)\n",
    "\n",
    "  - 若 mx > i\n",
    "    - 则 p[i] 等于对应位置 j 的 p[j] 和 mx-i 的较小值，因为不能超出 mx 边界。\n",
    "  - 否则 p[i] 初始化为 1\n",
    "  - 循环判断 s[p[i]+i] 是否与 s[p[i]-i] 相等，更新 p[i]\n",
    "  - 若 p[i]+i > mx，更新 mx 和 pos\n",
    "\n",
    "- 返回 p 最大值的 pos，根据最长回文字串的长度遍历得到最长回文字串\n",
    "\n",
    "#### 附：\n",
    "\n",
    "- 若方便理解 pos 位置的边界为 [mi,mx] 时：\n",
    "  - mx >= i\n",
    "  - p[i] = min(p[2*pos-1], mx-i+1)\n",
    "  - mx = i+p[i]-1\n",
    "- 也可用暴力枚举法"
   ]
  },
  {
   "cell_type": "code",
   "execution_count": null,
   "metadata": {},
   "outputs": [],
   "source": []
  }
 ],
 "metadata": {
  "kernelspec": {
   "display_name": "Python 3",
   "language": "python",
   "name": "python3"
  },
  "language_info": {
   "codemirror_mode": {
    "name": "ipython",
    "version": 3
   },
   "file_extension": ".py",
   "mimetype": "text/x-python",
   "name": "python",
   "nbconvert_exporter": "python",
   "pygments_lexer": "ipython3",
   "version": "3.7.0"
  }
 },
 "nbformat": 4,
 "nbformat_minor": 2
}

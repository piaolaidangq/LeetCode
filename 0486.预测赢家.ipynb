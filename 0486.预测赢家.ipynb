{
 "cells": [
  {
   "cell_type": "code",
   "execution_count": 8,
   "metadata": {},
   "outputs": [],
   "source": [
    "class Solution:\n",
    "    def PredictTheWinner(self, nums):\n",
    "        n = len(nums)\n",
    "        dp = [[0]*n for _ in range(n)]        # 初始化\n",
    "        for i in range(n):\n",
    "            dp[i][i] = nums[i]\n",
    "        for i in range(n-1, -1, -1):\n",
    "            for j in range(i+1, n):\n",
    "                dp[i][j] = max(nums[i]-dp[i+1][j], nums[j]-dp[i][j-1])\n",
    "        return dp[0][n-1] >= 0"
   ]
  },
  {
   "cell_type": "code",
   "execution_count": 9,
   "metadata": {},
   "outputs": [
    {
     "name": "stdout",
     "output_type": "stream",
     "text": [
      "False\n",
      "True\n"
     ]
    }
   ],
   "source": [
    "test = Solution()\n",
    "nums_li = [[1, 5, 2], [1, 5, 233, 7]]\n",
    "for nums in nums_li:\n",
    "    print(test.PredictTheWinner(nums))"
   ]
  },
  {
   "cell_type": "code",
   "execution_count": 7,
   "metadata": {},
   "outputs": [
    {
     "data": {
      "text/plain": [
       "222"
      ]
     },
     "execution_count": 7,
     "metadata": {},
     "output_type": "execute_result"
    }
   ],
   "source": [
    "1-7+233-5"
   ]
  },
  {
   "cell_type": "markdown",
   "metadata": {},
   "source": [
    "### 搜狗2019秋招研究员试卷部分编程题合集（第一场）_牛客网"
   ]
  },
  {
   "cell_type": "markdown",
   "metadata": {},
   "source": [
    "#### 01.糖果游戏"
   ]
  },
  {
   "cell_type": "code",
   "execution_count": 19,
   "metadata": {},
   "outputs": [
    {
     "name": "stdout",
     "output_type": "stream",
     "text": [
      "4\n",
      "1\n",
      "55\n",
      "41\n",
      "2\n",
      "15\n"
     ]
    }
   ],
   "source": [
    "n = int(input())\n",
    "nums = []\n",
    "for _ in range(n):\n",
    "    nums.append(int(input()))\n",
    "user_m, pos = max(nums), nums.index(max(nums))\n",
    "nums = nums[pos+1:] + nums[:pos]\n",
    "\n",
    "def PredictTheWinner(nums):\n",
    "    n = len(nums)\n",
    "    dp = [[0]*n for _ in range(n)]        # 初始化\n",
    "    for i in range(n):\n",
    "        dp[i][i] = nums[i]\n",
    "    for i in range(n-1, -1, -1):\n",
    "        for j in range(i+1, n):\n",
    "            dp[i][j] = max(nums[i]-dp[i+1][j], nums[j]-dp[i][j-1])\n",
    "    return dp[0][n-1]\n",
    "\n",
    "print(abs(user_m-PredictTheWinner(nums)))"
   ]
  },
  {
   "cell_type": "markdown",
   "metadata": {},
   "source": [
    "#### %50"
   ]
  },
  {
   "cell_type": "code",
   "execution_count": 27,
   "metadata": {},
   "outputs": [
    {
     "name": "stdout",
     "output_type": "stream",
     "text": [
      "4\n",
      "1\n",
      "55\n",
      "41\n",
      "2\n",
      "15\n"
     ]
    }
   ],
   "source": [
    "def PredictTheWinner(user_m, nums):\n",
    "    n = len(nums)\n",
    "    dp = [[0]*n for _ in range(n)]        # 初始化\n",
    "    for i in range(n):\n",
    "        dp[i][i] = nums[i]\n",
    "    for i in range(n-1, -1, -1):\n",
    "        for j in range(i+1, n):\n",
    "            dp[i][j] = max(nums[i]-dp[i+1][j], nums[j]-dp[i][j-1])\n",
    "    return abs(user_m-dp[0][n-1])\n",
    "\n",
    "n = int(input())\n",
    "nums = []\n",
    "for _ in range(n):\n",
    "    nums.append(int(input()))\n",
    "res = []\n",
    "for i in range(len(nums)):\n",
    "    res.append(PredictTheWinner(nums[i], nums[i+1:]+nums[:i]))\n",
    "print(max(res))"
   ]
  },
  {
   "cell_type": "markdown",
   "metadata": {},
   "source": [
    "#### %70"
   ]
  },
  {
   "cell_type": "code",
   "execution_count": 30,
   "metadata": {
    "scrolled": true
   },
   "outputs": [
    {
     "name": "stdout",
     "output_type": "stream",
     "text": [
      "4\n",
      "1\n",
      "55\n",
      "41\n",
      "2\n",
      "15\n"
     ]
    }
   ],
   "source": [
    "n=int(input())\n",
    "nums=[]\n",
    "for i in range(n):\n",
    "    tmp=int(input())\n",
    "    nums.append(tmp)\n",
    "def Win(num):\n",
    "    n=len(num)\n",
    "    dp=[[0]*n for _ in range(n)]\n",
    "    for l in range(n):\n",
    "        for i in range(n-l):\n",
    "            j=i+l\n",
    "            if l<=1: dp[i][j]=max(num[i],num[j])\n",
    "            else:\n",
    "                dp[i][j]=max(min(dp[i+1][j-1],dp[i][j-2])+num[j],min(dp[i+2][j],dp[i+1][j-1])+num[i])\n",
    "    return -sum(num)+2*dp[0][n-1]  \n",
    "res=0\n",
    "for i in range(n):\n",
    "    index=i\n",
    "    num=nums[index+1:]+nums[:index]\n",
    "    res=max(res,nums[i]-Win(num))\n",
    "print(res)"
   ]
  },
  {
   "cell_type": "markdown",
   "metadata": {},
   "source": [
    "#### 100%"
   ]
  },
  {
   "cell_type": "code",
   "execution_count": null,
   "metadata": {},
   "outputs": [],
   "source": []
  }
 ],
 "metadata": {
  "kernelspec": {
   "display_name": "Python 3",
   "language": "python",
   "name": "python3"
  },
  "language_info": {
   "codemirror_mode": {
    "name": "ipython",
    "version": 3
   },
   "file_extension": ".py",
   "mimetype": "text/x-python",
   "name": "python",
   "nbconvert_exporter": "python",
   "pygments_lexer": "ipython3",
   "version": "3.7.0"
  }
 },
 "nbformat": 4,
 "nbformat_minor": 2
}

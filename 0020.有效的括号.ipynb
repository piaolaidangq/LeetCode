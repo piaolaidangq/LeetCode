{
 "cells": [
  {
   "cell_type": "code",
   "execution_count": 39,
   "metadata": {},
   "outputs": [],
   "source": [
    "class Solution:\n",
    "    def isValid(self, s):\n",
    "        if not s:\n",
    "            return True\n",
    "        \n",
    "        res = []\n",
    "        for i in range(len(s)):\n",
    "            if s[i] in {'(','[','{'}:\n",
    "                res.append(s[i])             # 进栈\n",
    "            elif not res:\n",
    "                return False                # 需要出栈，若栈为空，则返回 False\n",
    "            elif s[i] == ')' and res[-1]=='(':\n",
    "                res.pop()                    # 出栈\n",
    "            elif s[i] == ']' and res[-1]=='[':\n",
    "                res.pop()                    # 出栈\n",
    "            elif s[i] == '}' and res[-1]=='{':\n",
    "                res.pop()                    # 出栈\n",
    "            else:\n",
    "                return False\n",
    "        return not res"
   ]
  },
  {
   "cell_type": "code",
   "execution_count": 40,
   "metadata": {},
   "outputs": [
    {
     "name": "stdout",
     "output_type": "stream",
     "text": [
      "True\n",
      "True\n",
      "False\n",
      "False\n",
      "True\n",
      "False\n",
      "True\n"
     ]
    }
   ],
   "source": [
    "test = Solution()\n",
    "s_li = [\"()\", \"()[]{}\", \"(]\", \"([)]\", \"{[]}\", '())', '']\n",
    "for s in s_li:\n",
    "    print(test.isValid(s))"
   ]
  },
  {
   "cell_type": "code",
   "execution_count": null,
   "metadata": {},
   "outputs": [],
   "source": []
  }
 ],
 "metadata": {
  "kernelspec": {
   "display_name": "Python 3",
   "language": "python",
   "name": "python3"
  },
  "language_info": {
   "codemirror_mode": {
    "name": "ipython",
    "version": 3
   },
   "file_extension": ".py",
   "mimetype": "text/x-python",
   "name": "python",
   "nbconvert_exporter": "python",
   "pygments_lexer": "ipython3",
   "version": "3.7.0"
  }
 },
 "nbformat": 4,
 "nbformat_minor": 2
}

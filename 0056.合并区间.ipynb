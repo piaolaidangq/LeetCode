{
 "cells": [
  {
   "cell_type": "code",
   "execution_count": 17,
   "metadata": {},
   "outputs": [],
   "source": [
    "class Solution:\n",
    "    def merge(self, intervals):\n",
    "        n = len(intervals)\n",
    "        if n == 0:\n",
    "            return []\n",
    "        elif n == 1:\n",
    "            return intervals\n",
    "        intervals.sort()\n",
    "        i, res = 1, [intervals[0]]\n",
    "        while i < n:    \n",
    "            if intervals[i][0] <= res[-1][1]:\n",
    "                res[-1][1] = max(res[-1][1], intervals[i][1])\n",
    "            else:\n",
    "                res.append(intervals[i])\n",
    "            i += 1\n",
    "        return res"
   ]
  },
  {
   "cell_type": "code",
   "execution_count": 18,
   "metadata": {},
   "outputs": [
    {
     "name": "stdout",
     "output_type": "stream",
     "text": [
      "[[1, 6], [8, 10], [15, 18]]\n",
      "[[1, 5]]\n",
      "[[0, 4]]\n",
      "[[1, 4]]\n"
     ]
    }
   ],
   "source": [
    "test = Solution()\n",
    "intervals_li = [\n",
    "    [[1,3],[2,6],[8,10],[15,18]],\n",
    "    [[1,4],[4,5]],\n",
    "    [[1,4],[0,4]],\n",
    "    [[1,4],[2,3]]\n",
    "]\n",
    "for intervals in intervals_li:\n",
    "    print(test.merge(intervals))"
   ]
  },
  {
   "cell_type": "markdown",
   "metadata": {},
   "source": [
    "[[1,6],[8,10],[15,18]]\n",
    "\n",
    "[[1,5]]\n",
    "\n",
    "[[0,4]]\n",
    "\n",
    "[[1,4]]"
   ]
  },
  {
   "cell_type": "code",
   "execution_count": null,
   "metadata": {},
   "outputs": [],
   "source": []
  }
 ],
 "metadata": {
  "kernelspec": {
   "display_name": "Python 3",
   "language": "python",
   "name": "python3"
  },
  "language_info": {
   "codemirror_mode": {
    "name": "ipython",
    "version": 3
   },
   "file_extension": ".py",
   "mimetype": "text/x-python",
   "name": "python",
   "nbconvert_exporter": "python",
   "pygments_lexer": "ipython3",
   "version": "3.7.0"
  }
 },
 "nbformat": 4,
 "nbformat_minor": 2
}

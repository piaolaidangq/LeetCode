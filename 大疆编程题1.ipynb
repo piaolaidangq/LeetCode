{
 "cells": [
  {
   "cell_type": "markdown",
   "metadata": {},
   "source": [
    "### 题目:\n",
    "* 输入两个正整数n和m，构造一个长度为n+m的字符串，正好含有n个字母A和m个字母B,且这个字符串不能存在连续三个相同的字符，输出任意一个满足条件的字符串即可。"
   ]
  },
  {
   "cell_type": "code",
   "execution_count": 79,
   "metadata": {},
   "outputs": [],
   "source": [
    "class Solution:\n",
    "    def djTest1(self, n, m):      \n",
    "        if n > m:\n",
    "            mx_s, mx_l = 'A', n\n",
    "            mi_s, mi_l = 'B', m\n",
    "        elif m > n:\n",
    "            mx_s, mx_l = 'B', m\n",
    "            mi_s, mi_l = 'A', n\n",
    "        else:\n",
    "            return 'B'.join('A'*n)+'B'\n",
    "        \n",
    "        result = []\n",
    "        for i in range(mi_l//2):\n",
    "            result += [mx_s]*2\n",
    "            result += [mi_s]*2\n",
    "        if mi_l%2 == 1:\n",
    "            result += [mx_s]*2\n",
    "            result += mi_s\n",
    "            remain = mx_l-mi_l-1\n",
    "        else:\n",
    "            remain = mx_l-mi_l\n",
    "        j = 3\n",
    "        while remain:\n",
    "            if remain==1:\n",
    "                result.insert(j, mx_s)\n",
    "                remain -= 1\n",
    "            else:\n",
    "                result.insert(j, mx_s)\n",
    "                result.insert(j, mx_s)\n",
    "                remain -= 2\n",
    "            j += 6        \n",
    "        if result[-3:] != [mx_s] * 3:\n",
    "            return ''.join(result)\n",
    "        else:\n",
    "            return False"
   ]
  },
  {
   "cell_type": "code",
   "execution_count": 80,
   "metadata": {},
   "outputs": [
    {
     "data": {
      "text/plain": [
       "'ABABAB'"
      ]
     },
     "execution_count": 80,
     "metadata": {},
     "output_type": "execute_result"
    }
   ],
   "source": [
    "test = Solution()\n",
    "n1, m1 = 3, 3\n",
    "test.djTest1(n1, m1)"
   ]
  },
  {
   "cell_type": "code",
   "execution_count": 81,
   "metadata": {},
   "outputs": [
    {
     "data": {
      "text/plain": [
       "'BBABB'"
      ]
     },
     "execution_count": 81,
     "metadata": {},
     "output_type": "execute_result"
    }
   ],
   "source": [
    "test = Solution()\n",
    "n1, m1 = 1, 4\n",
    "test.djTest1(n1, m1)"
   ]
  },
  {
   "cell_type": "code",
   "execution_count": 82,
   "metadata": {},
   "outputs": [
    {
     "data": {
      "text/plain": [
       "'BBABBA'"
      ]
     },
     "execution_count": 82,
     "metadata": {},
     "output_type": "execute_result"
    }
   ],
   "source": [
    "test = Solution()\n",
    "n1, m1 = 2, 4\n",
    "test.djTest1(n1, m1)"
   ]
  },
  {
   "cell_type": "code",
   "execution_count": 83,
   "metadata": {},
   "outputs": [
    {
     "data": {
      "text/plain": [
       "'AABAABAABAABAAB'"
      ]
     },
     "execution_count": 83,
     "metadata": {},
     "output_type": "execute_result"
    }
   ],
   "source": [
    "test = Solution()\n",
    "n1, m1 = 10, 5\n",
    "test.djTest1(n1, m1)"
   ]
  },
  {
   "cell_type": "code",
   "execution_count": 84,
   "metadata": {},
   "outputs": [
    {
     "data": {
      "text/plain": [
       "'BBABBABB'"
      ]
     },
     "execution_count": 84,
     "metadata": {},
     "output_type": "execute_result"
    }
   ],
   "source": [
    "test = Solution()\n",
    "n1, m1 = 2, 6\n",
    "test.djTest1(n1, m1)"
   ]
  },
  {
   "cell_type": "code",
   "execution_count": 85,
   "metadata": {},
   "outputs": [
    {
     "data": {
      "text/plain": [
       "False"
      ]
     },
     "execution_count": 85,
     "metadata": {},
     "output_type": "execute_result"
    }
   ],
   "source": [
    "test = Solution()\n",
    "n1, m1 = 2, 7\n",
    "test.djTest1(n1, m1)"
   ]
  },
  {
   "cell_type": "code",
   "execution_count": 86,
   "metadata": {},
   "outputs": [
    {
     "data": {
      "text/plain": [
       "False"
      ]
     },
     "execution_count": 86,
     "metadata": {},
     "output_type": "execute_result"
    }
   ],
   "source": [
    "test = Solution()\n",
    "n1, m1 = 1, 5\n",
    "test.djTest1(n1, m1)"
   ]
  },
  {
   "cell_type": "code",
   "execution_count": null,
   "metadata": {},
   "outputs": [],
   "source": []
  }
 ],
 "metadata": {
  "kernelspec": {
   "display_name": "Python 3",
   "language": "python",
   "name": "python3"
  },
  "language_info": {
   "codemirror_mode": {
    "name": "ipython",
    "version": 3
   },
   "file_extension": ".py",
   "mimetype": "text/x-python",
   "name": "python",
   "nbconvert_exporter": "python",
   "pygments_lexer": "ipython3",
   "version": "3.7.0"
  }
 },
 "nbformat": 4,
 "nbformat_minor": 2
}

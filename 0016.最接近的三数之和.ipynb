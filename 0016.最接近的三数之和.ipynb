{
 "cells": [
  {
   "cell_type": "code",
   "execution_count": 57,
   "metadata": {},
   "outputs": [],
   "source": [
    "class Solution:\n",
    "    def threeSumClosest(self, nums, target):\n",
    "        if len(nums) < 3:\n",
    "            return None\n",
    "        \n",
    "        nums.sort()                   # 排序\n",
    "        dis = float('inf')            # 初始化距离\n",
    "        for i in range(len(nums)-2):\n",
    "            left, right = i+1, len(nums)-1\n",
    "            while left < right:\n",
    "                cur = nums[i]+nums[left]+nums[right]\n",
    "                if abs(cur-target) < dis:\n",
    "                    dis = abs(cur-target)     # 更新距离\n",
    "                    res = cur                 # 更新三数和\n",
    "                if cur < target:              \n",
    "                    left += 1\n",
    "                elif cur > target:\n",
    "                    right -= 1\n",
    "                else:                         # 若cur=target，距离最小为0，直接返回\n",
    "                    return res\n",
    "        return res"
   ]
  },
  {
   "cell_type": "code",
   "execution_count": 58,
   "metadata": {},
   "outputs": [
    {
     "name": "stdout",
     "output_type": "stream",
     "text": [
      "2\n",
      "3\n",
      "82\n"
     ]
    }
   ],
   "source": [
    "test = Solution()\n",
    "nums_li = [[-1, 2, 1, -4], [1,1,-1,-1,3], [1,2,4,8,16,32,64,128]]\n",
    "target_li = [1, 3, 82]\n",
    "for nums, target in zip(nums_li, target_li):\n",
    "    print(test.threeSumClosest(nums, target))"
   ]
  },
  {
   "cell_type": "code",
   "execution_count": null,
   "metadata": {},
   "outputs": [],
   "source": []
  }
 ],
 "metadata": {
  "kernelspec": {
   "display_name": "Python 3",
   "language": "python",
   "name": "python3"
  },
  "language_info": {
   "codemirror_mode": {
    "name": "ipython",
    "version": 3
   },
   "file_extension": ".py",
   "mimetype": "text/x-python",
   "name": "python",
   "nbconvert_exporter": "python",
   "pygments_lexer": "ipython3",
   "version": "3.7.0"
  }
 },
 "nbformat": 4,
 "nbformat_minor": 2
}

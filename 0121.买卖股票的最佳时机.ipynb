{
 "cells": [
  {
   "cell_type": "code",
   "execution_count": 6,
   "metadata": {},
   "outputs": [],
   "source": [
    "# 暴力（超时）\n",
    "class Solution:\n",
    "    def maxProfit(self, prices):\n",
    "        n = len(prices)\n",
    "        if n == 0 or n == 1:\n",
    "            return 0\n",
    "        res = []\n",
    "        for i in range(n-1):\n",
    "            cur_res = 0\n",
    "            for j in range(i+1, n):\n",
    "                if prices[j]-prices[i] > cur_res:\n",
    "                    cur_res = prices[j]-prices[i]\n",
    "            res.append(cur_res)\n",
    "        return max(res)"
   ]
  },
  {
   "cell_type": "code",
   "execution_count": 10,
   "metadata": {},
   "outputs": [],
   "source": [
    "# 暴力（超时）\n",
    "class Solution:\n",
    "    def maxProfit(self, prices):\n",
    "        n = len(prices)\n",
    "        if n == 0 or n == 1:\n",
    "            return 0\n",
    "        res = 0\n",
    "        for i in range(n-1):\n",
    "            for j in range(i+1, n):\n",
    "                if prices[j]-prices[i] > res:\n",
    "                    res = prices[j]-prices[i]\n",
    "        return res"
   ]
  },
  {
   "cell_type": "code",
   "execution_count": 12,
   "metadata": {},
   "outputs": [],
   "source": [
    "# 最小的谷，最大的差值\n",
    "class Solution:\n",
    "    def maxProfit(self, prices):\n",
    "        n = len(prices)\n",
    "        if n == 0 or n == 1:\n",
    "            return 0\n",
    "        res = 0\n",
    "        min_value = prices[0]\n",
    "        for i in range(1,n):\n",
    "            if prices[i]-min_value > res:\n",
    "                res = prices[i]-min_value\n",
    "            if prices[i] < min_value:\n",
    "                min_value = prices[i]\n",
    "        return res"
   ]
  },
  {
   "cell_type": "code",
   "execution_count": 13,
   "metadata": {},
   "outputs": [
    {
     "name": "stdout",
     "output_type": "stream",
     "text": [
      "5\n",
      "0\n"
     ]
    }
   ],
   "source": [
    "test = Solution()\n",
    "prices_li = [[7,1,5,3,6,4],\n",
    "             [7,6,4,3,1]\n",
    "            ]\n",
    "for prices in prices_li:\n",
    "    print(test.maxProfit(prices))"
   ]
  },
  {
   "cell_type": "markdown",
   "metadata": {},
   "source": [
    "#### 示例 1:\n",
    "\n",
    "输入: [7,1,5,3,6,4]\n",
    "    \n",
    "输出: 5\n",
    "\n",
    "#### 示例 2:\n",
    "\n",
    "输入: [7,6,4,3,1]\n",
    "    \n",
    "输出: 0"
   ]
  },
  {
   "cell_type": "markdown",
   "metadata": {},
   "source": [
    "### 第二次"
   ]
  },
  {
   "cell_type": "code",
   "execution_count": 3,
   "metadata": {},
   "outputs": [],
   "source": [
    "class Solution:\n",
    "    def maxProfit(self, prices):\n",
    "        if not prices:\n",
    "            return 0\n",
    "        res = 0                                  # 初始化最大利润\n",
    "        max_p = prices[-1]                       # 初始化最大股票价格\n",
    "        for i in range(len(prices)-2, -1, -1):  # 从后往前遍历  \n",
    "            res = max(res, max_p-prices[i])      # 更新最大利润\n",
    "            max_p = max(max_p, prices[i])        # 更新最高股票价格\n",
    "        return res"
   ]
  },
  {
   "cell_type": "code",
   "execution_count": 4,
   "metadata": {},
   "outputs": [
    {
     "name": "stdout",
     "output_type": "stream",
     "text": [
      "5\n",
      "0\n"
     ]
    }
   ],
   "source": [
    "test = Solution()\n",
    "prices_li = [[7,1,5,3,6,4],\n",
    "             [7,6,4,3,1]\n",
    "            ]\n",
    "for prices in prices_li:\n",
    "    print(test.maxProfit(prices))"
   ]
  },
  {
   "cell_type": "markdown",
   "metadata": {},
   "source": [
    "### 动态规划"
   ]
  },
  {
   "cell_type": "code",
   "execution_count": 1,
   "metadata": {},
   "outputs": [],
   "source": [
    "class Solution:\n",
    "    def maxProfit(self, prices):\n",
    "        if not prices:\n",
    "            return 0\n",
    "        n = len(prices)\n",
    "        # 初始化 i=0 的状态\n",
    "        dp = [[0]*2 for _ in range(n)]\n",
    "        dp[0][1] = -prices[0]\n",
    "        # 从 i=1 处开始动态转移\n",
    "        for i in range(1, n):\n",
    "            dp[i][0] = max(dp[i-1][0], dp[i-1][1]+prices[i])\n",
    "            dp[i][1] = max(dp[i-1][1], -prices[i])\n",
    "        return dp[n-1][0]"
   ]
  },
  {
   "cell_type": "code",
   "execution_count": 2,
   "metadata": {},
   "outputs": [
    {
     "name": "stdout",
     "output_type": "stream",
     "text": [
      "5\n",
      "0\n",
      "1\n"
     ]
    }
   ],
   "source": [
    "test = Solution()\n",
    "prices_li = [[7,1,5,3,6,4],\n",
    "             [7,6,4,3,1],\n",
    "             [1,2]\n",
    "            ]\n",
    "for prices in prices_li:\n",
    "    print(test.maxProfit(prices))"
   ]
  },
  {
   "cell_type": "markdown",
   "metadata": {},
   "source": [
    "### 优化动态规划（i=1 处开始迭代）"
   ]
  },
  {
   "cell_type": "code",
   "execution_count": 4,
   "metadata": {},
   "outputs": [],
   "source": [
    "class Solution:\n",
    "    def maxProfit(self, prices):\n",
    "        if not prices:\n",
    "            return 0\n",
    "        # 初始化状态\n",
    "        dp_i_0 = 0\n",
    "        dp_i_1 = -prices[0]\n",
    "        # 从 i=1 处开始迭代\n",
    "        for i in range(1, len(prices)):\n",
    "            dp_i_0 = max(dp_i_0, dp_i_1+prices[i])\n",
    "            dp_i_1 = max(dp_i_1, -prices[i])\n",
    "        return dp_i_0"
   ]
  },
  {
   "cell_type": "code",
   "execution_count": 5,
   "metadata": {},
   "outputs": [
    {
     "name": "stdout",
     "output_type": "stream",
     "text": [
      "5\n",
      "0\n",
      "1\n"
     ]
    }
   ],
   "source": [
    "test = Solution()\n",
    "prices_li = [[7,1,5,3,6,4],\n",
    "             [7,6,4,3,1],\n",
    "             [1,2]\n",
    "            ]\n",
    "for prices in prices_li:\n",
    "    print(test.maxProfit(prices))"
   ]
  },
  {
   "cell_type": "markdown",
   "metadata": {},
   "source": [
    "### 优化动态规划（i=0 处开始迭代）"
   ]
  },
  {
   "cell_type": "code",
   "execution_count": 6,
   "metadata": {},
   "outputs": [],
   "source": [
    "class Solution:\n",
    "    def maxProfit(self, prices):\n",
    "        if not prices:\n",
    "            return 0\n",
    "        # 初始化状态\n",
    "        dp_i_0 = 0\n",
    "        dp_i_1 = float('-inf')\n",
    "        # 从 i=0 处开始迭代\n",
    "        for i in range(len(prices)):\n",
    "            dp_i_0 = max(dp_i_0, dp_i_1+prices[i])\n",
    "            dp_i_1 = max(dp_i_1, -prices[i])\n",
    "        return dp_i_0"
   ]
  },
  {
   "cell_type": "code",
   "execution_count": 7,
   "metadata": {},
   "outputs": [
    {
     "name": "stdout",
     "output_type": "stream",
     "text": [
      "5\n",
      "0\n",
      "1\n"
     ]
    }
   ],
   "source": [
    "test = Solution()\n",
    "prices_li = [[7,1,5,3,6,4],\n",
    "             [7,6,4,3,1],\n",
    "             [1,2]\n",
    "            ]\n",
    "for prices in prices_li:\n",
    "    print(test.maxProfit(prices))"
   ]
  },
  {
   "cell_type": "code",
   "execution_count": null,
   "metadata": {},
   "outputs": [],
   "source": []
  }
 ],
 "metadata": {
  "kernelspec": {
   "display_name": "Python 3",
   "language": "python",
   "name": "python3"
  },
  "language_info": {
   "codemirror_mode": {
    "name": "ipython",
    "version": 3
   },
   "file_extension": ".py",
   "mimetype": "text/x-python",
   "name": "python",
   "nbconvert_exporter": "python",
   "pygments_lexer": "ipython3",
   "version": "3.7.0"
  }
 },
 "nbformat": 4,
 "nbformat_minor": 2
}

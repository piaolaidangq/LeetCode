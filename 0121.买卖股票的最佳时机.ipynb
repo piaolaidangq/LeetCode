{
 "cells": [
  {
   "cell_type": "code",
   "execution_count": 6,
   "metadata": {},
   "outputs": [],
   "source": [
    "# 暴力（超时）\n",
    "class Solution:\n",
    "    def maxProfit(self, prices):\n",
    "        n = len(prices)\n",
    "        if n == 0 or n == 1:\n",
    "            return 0\n",
    "        res = []\n",
    "        for i in range(n-1):\n",
    "            cur_res = 0\n",
    "            for j in range(i+1, n):\n",
    "                if prices[j]-prices[i] > cur_res:\n",
    "                    cur_res = prices[j]-prices[i]\n",
    "            res.append(cur_res)\n",
    "        return max(res)"
   ]
  },
  {
   "cell_type": "code",
   "execution_count": 10,
   "metadata": {},
   "outputs": [],
   "source": [
    "# 暴力（超时）\n",
    "class Solution:\n",
    "    def maxProfit(self, prices):\n",
    "        n = len(prices)\n",
    "        if n == 0 or n == 1:\n",
    "            return 0\n",
    "        res = 0\n",
    "        for i in range(n-1):\n",
    "            for j in range(i+1, n):\n",
    "                if prices[j]-prices[i] > res:\n",
    "                    res = prices[j]-prices[i]\n",
    "        return res"
   ]
  },
  {
   "cell_type": "code",
   "execution_count": 12,
   "metadata": {},
   "outputs": [],
   "source": [
    "# 最小的谷，最大的差值\n",
    "class Solution:\n",
    "    def maxProfit(self, prices):\n",
    "        n = len(prices)\n",
    "        if n == 0 or n == 1:\n",
    "            return 0\n",
    "        res = 0\n",
    "        min_value = prices[0]\n",
    "        for i in range(1,n):\n",
    "            if prices[i]-min_value > res:\n",
    "                res = prices[i]-min_value\n",
    "            if prices[i] < min_value:\n",
    "                min_value = prices[i]\n",
    "        return res"
   ]
  },
  {
   "cell_type": "code",
   "execution_count": 13,
   "metadata": {},
   "outputs": [
    {
     "name": "stdout",
     "output_type": "stream",
     "text": [
      "5\n",
      "0\n"
     ]
    }
   ],
   "source": [
    "test = Solution()\n",
    "prices_li = [[7,1,5,3,6,4],\n",
    "             [7,6,4,3,1]\n",
    "            ]\n",
    "for prices in prices_li:\n",
    "    print(test.maxProfit(prices))"
   ]
  },
  {
   "cell_type": "markdown",
   "metadata": {},
   "source": [
    "#### 示例 1:\n",
    "\n",
    "输入: [7,1,5,3,6,4]\n",
    "    \n",
    "输出: 5\n",
    "\n",
    "#### 示例 2:\n",
    "\n",
    "输入: [7,6,4,3,1]\n",
    "    \n",
    "输出: 0"
   ]
  },
  {
   "cell_type": "code",
   "execution_count": null,
   "metadata": {},
   "outputs": [],
   "source": []
  }
 ],
 "metadata": {
  "kernelspec": {
   "display_name": "Python 3",
   "language": "python",
   "name": "python3"
  },
  "language_info": {
   "codemirror_mode": {
    "name": "ipython",
    "version": 3
   },
   "file_extension": ".py",
   "mimetype": "text/x-python",
   "name": "python",
   "nbconvert_exporter": "python",
   "pygments_lexer": "ipython3",
   "version": "3.7.0"
  }
 },
 "nbformat": 4,
 "nbformat_minor": 2
}

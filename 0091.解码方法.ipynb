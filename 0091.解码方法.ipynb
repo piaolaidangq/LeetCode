{
 "cells": [
  {
   "cell_type": "code",
   "execution_count": 31,
   "metadata": {},
   "outputs": [],
   "source": [
    "class Solution:\n",
    "    def numDecodings(self, s):\n",
    "        if not s or s[0]=='0':\n",
    "            return 0\n",
    "        \n",
    "        dp = [1, 1]                          \n",
    "        for i in range(1, len(s)):\n",
    "            if s[i-1:i+1] == '00' or (s[i]=='0' and s[i-1]>'2'):    # \n",
    "                return 0\n",
    "            if '1'<=s[i-1:i+1]<='26' and s[i]!='0':                 # \n",
    "                dp.append(dp[-2]+dp[-1])\n",
    "            elif s[i-1]=='0':                                        # \n",
    "                dp.append(dp[-1])\n",
    "            elif s[i]=='0':\n",
    "                dp.append(dp[-2])\n",
    "            else:\n",
    "                dp.append(dp[-1])\n",
    "                \n",
    "        return dp[-1]"
   ]
  },
  {
   "cell_type": "code",
   "execution_count": 34,
   "metadata": {},
   "outputs": [
    {
     "name": "stdout",
     "output_type": "stream",
     "text": [
      "2\n",
      "3\n",
      "4\n"
     ]
    }
   ],
   "source": [
    "test = Solution()\n",
    "s_li = [\"12\", \"226\", \"24726\"]\n",
    "for s in s_li:\n",
    "    print(test.numDecodings(s))"
   ]
  },
  {
   "cell_type": "code",
   "execution_count": 1,
   "metadata": {},
   "outputs": [],
   "source": [
    "class Solution:\n",
    "    def numDecodings(self, s):\n",
    "        if not s or s[0]=='0':    # s 为空或 s 头部为 '0' 则返回 0\n",
    "            return 0\n",
    "        \n",
    "        dp = [1, 1]                # 初始化 dp  \n",
    "        for i in range(1, len(s)):\n",
    "            if s[i-1:i+1] == '00' or (s[i]=='0' and s[i-1]>'2'):    # 直接返回 0 的情况（00、30、40....）\n",
    "                return 0\n",
    "            if '1'<=s[i-1:i+1]<='26' and s[i]!='0':                 # 可单字符和双字符解码的情况（11~19、21~26）\n",
    "                dp.append(dp[-2]+dp[-1])\n",
    "            elif s[i]=='0':                                          # 只能双字符解码的情况（10、20）\n",
    "                dp.append(dp[-2])\n",
    "            else:\n",
    "                dp.append(dp[-1])                                     # 只能单字符解码的情况（01~09、27~29、31~39...）\n",
    "                \n",
    "        return dp[-1]"
   ]
  },
  {
   "cell_type": "code",
   "execution_count": 2,
   "metadata": {},
   "outputs": [
    {
     "name": "stdout",
     "output_type": "stream",
     "text": [
      "2\n",
      "3\n",
      "4\n"
     ]
    }
   ],
   "source": [
    "test = Solution()\n",
    "s_li = [\"12\", \"226\", \"24726\"]\n",
    "for s in s_li:\n",
    "    print(test.numDecodings(s))"
   ]
  },
  {
   "cell_type": "code",
   "execution_count": null,
   "metadata": {},
   "outputs": [],
   "source": []
  }
 ],
 "metadata": {
  "kernelspec": {
   "display_name": "Python 3",
   "language": "python",
   "name": "python3"
  },
  "language_info": {
   "codemirror_mode": {
    "name": "ipython",
    "version": 3
   },
   "file_extension": ".py",
   "mimetype": "text/x-python",
   "name": "python",
   "nbconvert_exporter": "python",
   "pygments_lexer": "ipython3",
   "version": "3.7.0"
  }
 },
 "nbformat": 4,
 "nbformat_minor": 2
}

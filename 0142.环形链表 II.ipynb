{
 "cells": [
  {
   "cell_type": "code",
   "execution_count": 19,
   "metadata": {},
   "outputs": [],
   "source": [
    "class ListNode(object):\n",
    "    def __init__(self, x):\n",
    "        self.val = x\n",
    "        self.next = None\n",
    "\n",
    "# 使用set\n",
    "class Solution(object):\n",
    "    def detectCycle(self, head):\n",
    "        if not head:\n",
    "            return None\n",
    "        visited = set()\n",
    "        \n",
    "        while head:\n",
    "            if not head.next:\n",
    "                return None\n",
    "            if head in visited:\n",
    "                return head\n",
    "            else:\n",
    "                visited.add(head)\n",
    "            head = head.next"
   ]
  },
  {
   "cell_type": "code",
   "execution_count": 1,
   "metadata": {},
   "outputs": [],
   "source": [
    "class ListNode(object):\n",
    "    def __init__(self, x):\n",
    "        self.val = x\n",
    "        self.next = None\n",
    "        \n",
    "# 快慢指针\n",
    "class Solution(object):\n",
    "    def detectCycle(self, head):    \n",
    "        res = head\n",
    "        slow = fast = head\n",
    "        while fast and fast.next:                 \n",
    "            slow, fast = slow.next, fast.next.next\n",
    "            if slow == fast:            # 快慢指针相遇       \n",
    "                while res != slow:      # 寻找入环节点\n",
    "                    res, slow = res.next, slow.next\n",
    "                return res       \n",
    "        return None"
   ]
  },
  {
   "cell_type": "code",
   "execution_count": 2,
   "metadata": {},
   "outputs": [
    {
     "name": "stdout",
     "output_type": "stream",
     "text": [
      "<__main__.ListNode object at 0x0000000005039D30> 2\n",
      "<__main__.ListNode object at 0x0000000005039CF8> 1\n",
      "None\n"
     ]
    }
   ],
   "source": [
    "head_li = [[3,2,0,-4], [1,2], [1]]\n",
    "pos_li = [1, 0, -1]\n",
    "test = Solution()\n",
    "for it, pos in zip(head_li, pos_li):\n",
    "    # 创建循环链表\n",
    "    head = cur = ListNode(None)\n",
    "    have = None\n",
    "    for i in range(len(it)):\n",
    "        cur.next = ListNode(it[i])\n",
    "        if i == pos:\n",
    "            have = cur.next\n",
    "        if i == len(it)-1 and have:\n",
    "            cur.next.next = have\n",
    "        cur = cur.next\n",
    "    head = head.next\n",
    "    res = test.detectCycle(head)\n",
    "    if res:\n",
    "        print(res, res.val)\n",
    "    else:\n",
    "        print(res)"
   ]
  },
  {
   "cell_type": "markdown",
   "metadata": {},
   "source": [
    "**分析**：返回节点"
   ]
  },
  {
   "cell_type": "markdown",
   "metadata": {},
   "source": [
    "位置1处节点  2\n",
    "\n",
    "位置0处节点  1\n",
    "\n",
    "位置-1处无节点"
   ]
  },
  {
   "cell_type": "markdown",
   "metadata": {},
   "source": [
    "### 第二次"
   ]
  },
  {
   "cell_type": "markdown",
   "metadata": {},
   "source": [
    "### 哈希法"
   ]
  },
  {
   "cell_type": "code",
   "execution_count": 14,
   "metadata": {},
   "outputs": [],
   "source": [
    "class ListNode(object):\n",
    "    def __init__(self, x):\n",
    "        self.val = x\n",
    "        self.next = None\n",
    "\n",
    "class Solution(object):\n",
    "    def detectCycle(self, head):\n",
    "        visited = set()\n",
    "        while head:\n",
    "            if head in visited:\n",
    "                return head\n",
    "            else:\n",
    "                visited.add(head)\n",
    "                head = head.next\n",
    "        return None"
   ]
  },
  {
   "cell_type": "code",
   "execution_count": 15,
   "metadata": {},
   "outputs": [
    {
     "name": "stdout",
     "output_type": "stream",
     "text": [
      "2\n",
      "1\n",
      "None\n"
     ]
    }
   ],
   "source": [
    "def buil_cycle_link(nums, pos):\n",
    "    '''创建循环链表'''\n",
    "    res = cur = ListNode(None)\n",
    "    meet = None\n",
    "    for i in range(len(nums)):\n",
    "        cur.next = ListNode(nums[i])\n",
    "        cur = cur.next\n",
    "        if i==pos:\n",
    "            meet = cur\n",
    "    if meet:\n",
    "        cur.next = meet\n",
    "    return res.next\n",
    "\n",
    "nums_li = [[3,2,0,-4], [1,2], [1]]\n",
    "pos_li = [1, 0, -1]\n",
    "test = Solution()\n",
    "for nums, pos in zip(head_li, pos_li):\n",
    "    head = buil_cycle_link(nums, pos)    # 创建循环链表\n",
    "    res = test.detectCycle(head)         # 寻找循环链表交点\n",
    "    if res:\n",
    "        print(res.val)\n",
    "    else:\n",
    "        print(res)"
   ]
  },
  {
   "cell_type": "markdown",
   "metadata": {},
   "source": [
    "### 快慢指针法"
   ]
  },
  {
   "cell_type": "code",
   "execution_count": 16,
   "metadata": {},
   "outputs": [],
   "source": [
    "class ListNode(object):\n",
    "    def __init__(self, x):\n",
    "        self.val = x\n",
    "        self.next = None\n",
    "\n",
    "class Solution(object):\n",
    "    def detectCycle(self, head):\n",
    "        if not head:\n",
    "            return None\n",
    "        slow = fast = head\n",
    "        while fast and fast.next:\n",
    "            slow, fast = slow.next, fast.next.next\n",
    "            if slow == fast:\n",
    "                while head != slow:\n",
    "                    head, slow = head.next, slow.next\n",
    "                return head\n",
    "        return None"
   ]
  },
  {
   "cell_type": "code",
   "execution_count": 17,
   "metadata": {},
   "outputs": [
    {
     "name": "stdout",
     "output_type": "stream",
     "text": [
      "2\n",
      "1\n",
      "None\n"
     ]
    }
   ],
   "source": [
    "def buil_cycle_link(nums, pos):\n",
    "    '''创建循环链表'''\n",
    "    res = cur = ListNode(None)\n",
    "    meet = None\n",
    "    for i in range(len(nums)):\n",
    "        cur.next = ListNode(nums[i])\n",
    "        cur = cur.next\n",
    "        if i==pos:\n",
    "            meet = cur\n",
    "    if meet:\n",
    "        cur.next = meet\n",
    "    return res.next\n",
    "\n",
    "nums_li = [[3,2,0,-4], [1,2], [1]]\n",
    "pos_li = [1, 0, -1]\n",
    "test = Solution()\n",
    "for nums, pos in zip(head_li, pos_li):\n",
    "    head = buil_cycle_link(nums, pos)    # 创建循环链表\n",
    "    res = test.detectCycle(head)         # 寻找循环链表交点\n",
    "    if res:\n",
    "        print(res.val)\n",
    "    else:\n",
    "        print(res)"
   ]
  },
  {
   "cell_type": "markdown",
   "metadata": {},
   "source": [
    "**注意报错**: 执行出错（python）\n",
    "\n",
    "> Your returned value is not a ListNode type.\n",
    "\n",
    "提交代码时需要把 ListNode 类注释掉。（其他类型题不用）"
   ]
  },
  {
   "cell_type": "code",
   "execution_count": null,
   "metadata": {},
   "outputs": [],
   "source": []
  }
 ],
 "metadata": {
  "kernelspec": {
   "display_name": "Python 3",
   "language": "python",
   "name": "python3"
  },
  "language_info": {
   "codemirror_mode": {
    "name": "ipython",
    "version": 3
   },
   "file_extension": ".py",
   "mimetype": "text/x-python",
   "name": "python",
   "nbconvert_exporter": "python",
   "pygments_lexer": "ipython3",
   "version": "3.7.0"
  }
 },
 "nbformat": 4,
 "nbformat_minor": 2
}

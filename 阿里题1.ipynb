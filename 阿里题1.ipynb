{
 "cells": [
  {
   "cell_type": "markdown",
   "metadata": {},
   "source": [
    "### 在一次传递中找到位置的单链表的中间元素"
   ]
  },
  {
   "cell_type": "code",
   "execution_count": 1,
   "metadata": {},
   "outputs": [],
   "source": [
    "class ListNode:\n",
    "    def __init__(self, x):\n",
    "        self.val = x\n",
    "        self.next = None\n",
    "        \n",
    "class Solution:\n",
    "    def findmidvalue(self, head):\n",
    "        if not head:\n",
    "            return None\n",
    "        slow = quick = head\n",
    "        while quick.next:\n",
    "            if not quick.next.next:\n",
    "                break\n",
    "            slow = slow.next\n",
    "            quick = quick.next.next\n",
    "        if quick.next:\n",
    "            return (slow.val+slow.next.val)/2\n",
    "        else:\n",
    "            return slow.val"
   ]
  },
  {
   "cell_type": "code",
   "execution_count": 4,
   "metadata": {},
   "outputs": [
    {
     "name": "stdout",
     "output_type": "stream",
     "text": [
      "2.5\n",
      "3\n",
      "None\n",
      "1\n",
      "1.5\n"
     ]
    }
   ],
   "source": [
    "head_li = [[1,2,3,4], [1,2,3,4,5],[],[1],[1,2]]\n",
    "test = Solution()\n",
    "for it in head_li:\n",
    "    head = cur = ListNode(None)\n",
    "    for i in range(len(it)):\n",
    "        cur.next = ListNode(it[i])\n",
    "        cur = cur.next\n",
    "    head = head.next\n",
    "    print(test.findmidvalue(head))"
   ]
  },
  {
   "cell_type": "code",
   "execution_count": null,
   "metadata": {},
   "outputs": [],
   "source": []
  }
 ],
 "metadata": {
  "kernelspec": {
   "display_name": "Python 3",
   "language": "python",
   "name": "python3"
  },
  "language_info": {
   "codemirror_mode": {
    "name": "ipython",
    "version": 3
   },
   "file_extension": ".py",
   "mimetype": "text/x-python",
   "name": "python",
   "nbconvert_exporter": "python",
   "pygments_lexer": "ipython3",
   "version": "3.7.0"
  }
 },
 "nbformat": 4,
 "nbformat_minor": 2
}

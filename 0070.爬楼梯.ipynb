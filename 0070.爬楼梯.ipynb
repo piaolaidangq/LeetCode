{
 "cells": [
  {
   "cell_type": "markdown",
   "metadata": {},
   "source": [
    "### 1. 递归（超时）"
   ]
  },
  {
   "cell_type": "code",
   "execution_count": 15,
   "metadata": {},
   "outputs": [],
   "source": [
    "# 递归\n",
    "class Solution:\n",
    "    def climbStairs(self, n):\n",
    "        return self.climb(0, n)\n",
    "    \n",
    "    def climb(self, i, n):\n",
    "        if i > n:\n",
    "            return 0 \n",
    "        if i == n:\n",
    "            return 1\n",
    "        return self.climb(i+1, n) + self.climb(i+2, n)"
   ]
  },
  {
   "cell_type": "code",
   "execution_count": 16,
   "metadata": {},
   "outputs": [
    {
     "name": "stdout",
     "output_type": "stream",
     "text": [
      "2\n",
      "3\n"
     ]
    }
   ],
   "source": [
    "test = Solution()\n",
    "n_li = [2, 3]\n",
    "for n in n_li:\n",
    "    print(test.climbStairs(n))"
   ]
  },
  {
   "cell_type": "markdown",
   "metadata": {},
   "source": [
    "### 2. 记忆化递归"
   ]
  },
  {
   "cell_type": "code",
   "execution_count": 19,
   "metadata": {},
   "outputs": [],
   "source": [
    "# 记忆化递归\n",
    "class Solution:\n",
    "    def climbStairs(self, n):\n",
    "        memo = [0]*(n+1)\n",
    "        return self.climb(0, n, memo)\n",
    "    \n",
    "    def climb(self, i, n, memo):\n",
    "        if i > n:\n",
    "            return 0 \n",
    "        if i == n:\n",
    "            return 1\n",
    "        if memo[i] != 0:\n",
    "            return memo[i]\n",
    "        memo[i] = self.climb(i+1, n, memo) + self.climb(i+2, n, memo)\n",
    "        return memo[i]"
   ]
  },
  {
   "cell_type": "code",
   "execution_count": 20,
   "metadata": {},
   "outputs": [
    {
     "name": "stdout",
     "output_type": "stream",
     "text": [
      "2\n",
      "3\n",
      "14930352\n"
     ]
    }
   ],
   "source": [
    "test = Solution()\n",
    "n_li = [2, 3, 35]\n",
    "for n in n_li:\n",
    "    print(test.climbStairs(n))"
   ]
  },
  {
   "cell_type": "markdown",
   "metadata": {},
   "source": [
    "### 3. 动态规划"
   ]
  },
  {
   "cell_type": "code",
   "execution_count": 23,
   "metadata": {},
   "outputs": [],
   "source": [
    "# 动态规划\n",
    "class Solution:\n",
    "    def climbStairs(self, n):\n",
    "        if n == 1:\n",
    "            return 1\n",
    "        \n",
    "        dp = [1, 2]\n",
    "        for i in range(3, n+1):\n",
    "            dp.append(dp[-2]+dp[-1])\n",
    "        return dp[-1]"
   ]
  },
  {
   "cell_type": "code",
   "execution_count": 24,
   "metadata": {},
   "outputs": [
    {
     "name": "stdout",
     "output_type": "stream",
     "text": [
      "2\n",
      "3\n",
      "14930352\n"
     ]
    }
   ],
   "source": [
    "test = Solution()\n",
    "n_li = [2, 3, 35]\n",
    "for n in n_li:\n",
    "    print(test.climbStairs(n))"
   ]
  },
  {
   "cell_type": "markdown",
   "metadata": {},
   "source": [
    "### 4. 斐波那契数\n",
    "* 从3.动态规划解中已经看出，本题的思路可转换为求斐波那契数；\n",
    "* 动态规划中的 dp 数组只用到倒数第二个数和倒数第一个数，因此可以优化空间。"
   ]
  },
  {
   "cell_type": "code",
   "execution_count": 25,
   "metadata": {},
   "outputs": [],
   "source": [
    "# 斐波那契数\n",
    "class Solution:\n",
    "    def climbStairs(self, n):\n",
    "        if n == 1:\n",
    "            return 1\n",
    "        \n",
    "        first, second = 1, 2\n",
    "        for _ in range(3, n+1):\n",
    "            first, second = second, first+second\n",
    "            # 等同于\n",
    "            # temp = first+second\n",
    "            # first = second\n",
    "            # second = temp\n",
    "        return second"
   ]
  },
  {
   "cell_type": "code",
   "execution_count": 26,
   "metadata": {},
   "outputs": [
    {
     "name": "stdout",
     "output_type": "stream",
     "text": [
      "2\n",
      "3\n",
      "14930352\n"
     ]
    }
   ],
   "source": [
    "test = Solution()\n",
    "n_li = [2, 3, 35]\n",
    "for n in n_li:\n",
    "    print(test.climbStairs(n))"
   ]
  },
  {
   "cell_type": "markdown",
   "metadata": {},
   "source": [
    "### 5. Binets方法"
   ]
  },
  {
   "cell_type": "code",
   "execution_count": null,
   "metadata": {},
   "outputs": [],
   "source": []
  },
  {
   "cell_type": "code",
   "execution_count": null,
   "metadata": {},
   "outputs": [],
   "source": []
  },
  {
   "cell_type": "markdown",
   "metadata": {},
   "source": [
    "### 6. 斐波那契公式"
   ]
  },
  {
   "cell_type": "code",
   "execution_count": null,
   "metadata": {},
   "outputs": [],
   "source": []
  },
  {
   "cell_type": "code",
   "execution_count": null,
   "metadata": {},
   "outputs": [],
   "source": []
  }
 ],
 "metadata": {
  "kernelspec": {
   "display_name": "Python 3",
   "language": "python",
   "name": "python3"
  },
  "language_info": {
   "codemirror_mode": {
    "name": "ipython",
    "version": 3
   },
   "file_extension": ".py",
   "mimetype": "text/x-python",
   "name": "python",
   "nbconvert_exporter": "python",
   "pygments_lexer": "ipython3",
   "version": "3.7.0"
  }
 },
 "nbformat": 4,
 "nbformat_minor": 2
}

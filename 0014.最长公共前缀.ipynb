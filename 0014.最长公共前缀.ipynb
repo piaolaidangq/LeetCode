{
 "cells": [
  {
   "cell_type": "markdown",
   "metadata": {},
   "source": [
    "### 第二次"
   ]
  },
  {
   "cell_type": "code",
   "execution_count": 1,
   "metadata": {},
   "outputs": [],
   "source": [
    "class Solution:\n",
    "    def longestCommonPrefix(self, strs):\n",
    "        if not strs:\n",
    "            return ''\n",
    "\n",
    "        max_s, min_s = max(strs), min(strs)    # 最大最小字符串\n",
    "        \n",
    "        # 比较最小字符串和最大字符串，不相等时返回\n",
    "        for pos,ch in enumerate(min_s):\n",
    "            if ch != max_s[pos]:\n",
    "                return min_s[:pos]\n",
    "\n",
    "        return min_s    # 最短字符串全匹配，则返回最短字符串"
   ]
  },
  {
   "cell_type": "code",
   "execution_count": 2,
   "metadata": {},
   "outputs": [
    {
     "name": "stdout",
     "output_type": "stream",
     "text": [
      "fl\n",
      "\n"
     ]
    }
   ],
   "source": [
    "test = Solution()\n",
    "strs_li = [[\"flower\",\"flow\",\"flight\"],\n",
    "            [\"dog\",\"racecar\",\"car\"],\n",
    "          ]\n",
    "for strs in strs_li:\n",
    "    print(test.longestCommonPrefix(strs))"
   ]
  },
  {
   "cell_type": "code",
   "execution_count": null,
   "metadata": {},
   "outputs": [],
   "source": []
  }
 ],
 "metadata": {
  "kernelspec": {
   "display_name": "Python 3",
   "language": "python",
   "name": "python3"
  },
  "language_info": {
   "codemirror_mode": {
    "name": "ipython",
    "version": 3
   },
   "file_extension": ".py",
   "mimetype": "text/x-python",
   "name": "python",
   "nbconvert_exporter": "python",
   "pygments_lexer": "ipython3",
   "version": "3.7.0"
  }
 },
 "nbformat": 4,
 "nbformat_minor": 2
}

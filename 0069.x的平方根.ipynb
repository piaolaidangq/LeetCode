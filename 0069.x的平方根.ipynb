{
 "cells": [
  {
   "cell_type": "code",
   "execution_count": 7,
   "metadata": {},
   "outputs": [],
   "source": [
    "# math包\n",
    "import math\n",
    "class Solution:\n",
    "    def mySqrt(self, x):\n",
    "        return int(math.sqrt(x))"
   ]
  },
  {
   "cell_type": "markdown",
   "metadata": {},
   "source": [
    "### 二分法\n",
    "一个数的平方根不超过它的一半，即 $\\sqrt{x}\\leq\\frac{x}{2}$ 或 $x\\leq(\\frac{x}{2})^2$，$x\\geq4$"
   ]
  },
  {
   "cell_type": "code",
   "execution_count": 1,
   "metadata": {},
   "outputs": [],
   "source": [
    "class Solution:\n",
    "    def mySqrt(self, x):\n",
    "        left = 0\n",
    "        right = x\n",
    "        while left < right:\n",
    "            mid = (left+right+1)//2    # 取右中位数\n",
    "            if mid**2 > x:\n",
    "                right = mid - 1         \n",
    "            else:\n",
    "                left = mid\n",
    "        return left"
   ]
  },
  {
   "cell_type": "code",
   "execution_count": 2,
   "metadata": {},
   "outputs": [
    {
     "name": "stdout",
     "output_type": "stream",
     "text": [
      "0\n",
      "1\n",
      "1\n",
      "1\n",
      "2\n",
      "2\n"
     ]
    }
   ],
   "source": [
    "test = Solution()\n",
    "x_li = [0, 1, 2, 3, 4, 8]\n",
    "for x in x_li:\n",
    "    print(test.mySqrt(x))"
   ]
  },
  {
   "cell_type": "markdown",
   "metadata": {},
   "source": [
    "### 牛顿法\n",
    "\n",
    "**求解**：$x=\\sqrt{a}，a为输入值$，求$x$为$\\sqrt{a}$的整数解\n",
    "\n",
    "**分析**：\n",
    "\n",
    "1. 令$f(x)=x^2-a$\n",
    "\n",
    "2. 根据泰勒公式得：$f(x)\\approx{f(x_0)+(x-x_0)f'(x_0)}$\n",
    "\n",
    "3. 令$f(x)=0$，即$f(x_0)+(x-x_0)f'(x_0)=0$，求解可得迭代公式：\n",
    "\n",
    "   $x=\\frac{1}{2}(x_0+\\frac{a}{x_0})$\n",
    "\n",
    "4. 不断迭代，逼近精确值"
   ]
  },
  {
   "cell_type": "code",
   "execution_count": 27,
   "metadata": {},
   "outputs": [],
   "source": [
    "class Solution:\n",
    "    def mySqrt(self, x):\n",
    "        if x==0:\n",
    "            return 0\n",
    "        x0 = x\n",
    "        while True: \n",
    "            new_x0 = (x0 + x / x0) / 2    # 迭代公式\n",
    "            if abs(new_x0 - x0) < 1e-6:   # 迭代停止条件\n",
    "                return int(new_x0)\n",
    "            x0 = new_x0                   # 更新x0"
   ]
  },
  {
   "cell_type": "code",
   "execution_count": 28,
   "metadata": {},
   "outputs": [
    {
     "name": "stdout",
     "output_type": "stream",
     "text": [
      "0\n",
      "1\n",
      "1\n",
      "1\n",
      "2\n",
      "2\n"
     ]
    }
   ],
   "source": [
    "test = Solution()\n",
    "x_li = [0, 1, 2, 3, 4, 8]\n",
    "for x in x_li:\n",
    "    print(test.mySqrt(x))"
   ]
  },
  {
   "cell_type": "code",
   "execution_count": null,
   "metadata": {},
   "outputs": [],
   "source": []
  }
 ],
 "metadata": {
  "kernelspec": {
   "display_name": "Python 3",
   "language": "python",
   "name": "python3"
  },
  "language_info": {
   "codemirror_mode": {
    "name": "ipython",
    "version": 3
   },
   "file_extension": ".py",
   "mimetype": "text/x-python",
   "name": "python",
   "nbconvert_exporter": "python",
   "pygments_lexer": "ipython3",
   "version": "3.7.0"
  }
 },
 "nbformat": 4,
 "nbformat_minor": 2
}

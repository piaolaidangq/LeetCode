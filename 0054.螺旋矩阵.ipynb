{
 "cells": [
  {
   "cell_type": "code",
   "execution_count": 9,
   "metadata": {},
   "outputs": [],
   "source": [
    "class Solution:\n",
    "    def spiralOrder(self, matrix):\n",
    "        if not matrix:\n",
    "            return None\n",
    "        m, n = len(matrix), len(matrix[0])\n",
    "        \n",
    "        # 顺时针方向（右下左上）\n",
    "        dm = [0, 1, 0, -1]     \n",
    "        dn = [1, 0, -1, 0]\n",
    "        di = 0                   # 方向指针\n",
    "        \n",
    "        res = []\n",
    "        x = y = 0                # 位置\n",
    "        for _ in range(m*n):    # 最多步长 m*n\n",
    "            res.append(matrix[x][y])\n",
    "            matrix[x][y] = 'v'   # 访问过标记为 'v'（‘visited’）\n",
    "            \n",
    "            # 下一步位置\n",
    "            x_temp = x + dm[di] \n",
    "            y_temp = y + dn[di]\n",
    "            # 判断下一步位置是否合理，若合理则更新位置，若不合理则改变方向并更新位置\n",
    "            if 0<=x_temp<m and 0<=y_temp<n and matrix[x_temp][y_temp]!='v':\n",
    "                x, y = x_temp, y_temp\n",
    "            else:\n",
    "                di = (di+1) % 4\n",
    "                x += dm[di]\n",
    "                y += dn[di]\n",
    "        return res"
   ]
  },
  {
   "cell_type": "code",
   "execution_count": 10,
   "metadata": {},
   "outputs": [
    {
     "name": "stdout",
     "output_type": "stream",
     "text": [
      "[1, 2, 3, 6, 9, 8, 7, 4, 5]\n",
      "[1, 2, 3, 4, 8, 12, 11, 10, 9, 5, 6, 7]\n"
     ]
    }
   ],
   "source": [
    "test = Solution()\n",
    "matrix_li = [\n",
    "    [\n",
    "     [ 1, 2, 3 ],\n",
    "     [ 4, 5, 6 ],\n",
    "     [ 7, 8, 9 ]\n",
    "    ],\n",
    "    \n",
    "    [\n",
    "      [1, 2, 3, 4],\n",
    "      [5, 6, 7, 8],\n",
    "      [9,10,11,12]\n",
    "    ],\n",
    "]\n",
    "for matrix in matrix_li:\n",
    "    print(test.spiralOrder(matrix))"
   ]
  },
  {
   "cell_type": "code",
   "execution_count": null,
   "metadata": {},
   "outputs": [],
   "source": []
  }
 ],
 "metadata": {
  "kernelspec": {
   "display_name": "Python 3",
   "language": "python",
   "name": "python3"
  },
  "language_info": {
   "codemirror_mode": {
    "name": "ipython",
    "version": 3
   },
   "file_extension": ".py",
   "mimetype": "text/x-python",
   "name": "python",
   "nbconvert_exporter": "python",
   "pygments_lexer": "ipython3",
   "version": "3.7.0"
  }
 },
 "nbformat": 4,
 "nbformat_minor": 2
}

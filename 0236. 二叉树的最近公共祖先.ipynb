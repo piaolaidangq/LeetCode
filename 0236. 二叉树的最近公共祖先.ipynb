{
 "cells": [
  {
   "cell_type": "markdown",
   "metadata": {},
   "source": [
    "### 最近公共祖先(Lowest Common Ancestor,LCA)"
   ]
  },
  {
   "cell_type": "code",
   "execution_count": 15,
   "metadata": {},
   "outputs": [],
   "source": [
    "class TreeNode(object):\n",
    "    def __init__(self, x):\n",
    "        self.val = x\n",
    "        self.left = None\n",
    "        self.right = None\n",
    "\n",
    "# 递归\n",
    "class Solution(object):\n",
    "    def lowestCommonAncestor(self, root, p, q):\n",
    "        \"\"\"\n",
    "        :type root: TreeNode\n",
    "        :type p: TreeNode\n",
    "        :type q: TreeNode\n",
    "        :rtype: TreeNode\n",
    "        \"\"\"\n",
    "        if root is None:\n",
    "            return None\n",
    "        if root == p or root == q:\n",
    "            return root\n",
    "        \n",
    "        left = self.lowestCommonAncestor(root.left, p, q) \n",
    "        right = self.lowestCommonAncestor(root.right, p, q)\n",
    "        \n",
    "        if left and right:\n",
    "            return root\n",
    "        elif left:\n",
    "            return left\n",
    "        elif right:\n",
    "            return right\n",
    "        else:\n",
    "            return None"
   ]
  },
  {
   "cell_type": "code",
   "execution_count": 16,
   "metadata": {},
   "outputs": [
    {
     "name": "stdout",
     "output_type": "stream",
     "text": [
      "3\n",
      "5\n"
     ]
    }
   ],
   "source": [
    "tree_li = [3,5,1,6,2,0,8,None,None,7,4]\n",
    "for i in range(len(tree_li)):\n",
    "    if i==0:\n",
    "        tree = TreeNode(tree_li[i])\n",
    "        queue = [tree]\n",
    "        continue\n",
    "    while queue:\n",
    "        cur = queue[0]\n",
    "        if cur.left is None:\n",
    "            cur.left = TreeNode(tree_li[i])\n",
    "            queue.append(cur.left)\n",
    "            break\n",
    "        elif cur.right is None:\n",
    "            cur.right = TreeNode(tree_li[i])\n",
    "            queue.append(cur.right)\n",
    "            break\n",
    "        else:\n",
    "            queue.pop(0)\n",
    "            \n",
    "# 层次遍历\n",
    "# queue2 = [tree]\n",
    "# while queue2:\n",
    "#     cur = queue2.pop(0)\n",
    "#     print(cur.val, end=' ')\n",
    "#     if cur.left:\n",
    "#         queue2.append(cur.left)\n",
    "#     if cur.right:\n",
    "#         queue2.append(cur.right)\n",
    "\n",
    "test = Solution()\n",
    "p_li = [5, 5]\n",
    "q_li = [1, 4]\n",
    "for p_val, q_val in zip(p_li, q_li):\n",
    "    queue = [tree]\n",
    "    while queue:\n",
    "        cur = queue.pop(0)\n",
    "        if cur.val == p_val:\n",
    "            p = cur\n",
    "        if cur.val == q_val:\n",
    "            q = cur\n",
    "        if cur.left:\n",
    "            queue.append(cur.left)\n",
    "        if cur.right:\n",
    "            queue.append(cur.right)\n",
    "    \n",
    "    res = test.lowestCommonAncestor(tree, p, q)\n",
    "    print(res.val)"
   ]
  },
  {
   "cell_type": "markdown",
   "metadata": {},
   "source": [
    "### root = [3,5,1,6,2,0,8,null,null,7,4]\n",
    "\n",
    "p = 5, q = 1\n",
    "\n",
    "输出: 3\n",
    "    \n",
    "p = 5, q = 4\n",
    "\n",
    "输出: 5"
   ]
  }
 ],
 "metadata": {
  "kernelspec": {
   "display_name": "Python 3",
   "language": "python",
   "name": "python3"
  },
  "language_info": {
   "codemirror_mode": {
    "name": "ipython",
    "version": 3
   },
   "file_extension": ".py",
   "mimetype": "text/x-python",
   "name": "python",
   "nbconvert_exporter": "python",
   "pygments_lexer": "ipython3",
   "version": "3.7.0"
  }
 },
 "nbformat": 4,
 "nbformat_minor": 2
}

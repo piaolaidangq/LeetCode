{
 "cells": [
  {
   "cell_type": "code",
   "execution_count": 20,
   "metadata": {},
   "outputs": [],
   "source": [
    "class Solution:\n",
    "    def trap(self, height):\n",
    "        res = 0\n",
    "        cur_hight = 0\n",
    "        left, right = 0, len(height)-1\n",
    "        while left < right:\n",
    "            if height[left] < height[right]:\n",
    "                cur_hight = max(cur_hight, height[left])\n",
    "                res += cur_hight - height[left]\n",
    "                left += 1\n",
    "            else:\n",
    "                cur_hight = max(cur_hight, height[right])\n",
    "                res += cur_hight - height[right]\n",
    "                right -= 1\n",
    "        return res"
   ]
  },
  {
   "cell_type": "code",
   "execution_count": 21,
   "metadata": {},
   "outputs": [
    {
     "name": "stdout",
     "output_type": "stream",
     "text": [
      "6\n"
     ]
    }
   ],
   "source": [
    "test = Solution()\n",
    "height_li = [[0,1,0,2,1,0,1,3,2,1,2,1]]\n",
    "for height in height_li:\n",
    "    print(test.trap(height))"
   ]
  },
  {
   "cell_type": "markdown",
   "metadata": {},
   "source": [
    "6"
   ]
  },
  {
   "cell_type": "code",
   "execution_count": null,
   "metadata": {},
   "outputs": [],
   "source": []
  }
 ],
 "metadata": {
  "kernelspec": {
   "display_name": "Python 3",
   "language": "python",
   "name": "python3"
  },
  "language_info": {
   "codemirror_mode": {
    "name": "ipython",
    "version": 3
   },
   "file_extension": ".py",
   "mimetype": "text/x-python",
   "name": "python",
   "nbconvert_exporter": "python",
   "pygments_lexer": "ipython3",
   "version": "3.7.0"
  }
 },
 "nbformat": 4,
 "nbformat_minor": 2
}

{
 "cells": [
  {
   "cell_type": "code",
   "execution_count": 6,
   "metadata": {},
   "outputs": [],
   "source": [
    "class ListNode:\n",
    "    def __init__(self, x):\n",
    "        self.val = x\n",
    "        self.next = None\n",
    "\n",
    "class Solution:\n",
    "    def reverseList(self, head):\n",
    "        res = ListNode(None)\n",
    "        cur = res\n",
    "        temp = []\n",
    "        while head:\n",
    "            temp.append(head.val)\n",
    "            head = head.next\n",
    "        for i in range(len(temp)-1, -1, -1):\n",
    "            cur.next = ListNode(temp[i])\n",
    "            cur = cur.next\n",
    "        return res.next"
   ]
  },
  {
   "cell_type": "code",
   "execution_count": 12,
   "metadata": {},
   "outputs": [],
   "source": [
    "class ListNode:\n",
    "    def __init__(self, x):\n",
    "        self.val = x\n",
    "        self.next = None\n",
    "        \n",
    "# 递归\n",
    "class Solution:\n",
    "    def reverseList(self, head):\n",
    "        if head == None or head.next == None:\n",
    "            return head\n",
    "        cur = self.reverseList(head.next)\n",
    "        head.next.next = head\n",
    "        head.next = None\n",
    "        return cur"
   ]
  },
  {
   "cell_type": "code",
   "execution_count": 11,
   "metadata": {},
   "outputs": [],
   "source": [
    "class ListNode:\n",
    "    def __init__(self, x):\n",
    "        self.val = x\n",
    "        self.next = None\n",
    "        \n",
    "# 双指针\n",
    "class Solution:\n",
    "    def reverseList(self, head):\n",
    "        if not head:\n",
    "            return None\n",
    "        pre = None\n",
    "        while head.next:\n",
    "            nex = head.next\n",
    "            head.next = pre\n",
    "            pre = head\n",
    "            head = nex\n",
    "        head.next = pre\n",
    "        return head"
   ]
  },
  {
   "cell_type": "code",
   "execution_count": 13,
   "metadata": {},
   "outputs": [
    {
     "name": "stdout",
     "output_type": "stream",
     "text": [
      "5 4 3 2 1 "
     ]
    }
   ],
   "source": [
    "x = ListNode(1)\n",
    "cur = x\n",
    "for i in [2, 3, 4, 5]:\n",
    "    cur.next = ListNode(i)\n",
    "    cur = cur.next\n",
    "test = Solution()\n",
    "res = test.reverseList(x)\n",
    "while res:\n",
    "    print(res.val, end=' ')\n",
    "    res = res.next"
   ]
  },
  {
   "cell_type": "code",
   "execution_count": null,
   "metadata": {},
   "outputs": [],
   "source": [
    "5->4->3->2->1->NULL"
   ]
  },
  {
   "cell_type": "markdown",
   "metadata": {},
   "source": [
    "### 第二次"
   ]
  },
  {
   "cell_type": "code",
   "execution_count": 29,
   "metadata": {},
   "outputs": [],
   "source": [
    "class ListNode:\n",
    "    def __init__(self, x):\n",
    "        self.val = x\n",
    "        self.next = None\n",
    "\n",
    "# pre，cur，nex 指针迭代\n",
    "class Solution:\n",
    "    def reverseList(self, head):\n",
    "        if not head:\n",
    "            return None\n",
    "        pre, cur = None, head\n",
    "        while cur.next:\n",
    "            nex = cur.next\n",
    "            cur.next = pre\n",
    "            pre = cur\n",
    "            cur = nex\n",
    "        cur.next = pre\n",
    "        return cur        "
   ]
  },
  {
   "cell_type": "code",
   "execution_count": 52,
   "metadata": {},
   "outputs": [
    {
     "name": "stdout",
     "output_type": "stream",
     "text": [
      "5 4 3 2 1 "
     ]
    }
   ],
   "source": [
    "# 构建链表\n",
    "head = cur = ListNode(None)\n",
    "for i in [1, 2, 3, 4, 5]:\n",
    "    cur.next = ListNode(i)\n",
    "    cur = cur.next\n",
    "head = head.next\n",
    "\n",
    "# 反转链表\n",
    "test = Solution()\n",
    "res = test.reverseList(head)\n",
    "while res:\n",
    "    print(res.val, end=' ')\n",
    "    res = res.next"
   ]
  },
  {
   "cell_type": "code",
   "execution_count": 51,
   "metadata": {},
   "outputs": [
    {
     "name": "stdout",
     "output_type": "stream",
     "text": [
      "5 4 3 2 1 \n"
     ]
    }
   ],
   "source": [
    "# 构建链表\n",
    "li = [1, 2, 3, 4, 5]\n",
    "for i in range(len(li)):\n",
    "    if i==0:\n",
    "        head = cur = ListNode(li[i])\n",
    "    else:\n",
    "        cur.next = ListNode(li[i])\n",
    "        cur = cur.next\n",
    "\n",
    "# while head:\n",
    "#     print(head.val)\n",
    "#     head = head.next\n",
    "\n",
    "test = Solution()\n",
    "res = test.reverseList(head)\n",
    "while res:\n",
    "    print(res.val, end=' ')\n",
    "    res = res.next\n",
    "print()"
   ]
  },
  {
   "cell_type": "code",
   "execution_count": 21,
   "metadata": {},
   "outputs": [],
   "source": [
    "class ListNode:\n",
    "    def __init__(self, x):\n",
    "        self.val = x\n",
    "        self.next = None\n",
    "\n",
    "# 递归\n",
    "class Solution:\n",
    "    def reverseList(self, head):\n",
    "        if head == None or head.next == None:   # head==None 是为了防止传入的 head 为空；head.next==None 为递归的返回条件\n",
    "            return head\n",
    "        cur = self.reverseList(head.next)         # cur 第一次返回为链表尾端，即反转链表的头部，且将不断返回，不再更改\n",
    "        head.next.next = head                     # head 此时为前一节点，改变链表指向\n",
    "        head.next = None                         # 将新的尾节点指向 None，该尾节点不断更新\n",
    "        return cur"
   ]
  },
  {
   "cell_type": "code",
   "execution_count": 53,
   "metadata": {},
   "outputs": [
    {
     "name": "stdout",
     "output_type": "stream",
     "text": [
      "5 4 3 2 1 "
     ]
    }
   ],
   "source": [
    "# 构建链表\n",
    "head = cur = ListNode(None)\n",
    "for i in [1, 2, 3, 4, 5]:\n",
    "    cur.next = ListNode(i)\n",
    "    cur = cur.next\n",
    "head = head.next\n",
    "\n",
    "# 反转链表\n",
    "test = Solution()\n",
    "res = test.reverseList(head)\n",
    "while res:\n",
    "    print(res.val, end=' ')\n",
    "    res = res.next"
   ]
  },
  {
   "cell_type": "code",
   "execution_count": null,
   "metadata": {},
   "outputs": [],
   "source": []
  }
 ],
 "metadata": {
  "kernelspec": {
   "display_name": "Python 3",
   "language": "python",
   "name": "python3"
  },
  "language_info": {
   "codemirror_mode": {
    "name": "ipython",
    "version": 3
   },
   "file_extension": ".py",
   "mimetype": "text/x-python",
   "name": "python",
   "nbconvert_exporter": "python",
   "pygments_lexer": "ipython3",
   "version": "3.7.0"
  }
 },
 "nbformat": 4,
 "nbformat_minor": 2
}

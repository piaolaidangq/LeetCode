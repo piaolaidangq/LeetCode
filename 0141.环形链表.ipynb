{
 "cells": [
  {
   "cell_type": "code",
   "execution_count": 5,
   "metadata": {},
   "outputs": [],
   "source": [
    "class ListNode:\n",
    "    def __init__(self, x):\n",
    "        self.val = x\n",
    "        self.next = None\n",
    "\n",
    "# 快慢双指针\n",
    "class Solution(object):\n",
    "    def hasCycle(self, head):\n",
    "        if not head:\n",
    "            return None\n",
    "        slow, quick = head, head.next             # 快慢指针\n",
    "        while slow!=quick:              \n",
    "            if quick==None or quick.next==None:   # 快指针或快指针的next为空，则遍历至链表尾部，非环形链表\n",
    "                return False\n",
    "            else:\n",
    "                slow = slow.next                 # 慢指针走一步\n",
    "                quick = quick.next.next          # 快指针走两步\n",
    "        return True                              # 快慢指针相遇，则为环形链表"
   ]
  },
  {
   "cell_type": "code",
   "execution_count": 10,
   "metadata": {},
   "outputs": [
    {
     "name": "stdout",
     "output_type": "stream",
     "text": [
      "True\n",
      "True\n",
      "False\n"
     ]
    }
   ],
   "source": [
    "# 构建环形链表\n",
    "def bulid_loop_link(nums, pos):\n",
    "    res = cur = ListNode(None)\n",
    "    meet = False\n",
    "    for i in range(len(nums)):\n",
    "        cur.next = ListNode(nums[i])\n",
    "        cur = cur.next\n",
    "        if i==pos:\n",
    "            meet = cur\n",
    "    if meet:\n",
    "        cur.next = meet\n",
    "    return res.next\n",
    "\n",
    "test = Solution()\n",
    "# 示例1\n",
    "head1 = bulid_loop_link([3,2,0,-4], 1)\n",
    "print(test.hasCycle(head1))\n",
    "# 示例2\n",
    "head2 = bulid_loop_link([1,2], 0)\n",
    "print(test.hasCycle(head2))\n",
    "# 示例3\n",
    "head3 = bulid_loop_link([1], -1)\n",
    "print(test.hasCycle(head3))"
   ]
  },
  {
   "cell_type": "code",
   "execution_count": 4,
   "metadata": {},
   "outputs": [],
   "source": [
    "class ListNode:\n",
    "    def __init__(self, x):\n",
    "        self.val = x\n",
    "        self.next = None\n",
    "        \n",
    "# 哈希法\n",
    "class Solution(object):\n",
    "    def hasCycle(self, head):\n",
    "        if not head:\n",
    "            return None\n",
    "        res = set()               # 创建集合\n",
    "        while head:               # 遍历链表\n",
    "            if head not in res:   # 不在集合，则添加节点\n",
    "                res.add(head)\n",
    "            else:                 # 否则，为环形链表\n",
    "                return True\n",
    "            head = head.next\n",
    "        return False              # 遍历结束，则为非环形链表"
   ]
  },
  {
   "cell_type": "code",
   "execution_count": 11,
   "metadata": {},
   "outputs": [
    {
     "name": "stdout",
     "output_type": "stream",
     "text": [
      "True\n",
      "True\n",
      "False\n"
     ]
    }
   ],
   "source": [
    "# 构建环形链表\n",
    "def bulid_loop_link(nums, pos):\n",
    "    res = cur = ListNode(None)\n",
    "    meet = False\n",
    "    for i in range(len(nums)):\n",
    "        cur.next = ListNode(nums[i])\n",
    "        cur = cur.next\n",
    "        if i==pos:\n",
    "            meet = cur\n",
    "    if meet:\n",
    "        cur.next = meet\n",
    "    return res.next\n",
    "\n",
    "test = Solution()\n",
    "# 示例1\n",
    "head1 = bulid_loop_link([3,2,0,-4], 1)\n",
    "print(test.hasCycle(head1))\n",
    "# 示例2\n",
    "head2 = bulid_loop_link([1,2], 0)\n",
    "print(test.hasCycle(head2))\n",
    "# 示例3\n",
    "head3 = bulid_loop_link([1], -1)\n",
    "print(test.hasCycle(head3))"
   ]
  },
  {
   "cell_type": "code",
   "execution_count": null,
   "metadata": {},
   "outputs": [],
   "source": []
  }
 ],
 "metadata": {
  "kernelspec": {
   "display_name": "Python 3",
   "language": "python",
   "name": "python3"
  },
  "language_info": {
   "codemirror_mode": {
    "name": "ipython",
    "version": 3
   },
   "file_extension": ".py",
   "mimetype": "text/x-python",
   "name": "python",
   "nbconvert_exporter": "python",
   "pygments_lexer": "ipython3",
   "version": "3.7.0"
  }
 },
 "nbformat": 4,
 "nbformat_minor": 2
}

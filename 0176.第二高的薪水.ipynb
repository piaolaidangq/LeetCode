{
 "cells": [
  {
   "cell_type": "markdown",
   "metadata": {},
   "source": [
    "### MySQL\n",
    "### 方法一：使用子查询 LIMIT 子句"
   ]
  },
  {
   "cell_type": "code",
   "execution_count": null,
   "metadata": {},
   "outputs": [],
   "source": [
    "SELECT\n",
    "    (SELECT DISTINCT\n",
    "            Salary\n",
    "        FROM\n",
    "            Employee\n",
    "        ORDER BY Salary DESC\n",
    "        LIMIT 1 OFFSET 1) AS SecondHighestSalary"
   ]
  },
  {
   "cell_type": "markdown",
   "metadata": {},
   "source": [
    "### 方法二：使用 IFMULL 和 LIMIT 子句"
   ]
  },
  {
   "cell_type": "code",
   "execution_count": null,
   "metadata": {},
   "outputs": [],
   "source": [
    "SELECT IFNULL(\n",
    "      (SELECT DISTINCT \n",
    "           Salary\n",
    "       FROM \n",
    "           Employee\n",
    "       ORDER BY Salary DESC\n",
    "        LIMIT 1 OFFSET 1), NULL) AS SecondHighestSalary"
   ]
  },
  {
   "cell_type": "markdown",
   "metadata": {},
   "source": [
    "**说明**：\n",
    "\n",
    "1. 数据去重：SELECT DISTINCT Salary FROM Employee\n",
    "2. 降序排序：SELECT DISTINCT Salary FROM Employee ORDER BY Salary DESC\n",
    "3. 分页（一页一条数据，第二高薪水则在第二页）：SELECT DISTINCT Salary FROM Employee ORDER BY Salary DESC LIMIT 1, 1\n",
    "4. 用ifnull判断，若无第二高薪水则为空：SELECT IFNULL( (SELECT DISTINCT Salary FROM Employee ORDER BY Salary DESC LIMIT 1, 1),null) AS SecondHighestSalary"
   ]
  },
  {
   "cell_type": "markdown",
   "metadata": {},
   "source": [
    "* limit y : 读取 y 条数据\n",
    "* limit x, y : 跳过 x 条数据，读取 y 条数据\n",
    "* limit y offset x : 跳过 x 条数据，读取 y 条数据"
   ]
  }
 ],
 "metadata": {
  "kernelspec": {
   "display_name": "Python 3",
   "language": "python",
   "name": "python3"
  },
  "language_info": {
   "codemirror_mode": {
    "name": "ipython",
    "version": 3
   },
   "file_extension": ".py",
   "mimetype": "text/x-python",
   "name": "python",
   "nbconvert_exporter": "python",
   "pygments_lexer": "ipython3",
   "version": "3.7.0"
  }
 },
 "nbformat": 4,
 "nbformat_minor": 2
}

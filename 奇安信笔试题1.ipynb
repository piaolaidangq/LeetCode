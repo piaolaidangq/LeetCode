{
 "cells": [
  {
   "cell_type": "code",
   "execution_count": 93,
   "metadata": {},
   "outputs": [
    {
     "name": "stdout",
     "output_type": "stream",
     "text": [
      "0\n"
     ]
    }
   ],
   "source": [
    "# n = int(input())\n",
    "# graph = []\n",
    "# for i in range(n):\n",
    "#     graph.append([int(v) for v in input().split()])\n",
    "# ini = [int(v) for v in input().split()]\n",
    "\n",
    "n = 3\n",
    "graph = [[1,1,0],[1,1,0],[0,0,1]]\n",
    "ini = [0,1]\n",
    "\n",
    "def dfs(graph, new_ini):\n",
    "    visited = [True]*len(graph)\n",
    "    res = 0\n",
    "    while new_ini:\n",
    "        res += 1\n",
    "        pos = new_ini.pop()\n",
    "        visited[pos] = False\n",
    "        for i in range(len(graph)):\n",
    "            if graph[pos][i]==1 and visited[i]:\n",
    "                if i not in new_ini:\n",
    "                    new_ini.append(i)\n",
    "    return res\n",
    "    \n",
    "M_li = []\n",
    "for i in range(n):\n",
    "    new_graph, new_ini = [], []\n",
    "    if i in ini:\n",
    "        new_ini[:] = ini\n",
    "        del new_ini[new_ini.index(i)]\n",
    "    else:\n",
    "        new_ini[:] = ini\n",
    "    for j in range(len(new_ini)):\n",
    "        if new_ini[j] > i:\n",
    "            new_ini[j] -= 1    \n",
    "    new_graph = []\n",
    "    for v in graph:\n",
    "        new_graph.append(v[:])\n",
    "    del new_graph[i]\n",
    "    for v in new_graph:\n",
    "        del v[i]\n",
    "    # print(new_graph)\n",
    "    M_li.append(dfs(new_graph, new_ini))\n",
    "    \n",
    "# print(M_li)\n",
    "print(M_li.index(min(M_li)))"
   ]
  },
  {
   "cell_type": "code",
   "execution_count": 94,
   "metadata": {},
   "outputs": [
    {
     "name": "stdout",
     "output_type": "stream",
     "text": [
      "8 <class 'int'>\n"
     ]
    }
   ],
   "source": [
    "math_s = '3+5'\n",
    "math_ = eval(math_s)    \n",
    "print(math_, type(math_))# math 计算并返回值"
   ]
  }
 ],
 "metadata": {
  "kernelspec": {
   "display_name": "Python 3",
   "language": "python",
   "name": "python3"
  },
  "language_info": {
   "codemirror_mode": {
    "name": "ipython",
    "version": 3
   },
   "file_extension": ".py",
   "mimetype": "text/x-python",
   "name": "python",
   "nbconvert_exporter": "python",
   "pygments_lexer": "ipython3",
   "version": "3.7.0"
  }
 },
 "nbformat": 4,
 "nbformat_minor": 2
}

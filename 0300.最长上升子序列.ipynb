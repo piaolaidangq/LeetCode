{
 "cells": [
  {
   "cell_type": "markdown",
   "metadata": {},
   "source": [
    "### 动态规划"
   ]
  },
  {
   "cell_type": "code",
   "execution_count": 19,
   "metadata": {},
   "outputs": [],
   "source": [
    "class Solution:\n",
    "    def lengthOfLIS(self, nums):\n",
    "        if not nums: \n",
    "            return 0\n",
    "        \n",
    "        n, res = len(nums), 1    # 序列长度和初始化最长上升子序列长度\n",
    "        dp = [1]*n               # 初始化 dp\n",
    "        for i in range(1, n):\n",
    "            for j in range(i):\n",
    "                if nums[i] > nums[j]:\n",
    "                    dp[i] = max(dp[i], dp[j]+1)    # 更新 dp\n",
    "            res = max(res, dp[i])                  # 更新最长上升子序列长度\n",
    "        return res"
   ]
  },
  {
   "cell_type": "code",
   "execution_count": 20,
   "metadata": {},
   "outputs": [
    {
     "data": {
      "text/plain": [
       "4"
      ]
     },
     "execution_count": 20,
     "metadata": {},
     "output_type": "execute_result"
    }
   ],
   "source": [
    "test = Solution()\n",
    "nums = [10,9,2,5,3,7,101,18]\n",
    "test.lengthOfLIS(nums)"
   ]
  },
  {
   "cell_type": "markdown",
   "metadata": {},
   "source": [
    "**分析**：时间复杂度 O(n^2)"
   ]
  },
  {
   "cell_type": "markdown",
   "metadata": {},
   "source": [
    "### 二分查找解法（时间复杂度O(nlog(n))）\n",
    "[该方法参考 LeetCode 题解](https://leetcode-cn.com/problems/longest-increasing-subsequence/solution/dong-tai-gui-hua-she-ji-fang-fa-zhi-pai-you-xi-jia/)"
   ]
  },
  {
   "cell_type": "code",
   "execution_count": 21,
   "metadata": {},
   "outputs": [],
   "source": [
    "class Solution:\n",
    "    def lengthOfLIS(self, nums):\n",
    "        if not nums:\n",
    "            return 0\n",
    "        \n",
    "        top = []                           # 整体数组\n",
    "        for i in range(len(nums)):\n",
    "            # 二分查找插入数组\n",
    "            left, right = 0, len(top)-1    # 左右边界索引\n",
    "            while left <= right:          \n",
    "                mid = (left+right)//2      # 左中位数\n",
    "                if top[mid][-1] < nums[i]:\n",
    "                    left = mid+1\n",
    "                else:\n",
    "                    right = mid-1\n",
    "            # 若 left 等于数组的个数，则需要添加新数组；否则，在 left 数组尾部添加新值\n",
    "            if left == len(top):\n",
    "                top.append([nums[i]])\n",
    "            else:\n",
    "                top[left].append(nums[i])\n",
    "        return len(top)"
   ]
  },
  {
   "cell_type": "code",
   "execution_count": 22,
   "metadata": {},
   "outputs": [
    {
     "data": {
      "text/plain": [
       "4"
      ]
     },
     "execution_count": 22,
     "metadata": {},
     "output_type": "execute_result"
    }
   ],
   "source": [
    "test = Solution()\n",
    "nums = [10,9,2,5,3,7,101,18]\n",
    "test.lengthOfLIS(nums)"
   ]
  },
  {
   "cell_type": "markdown",
   "metadata": {},
   "source": [
    "**分析**：二分查找时，每个牌堆只需要知道最后一张牌的值即可，因此可以简化如下。"
   ]
  },
  {
   "cell_type": "markdown",
   "metadata": {},
   "source": [
    "### 二分查找法化简写法"
   ]
  },
  {
   "cell_type": "code",
   "execution_count": 15,
   "metadata": {},
   "outputs": [],
   "source": [
    "class Solution:\n",
    "    def lengthOfLIS(self, nums):\n",
    "        if not nums:\n",
    "            return 0\n",
    "        \n",
    "        top = []                           \n",
    "        for i in range(len(nums)):\n",
    "            # 二分查找\n",
    "            left, right = 0, len(top)-1    # 左右边界索引\n",
    "            while left <= right:          \n",
    "                mid = (left+right)//2      # 左中位数\n",
    "                if top[mid] < nums[i]:\n",
    "                    left = mid+1\n",
    "                else:\n",
    "                    right = mid-1\n",
    "            # 若 left 等于数组长度，则需要添加新值；否则，在 left 位置的值覆盖为新值\n",
    "            if left == len(top):\n",
    "                top.append(nums[i])\n",
    "            else:\n",
    "                top[left] = nums[i]\n",
    "        return len(top)"
   ]
  },
  {
   "cell_type": "code",
   "execution_count": 16,
   "metadata": {},
   "outputs": [
    {
     "data": {
      "text/plain": [
       "4"
      ]
     },
     "execution_count": 16,
     "metadata": {},
     "output_type": "execute_result"
    }
   ],
   "source": [
    "test = Solution()\n",
    "nums = [10,9,2,5,3,7,101,18]\n",
    "test.lengthOfLIS(nums)"
   ]
  },
  {
   "cell_type": "code",
   "execution_count": null,
   "metadata": {},
   "outputs": [],
   "source": []
  }
 ],
 "metadata": {
  "kernelspec": {
   "display_name": "Python 3",
   "language": "python",
   "name": "python3"
  },
  "language_info": {
   "codemirror_mode": {
    "name": "ipython",
    "version": 3
   },
   "file_extension": ".py",
   "mimetype": "text/x-python",
   "name": "python",
   "nbconvert_exporter": "python",
   "pygments_lexer": "ipython3",
   "version": "3.7.0"
  }
 },
 "nbformat": 4,
 "nbformat_minor": 2
}

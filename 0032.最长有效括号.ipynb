{
 "cells": [
  {
   "cell_type": "markdown",
   "metadata": {},
   "source": [
    "### 暴力（超时）"
   ]
  },
  {
   "cell_type": "code",
   "execution_count": 26,
   "metadata": {},
   "outputs": [],
   "source": [
    "class Solution:\n",
    "    def longestValidParentheses(self, s):\n",
    "        if not s or len(s)==1:\n",
    "            return 0\n",
    "        \n",
    "        res = 0\n",
    "        for i in range(len(s)):\n",
    "            if s[i]=='(':                          # 左括号起始处\n",
    "                for j in range(i+2, len(s)+1, 2):  # 寻找以该左括号起始时的最长有效括号\n",
    "                    if self.isValid(s[i:j]):\n",
    "                        res = max(res, j-i)\n",
    "            if res >= len(s)-i:                     # 优化\n",
    "                break\n",
    "        return res\n",
    "    \n",
    "    def isValid(self, s_short):\n",
    "        '''是否为有效括号'''\n",
    "        stack = []\n",
    "        for i in range(len(s_short)):\n",
    "            if s_short[i]=='(':\n",
    "                stack.append(s_short[i])\n",
    "            elif stack and stack[-1]=='(':\n",
    "                stack.pop()\n",
    "            else:\n",
    "                return False\n",
    "        return len(stack)==0"
   ]
  },
  {
   "cell_type": "code",
   "execution_count": 27,
   "metadata": {},
   "outputs": [
    {
     "name": "stdout",
     "output_type": "stream",
     "text": [
      "2\n",
      "4\n",
      "0\n"
     ]
    }
   ],
   "source": [
    "test = Solution()\n",
    "s_li = [\"(()\", \")()())\", \")\"]\n",
    "for s in s_li:\n",
    "    print(test.longestValidParentheses(s))"
   ]
  },
  {
   "cell_type": "code",
   "execution_count": null,
   "metadata": {},
   "outputs": [],
   "source": []
  },
  {
   "cell_type": "markdown",
   "metadata": {},
   "source": [
    "### 动态规划"
   ]
  },
  {
   "cell_type": "code",
   "execution_count": 86,
   "metadata": {},
   "outputs": [],
   "source": [
    "class Solution:\n",
    "    def longestValidParentheses(self, s):\n",
    "        if not s or len(s)==1:\n",
    "            return 0\n",
    "        \n",
    "        n = len(s)\n",
    "        dp = [0]*n   \n",
    "        res = 0\n",
    "        for i in range(1, n):\n",
    "            if s[i] == '(':                # 若为左括号，\n",
    "                dp[i] = 0\n",
    "            else:\n",
    "                if s[i-1] == '(':\n",
    "                    dp[i] = dp[i-2] + 2\n",
    "                else:\n",
    "                    if i-dp[i-1]-1>=0 and s[i-dp[i-1]-1] == '(':\n",
    "                        dp[i] = dp[i-1] + 2 + dp[i-dp[i-1]-2]\n",
    "                res = max(res, dp[i])\n",
    "        return res"
   ]
  },
  {
   "cell_type": "code",
   "execution_count": 87,
   "metadata": {},
   "outputs": [
    {
     "name": "stdout",
     "output_type": "stream",
     "text": [
      "2\n",
      "4\n",
      "0\n",
      "6\n"
     ]
    }
   ],
   "source": [
    "test = Solution()\n",
    "s_li = [\"(()\", \")()())\", \")\", \"()(())\"]\n",
    "for s in s_li:\n",
    "    print(test.longestValidParentheses(s))"
   ]
  },
  {
   "cell_type": "markdown",
   "metadata": {},
   "source": [
    "### 栈"
   ]
  },
  {
   "cell_type": "code",
   "execution_count": 13,
   "metadata": {},
   "outputs": [],
   "source": [
    "class Solution:\n",
    "    def longestValidParentheses(self, s):\n",
    "        if not s or len(s)==1:\n",
    "            return 0\n",
    "        \n",
    "        temp = []\n",
    "        stack = []\n",
    "        for i in range(len(s)):\n",
    "            if s[i]=='(':\n",
    "                stack.append(i)\n",
    "            elif len(stack)!=0:\n",
    "                temp.extend([stack.pop(), i])\n",
    "        temp.sort()\n",
    "        i = 0\n",
    "        res = 0\n",
    "        while i<len(temp):\n",
    "            count = 1\n",
    "            for j in range(i+1, len(temp)):\n",
    "                if temp[j]==temp[j-1]+1:\n",
    "                    count += 1\n",
    "                else:\n",
    "                    break\n",
    "            res = max(res, count)\n",
    "            if j==len(temp)-1:\n",
    "                break\n",
    "            else:\n",
    "                i = j\n",
    "        return res"
   ]
  },
  {
   "cell_type": "code",
   "execution_count": 14,
   "metadata": {},
   "outputs": [
    {
     "name": "stdout",
     "output_type": "stream",
     "text": [
      "2\n",
      "4\n",
      "0\n",
      "6\n",
      "2\n"
     ]
    }
   ],
   "source": [
    "test = Solution()\n",
    "s_li = [\"(()\", \")()())\", \")\", \"()(())\", \"()(()\"]\n",
    "for s in s_li:\n",
    "    print(test.longestValidParentheses(s))"
   ]
  },
  {
   "cell_type": "markdown",
   "metadata": {},
   "source": [
    "### 优化栈"
   ]
  },
  {
   "cell_type": "code",
   "execution_count": 21,
   "metadata": {},
   "outputs": [],
   "source": [
    "class Solution:\n",
    "    def longestValidParentheses(self, s: str) -> int:\n",
    "        maxans = 0\n",
    "        stack = [-1]\n",
    "        for k in range(len(s)):\n",
    "            if s[k] == '(':\n",
    "                stack.append(k)\n",
    "            else:\n",
    "                stack.pop()\n",
    "                if stack:\n",
    "                    maxans = max(maxans, k - stack[-1])\n",
    "                else:\n",
    "                    stack.append(k)\n",
    "        return maxans"
   ]
  },
  {
   "cell_type": "code",
   "execution_count": 22,
   "metadata": {},
   "outputs": [
    {
     "name": "stdout",
     "output_type": "stream",
     "text": [
      "2\n",
      "4\n",
      "0\n",
      "6\n",
      "2\n"
     ]
    }
   ],
   "source": [
    "test = Solution()\n",
    "s_li = [\"(()\", \")()())\", \")\", \"()(())\", \"()(()\"]\n",
    "for s in s_li:\n",
    "    print(test.longestValidParentheses(s))"
   ]
  },
  {
   "cell_type": "code",
   "execution_count": null,
   "metadata": {},
   "outputs": [],
   "source": []
  }
 ],
 "metadata": {
  "kernelspec": {
   "display_name": "Python 3",
   "language": "python",
   "name": "python3"
  },
  "language_info": {
   "codemirror_mode": {
    "name": "ipython",
    "version": 3
   },
   "file_extension": ".py",
   "mimetype": "text/x-python",
   "name": "python",
   "nbconvert_exporter": "python",
   "pygments_lexer": "ipython3",
   "version": "3.7.0"
  }
 },
 "nbformat": 4,
 "nbformat_minor": 2
}

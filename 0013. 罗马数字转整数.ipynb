{
 "cells": [
  {
   "cell_type": "code",
   "execution_count": 3,
   "metadata": {},
   "outputs": [],
   "source": [
    "class Solution:\n",
    "    def romanToInt(self, s: str) -> int:\n",
    "        di = {'I':1, 'V':5, 'X':10, 'L':50, 'C':100, 'D':500, 'M':1000}\n",
    "        res = 0\n",
    "        i = 0\n",
    "        while i < len(s) - 1:\n",
    "            if di[s[i]] < di[s[i + 1]]:         # 若字符的下一位字符对应的数值大于当前字符对应的数值\n",
    "                res += di[s[i + 1]] - di[s[i]]    # 则加下一位字符对应的数值-当前字符对应的数值\n",
    "                i += 2\n",
    "            else:                     \n",
    "                res += di[s[i]]                   # 否则加当前字符对应的数值\n",
    "                i += 1\n",
    "        if i == len(s) - 1:                    # 判断结尾字符\n",
    "            res += di[s[i]]\n",
    "        return res\n",
    "        "
   ]
  },
  {
   "cell_type": "code",
   "execution_count": 4,
   "metadata": {},
   "outputs": [
    {
     "name": "stdout",
     "output_type": "stream",
     "text": [
      "3\n",
      "4\n",
      "9\n",
      "58\n",
      "1994\n"
     ]
    }
   ],
   "source": [
    "test = Solution()\n",
    "s_li = [\"III\", \"IV\", \"IX\", \"LVIII\", \"MCMXCIV\"]\n",
    "for s in s_li:\n",
    "    print(test.romanToInt(s))"
   ]
  },
  {
   "cell_type": "markdown",
   "metadata": {},
   "source": [
    "3 4 9 58 1994"
   ]
  },
  {
   "cell_type": "markdown",
   "metadata": {},
   "source": [
    "| 字符 | 数值 |\n",
    "| ---- | ---- |\n",
    "| I    | 1    |\n",
    "| V    | 5    |\n",
    "| X    | 10   |\n",
    "| L    | 50   |\n",
    "| C    | 100  |\n",
    "| D    | 500  |\n",
    "| M    | 1000 |"
   ]
  },
  {
   "cell_type": "code",
   "execution_count": null,
   "metadata": {},
   "outputs": [],
   "source": []
  }
 ],
 "metadata": {
  "kernelspec": {
   "display_name": "Python 3",
   "language": "python",
   "name": "python3"
  },
  "language_info": {
   "codemirror_mode": {
    "name": "ipython",
    "version": 3
   },
   "file_extension": ".py",
   "mimetype": "text/x-python",
   "name": "python",
   "nbconvert_exporter": "python",
   "pygments_lexer": "ipython3",
   "version": "3.7.0"
  }
 },
 "nbformat": 4,
 "nbformat_minor": 2
}

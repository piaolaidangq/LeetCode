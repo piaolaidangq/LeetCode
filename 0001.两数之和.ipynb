{
 "cells": [
  {
   "cell_type": "code",
   "execution_count": 2,
   "metadata": {},
   "outputs": [],
   "source": [
    "class Solution:\n",
    "    def twoSum(self, nums, target):\n",
    "        di = {}\n",
    "        index = 0      # {key, value}-->{数字:位置}\n",
    "        while index < len(nums):\n",
    "            if nums[index] not in di:  # 若当前数字不在字典中，则添加当前数字和其位置到字典中\n",
    "                di[nums[index]] = index\n",
    "            if target - nums[index] in di and di[target - nums[index]] != index:   # 判断是否存在target-当前数字\n",
    "                return [di[target - nums[index]], index]\n",
    "            index += 1"
   ]
  },
  {
   "cell_type": "code",
   "execution_count": 3,
   "metadata": {},
   "outputs": [
    {
     "data": {
      "text/plain": [
       "[0, 1]"
      ]
     },
     "execution_count": 3,
     "metadata": {},
     "output_type": "execute_result"
    }
   ],
   "source": [
    "test = Solution()\n",
    "nums = [2, 7, 11, 15]\n",
    "target = 9\n",
    "test.twoSum(nums, target)"
   ]
  },
  {
   "cell_type": "markdown",
   "metadata": {},
   "source": [
    "### 第二次"
   ]
  },
  {
   "cell_type": "code",
   "execution_count": 11,
   "metadata": {},
   "outputs": [],
   "source": [
    "# 利用字典\n",
    "class Solution:\n",
    "    def twoSum(self, nums, target):\n",
    "        '''\n",
    "        :type nums: List[int]\n",
    "        :type target: int\n",
    "        :rtype: List[int]\n",
    "        '''\n",
    "        di = {}       # 字典{key: value}-->{数字:索引}\n",
    "        for i in range(len(nums)):\n",
    "            # 若当前数字不在字典中，则添加当前数字和其位置到字典中\n",
    "            if nums[i] not in di:   \n",
    "                di[nums[i]] = i\n",
    "            # 判断(target-当前数字)是否存在字典中，若在，确认该数字未重复，返回其与当前数字的索引\n",
    "            if target-nums[i] in di and di[target-nums[i]] != i:    \n",
    "                return [di[target-nums[i]], i]"
   ]
  },
  {
   "cell_type": "code",
   "execution_count": 12,
   "metadata": {},
   "outputs": [
    {
     "data": {
      "text/plain": [
       "[0, 1]"
      ]
     },
     "execution_count": 12,
     "metadata": {},
     "output_type": "execute_result"
    }
   ],
   "source": [
    "test = Solution()\n",
    "nums = [2, 7, 11, 15]\n",
    "target = 9\n",
    "test.twoSum(nums, target)"
   ]
  },
  {
   "cell_type": "code",
   "execution_count": null,
   "metadata": {},
   "outputs": [],
   "source": []
  }
 ],
 "metadata": {
  "kernelspec": {
   "display_name": "Python 3",
   "language": "python",
   "name": "python3"
  },
  "language_info": {
   "codemirror_mode": {
    "name": "ipython",
    "version": 3
   },
   "file_extension": ".py",
   "mimetype": "text/x-python",
   "name": "python",
   "nbconvert_exporter": "python",
   "pygments_lexer": "ipython3",
   "version": "3.7.0"
  }
 },
 "nbformat": 4,
 "nbformat_minor": 2
}

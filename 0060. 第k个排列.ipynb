{
 "cells": [
  {
   "cell_type": "code",
   "execution_count": 28,
   "metadata": {},
   "outputs": [],
   "source": [
    "# 非递归全排列\n",
    "class Solution:\n",
    "    def getPermutation(self, n, k):\n",
    "        li = [i for i in range(1, n + 1)]\n",
    "        if k == 1:\n",
    "            return ''.join([str(num) for num in li])\n",
    "        count = 1\n",
    "        find_swap = True\n",
    "        while find_swap:\n",
    "            find_swap = False\n",
    "            for i in range(n-1, 0, -1):\n",
    "                if li[i-1] < li[i]:\n",
    "                    find_swap = True\n",
    "                    break\n",
    "            if find_swap:\n",
    "                swap_pos = i\n",
    "                for j in range(i+1, n):\n",
    "                    if li[i-1] < li[j] < li[swap_pos]:\n",
    "                        swap_pos = j\n",
    "                li[i-1], li[swap_pos] = li[swap_pos], li[i-1]\n",
    "                li[i:] = li[i:][::-1]\n",
    "                count += 1\n",
    "                if count == k:\n",
    "                    return ''.join([str(num) for num in li])"
   ]
  },
  {
   "cell_type": "markdown",
   "metadata": {},
   "source": [
    "**分析**：超出时间限制"
   ]
  },
  {
   "cell_type": "code",
   "execution_count": 15,
   "metadata": {},
   "outputs": [],
   "source": [
    "# 回溯法，剪枝\n",
    "from functools import reduce  \n",
    "class Solution:\n",
    "    def getPermutation(self, n, k):\n",
    "        li = [str(i + 1) for i in range(n)]\n",
    "        used = [False] * n   \n",
    "        return self.__dfs(li, used, n, k, 0, [])\n",
    "    \n",
    "    def __dfs(self, li, used, n, k, depth, res):\n",
    "        if depth == n:               # 深度为n时返回         \n",
    "            return ''.join(res)\n",
    "        \n",
    "        count = self.__factorial(n - depth - 1)     # 当前深度节点个数\n",
    "        \n",
    "        for i in range(n):           \n",
    "            if used[i]:               # 当前节点未进队列，则考虑是否需要添加\n",
    "                continue\n",
    "            if k > count:             # 若k大于当前节点数，说明当前节点的数目不足以达到k位置，减去其数目，判断下一个节点\n",
    "                k -= count\n",
    "            else:                     # 若k小于等于当前节点数，则添加该节点并进入该节点的下一层\n",
    "                res.append(li[i])     \n",
    "                used[i] = True\n",
    "                return self.__dfs(li, used, n, k, depth+1, res)          \n",
    "            \n",
    "    def __factorial(self, x):         # 计算阶乘\n",
    "        mul = 1\n",
    "        while x:\n",
    "            mul *= x\n",
    "            x -= 1\n",
    "        return mul"
   ]
  },
  {
   "cell_type": "code",
   "execution_count": 13,
   "metadata": {},
   "outputs": [
    {
     "name": "stdout",
     "output_type": "stream",
     "text": [
      "213\n",
      "2314\n"
     ]
    }
   ],
   "source": [
    "test = Solution()\n",
    "n_li = [3, 4]\n",
    "k_li = [3, 9]\n",
    "for n, k in zip(n_li, k_li):\n",
    "    print(test.getPermutation(n, k))"
   ]
  },
  {
   "cell_type": "markdown",
   "metadata": {},
   "source": [
    "\"213\" \n",
    "\n",
    "\"2314\""
   ]
  }
 ],
 "metadata": {
  "kernelspec": {
   "display_name": "Python 3",
   "language": "python",
   "name": "python3"
  },
  "language_info": {
   "codemirror_mode": {
    "name": "ipython",
    "version": 3
   },
   "file_extension": ".py",
   "mimetype": "text/x-python",
   "name": "python",
   "nbconvert_exporter": "python",
   "pygments_lexer": "ipython3",
   "version": "3.7.0"
  }
 },
 "nbformat": 4,
 "nbformat_minor": 2
}

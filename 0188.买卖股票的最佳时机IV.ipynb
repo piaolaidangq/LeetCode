{
 "cells": [
  {
   "cell_type": "code",
   "execution_count": 1,
   "metadata": {},
   "outputs": [],
   "source": [
    "class Solution:\n",
    "    def maxProfit(self, k, prices):\n",
    "        if not prices:\n",
    "            return 0\n",
    "        n = len(prices)\n",
    "        max_k = n//2        # 最大交易次数\n",
    "        if k >= max_k:      # k>最大交易次数，做 k=无穷大处理\n",
    "            res = 0\n",
    "            for i in range(n-1):\n",
    "                res += max(0, prices[i+1]-prices[i])\n",
    "            return res\n",
    "        else:\n",
    "            max_k = k\n",
    "        # k<最大交易次数，动态规划\n",
    "        dp = [[[0]*2 for _ in range(k+1)] for _ in range(n)]\n",
    "        for i in range(max_k+1):\n",
    "            dp[0][i][1] = -prices[0]\n",
    "        for i in range(1, n):\n",
    "            for k in range(1, max_k+1):\n",
    "                dp[i][k][0] = max(dp[i-1][k][0], dp[i-1][k][1]+prices[i])\n",
    "                dp[i][k][1] = max(dp[i-1][k][1], dp[i-1][k-1][0]-prices[i])\n",
    "        return dp[n-1][max_k][0]"
   ]
  },
  {
   "cell_type": "code",
   "execution_count": 2,
   "metadata": {},
   "outputs": [
    {
     "name": "stdout",
     "output_type": "stream",
     "text": [
      "2\n",
      "7\n"
     ]
    }
   ],
   "source": [
    "test = Solution()\n",
    "prices_li = [[2,4,1], [3,2,6,5,0,3]]\n",
    "k_li = [2, 2]\n",
    "for prices, k in zip(prices_li, k_li):\n",
    "    print(test.maxProfit(k, prices))"
   ]
  },
  {
   "cell_type": "code",
   "execution_count": null,
   "metadata": {},
   "outputs": [],
   "source": []
  }
 ],
 "metadata": {
  "kernelspec": {
   "display_name": "Python 3",
   "language": "python",
   "name": "python3"
  },
  "language_info": {
   "codemirror_mode": {
    "name": "ipython",
    "version": 3
   },
   "file_extension": ".py",
   "mimetype": "text/x-python",
   "name": "python",
   "nbconvert_exporter": "python",
   "pygments_lexer": "ipython3",
   "version": "3.7.0"
  }
 },
 "nbformat": 4,
 "nbformat_minor": 2
}

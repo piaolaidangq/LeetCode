{
 "cells": [
  {
   "cell_type": "code",
   "execution_count": 16,
   "metadata": {},
   "outputs": [],
   "source": [
    "# 采用字典，获得最大值最小值的key，时间复杂度为O(n)\n",
    "class AllOne:\n",
    "    def __init__(self):\n",
    "        self.mydict = {}\n",
    "\n",
    "    def inc(self, key):\n",
    "        if key in self.mydict:\n",
    "            \n",
    "            self.mydict[key] += 1\n",
    "        else:\n",
    "            self.mydict[key] = 1\n",
    "                \n",
    "\n",
    "    def dec(self, key):\n",
    "        if key not in self.mydict:\n",
    "            return\n",
    "        if self.mydict[key] == 1:\n",
    "            del self.mydict[key]\n",
    "        else:\n",
    "            self.mydict[key] -= 1\n",
    "\n",
    "    def getMaxKey(self):\n",
    "        max_key = ''\n",
    "        max_value = float('-inf')\n",
    "        for i in self.mydict.keys():\n",
    "            if self.mydict[i] > max_value:\n",
    "                max_value = self.mydict[i]\n",
    "                max_key = i\n",
    "        return max_key\n",
    "\n",
    "    def getMinKey(self):\n",
    "        min_key = ''\n",
    "        min_value = float('inf')\n",
    "        for i in self.mydict.keys():\n",
    "            if self.mydict[i] < min_value:\n",
    "                min_value = self.mydict[i]\n",
    "                min_key = i\n",
    "        return min_key"
   ]
  },
  {
   "cell_type": "code",
   "execution_count": 17,
   "metadata": {},
   "outputs": [
    {
     "data": {
      "text/plain": [
       "'hello'"
      ]
     },
     "execution_count": 17,
     "metadata": {},
     "output_type": "execute_result"
    }
   ],
   "source": [
    "test = AllOne()\n",
    "test.inc('hello')\n",
    "test.inc('hello')\n",
    "test.getMaxKey()"
   ]
  },
  {
   "cell_type": "code",
   "execution_count": 18,
   "metadata": {},
   "outputs": [
    {
     "data": {
      "text/plain": [
       "'hello'"
      ]
     },
     "execution_count": 18,
     "metadata": {},
     "output_type": "execute_result"
    }
   ],
   "source": [
    "test.getMinKey()"
   ]
  },
  {
   "cell_type": "code",
   "execution_count": 19,
   "metadata": {},
   "outputs": [
    {
     "data": {
      "text/plain": [
       "'hello'"
      ]
     },
     "execution_count": 19,
     "metadata": {},
     "output_type": "execute_result"
    }
   ],
   "source": [
    "test.inc('leet')\n",
    "test.getMaxKey()"
   ]
  },
  {
   "cell_type": "code",
   "execution_count": 20,
   "metadata": {},
   "outputs": [
    {
     "data": {
      "text/plain": [
       "'leet'"
      ]
     },
     "execution_count": 20,
     "metadata": {},
     "output_type": "execute_result"
    }
   ],
   "source": [
    "test.getMinKey()"
   ]
  },
  {
   "cell_type": "markdown",
   "metadata": {},
   "source": [
    "* Inc(key) -- 插入一个新的值为 1 的 key。或者使一个存在的 key 增加一，保证 key 不为空字符串。\n",
    "* Dec(key) -- 如果这个 key 的值是 1，那么把他从数据结构中移除掉。否者使一个存在的 key 值减一。如果这个 key 不存在，这个函数不做任何事情。key 保证不为空字符串。\n",
    "* GetMaxKey() -- 返回 key 中值最大的任意一个。如果没有元素存在，返回一个空字符串\"\"。\n",
    "* GetMinKey() -- 返回 key 中值最小的任意一个。如果没有元素存在，返回一个空字符串\"\"。"
   ]
  },
  {
   "cell_type": "code",
   "execution_count": null,
   "metadata": {},
   "outputs": [],
   "source": []
  },
  {
   "cell_type": "markdown",
   "metadata": {},
   "source": [
    "### 无穷大"
   ]
  },
  {
   "cell_type": "code",
   "execution_count": 1,
   "metadata": {},
   "outputs": [
    {
     "data": {
      "text/plain": [
       "inf"
      ]
     },
     "execution_count": 1,
     "metadata": {},
     "output_type": "execute_result"
    }
   ],
   "source": [
    "float('inf')"
   ]
  },
  {
   "cell_type": "markdown",
   "metadata": {},
   "source": [
    "### 无穷小"
   ]
  },
  {
   "cell_type": "code",
   "execution_count": 3,
   "metadata": {},
   "outputs": [
    {
     "data": {
      "text/plain": [
       "-inf"
      ]
     },
     "execution_count": 3,
     "metadata": {},
     "output_type": "execute_result"
    }
   ],
   "source": [
    "float('-inf')"
   ]
  }
 ],
 "metadata": {
  "kernelspec": {
   "display_name": "Python 3",
   "language": "python",
   "name": "python3"
  },
  "language_info": {
   "codemirror_mode": {
    "name": "ipython",
    "version": 3
   },
   "file_extension": ".py",
   "mimetype": "text/x-python",
   "name": "python",
   "nbconvert_exporter": "python",
   "pygments_lexer": "ipython3",
   "version": "3.7.0"
  }
 },
 "nbformat": 4,
 "nbformat_minor": 2
}

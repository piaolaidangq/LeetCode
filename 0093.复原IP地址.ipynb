{
 "cells": [
  {
   "cell_type": "code",
   "execution_count": 84,
   "metadata": {},
   "outputs": [],
   "source": [
    "# 回溯法\n",
    "class Solution:\n",
    "    def restoreIpAddresses(self, s):\n",
    "        if len(s) > 12:\n",
    "            return []\n",
    "        res = []\n",
    "        self.dfs(s, [], res)                 # []为当前存放数字的列表\n",
    "        return res\n",
    "    \n",
    "    def dfs(self, s, li, res):\n",
    "        if len(s) > (4 - len(li)) * 3:      # 剪枝，若当前s的长度大于剩余数字个数*3（数字最大三位数），则返回\n",
    "            return \n",
    "        if len(li) == 4 and not s:         # 列表长度为4，且s为空则返回\n",
    "            res.append('.'.join(li))\n",
    "            return \n",
    "        for i in range(1, 4):              # 数字最多三位\n",
    "            if i > len(s):\n",
    "                break \n",
    "            num = int(int(s[:i]))\n",
    "            if str(num) == s[:i] and num <= 255:    # num是为了防止'00'=='0'的情况出现（0）\n",
    "                self.dfs(s[i:], li + [s[:i]], res)    "
   ]
  },
  {
   "cell_type": "code",
   "execution_count": 85,
   "metadata": {},
   "outputs": [
    {
     "name": "stdout",
     "output_type": "stream",
     "text": [
      "['255.255.11.135', '255.255.111.35']\n",
      "['0.10.0.10', '0.100.1.0']\n"
     ]
    }
   ],
   "source": [
    "test = Solution()\n",
    "s_li = [\"25525511135\", \"010010\"]\n",
    "for s in s_li:\n",
    "    print(test.restoreIpAddresses(s))"
   ]
  },
  {
   "cell_type": "markdown",
   "metadata": {},
   "source": [
    "[\"255.255.11.135\", \"255.255.111.35\"]\n",
    "\n",
    "['0.10.0.10', '0.100.1.0']"
   ]
  },
  {
   "cell_type": "markdown",
   "metadata": {},
   "source": [
    "### 注意：append() 函数\n",
    "\n",
    "当 list 类型的对象进行 append 操作时，实际上追加的是该对象的引用，为浅拷贝，实例如下。"
   ]
  },
  {
   "cell_type": "code",
   "execution_count": 80,
   "metadata": {},
   "outputs": [
    {
     "data": {
      "text/plain": [
       "[[2, 2, 2], [2, 2, 2], [2, 2, 2], [2, 2, 2]]"
      ]
     },
     "execution_count": 80,
     "metadata": {},
     "output_type": "execute_result"
    }
   ],
   "source": [
    "res = []\n",
    "def p(i, li):\n",
    "    if i == 3:\n",
    "        res.append(li)\n",
    "        return\n",
    "    else:\n",
    "        res.append(li)\n",
    "\n",
    "    li.append(2)\n",
    "    p(i + 1, li)\n",
    "\n",
    "p(0, [])\n",
    "res"
   ]
  },
  {
   "cell_type": "code",
   "execution_count": 81,
   "metadata": {},
   "outputs": [
    {
     "data": {
      "text/plain": [
       "[[], [2], [2, 2], [2, 2, 2]]"
      ]
     },
     "execution_count": 81,
     "metadata": {},
     "output_type": "execute_result"
    }
   ],
   "source": [
    "res = []\n",
    "def p(i, li):\n",
    "    if i == 3:\n",
    "        res.append(li)\n",
    "        return\n",
    "    else:\n",
    "        res.append(li)\n",
    "\n",
    "    p(i + 1, li + [2])\n",
    "\n",
    "p(0, [])\n",
    "res"
   ]
  },
  {
   "cell_type": "code",
   "execution_count": 89,
   "metadata": {},
   "outputs": [
    {
     "data": {
      "text/plain": [
       "True"
      ]
     },
     "execution_count": 89,
     "metadata": {},
     "output_type": "execute_result"
    }
   ],
   "source": [
    "alist = []\n",
    "num = 1\n",
    "alist.append(num)\n",
    "id(num) == id(alist[0])"
   ]
  },
  {
   "cell_type": "code",
   "execution_count": null,
   "metadata": {},
   "outputs": [],
   "source": []
  }
 ],
 "metadata": {
  "kernelspec": {
   "display_name": "Python 3",
   "language": "python",
   "name": "python3"
  },
  "language_info": {
   "codemirror_mode": {
    "name": "ipython",
    "version": 3
   },
   "file_extension": ".py",
   "mimetype": "text/x-python",
   "name": "python",
   "nbconvert_exporter": "python",
   "pygments_lexer": "ipython3",
   "version": "3.7.0"
  }
 },
 "nbformat": 4,
 "nbformat_minor": 2
}

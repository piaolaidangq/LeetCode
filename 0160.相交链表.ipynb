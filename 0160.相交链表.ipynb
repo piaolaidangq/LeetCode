{
 "cells": [
  {
   "cell_type": "code",
   "execution_count": null,
   "metadata": {},
   "outputs": [],
   "source": [
    "class ListNode(object):\n",
    "    def __init__(self, x):\n",
    "        self.val = x\n",
    "        self.next = None\n",
    "\n",
    "# 使用set\n",
    "class Solution(object):\n",
    "    def getIntersectionNode(self, headA, headB):\n",
    "        \"\"\"\n",
    "        :type head1, head1: ListNode\n",
    "        :rtype: ListNode\n",
    "        \"\"\"\n",
    "        visited = set()\n",
    "        while headA:\n",
    "            visited.add(headA)\n",
    "            headA = headA.next\n",
    "        while headB:\n",
    "            if headB in visited:\n",
    "                return headB\n",
    "            headB = headB.next\n",
    "        return None"
   ]
  },
  {
   "cell_type": "code",
   "execution_count": null,
   "metadata": {},
   "outputs": [],
   "source": [
    "class ListNode(object):\n",
    "    def __init__(self, x):\n",
    "        self.val = x\n",
    "        self.next = None\n",
    "\n",
    "# 双指针\n",
    "class Solution(object):\n",
    "    def getIntersectionNode(self, headA, headB):\n",
    "        \"\"\"\n",
    "        :type head1, head1: ListNode\n",
    "        :rtype: ListNode\n",
    "        \"\"\"\n",
    "        pA, pB = headA, headB\n",
    "        while pA != pB:\n",
    "            pA = pA.next if pA else headB\n",
    "            pB = pB.next if pB else headA\n",
    "        return pA"
   ]
  },
  {
   "cell_type": "markdown",
   "metadata": {},
   "source": [
    "### 第二次"
   ]
  },
  {
   "cell_type": "code",
   "execution_count": 6,
   "metadata": {},
   "outputs": [],
   "source": [
    "class ListNode(object):\n",
    "    def __init__(self, x):\n",
    "        self.val = x\n",
    "        self.next = None\n",
    "\n",
    "class Solution(object):\n",
    "    def getIntersectionNode(self, headA, headB):\n",
    "        visited = set()               # 存储节点\n",
    "        while headA:                  # 将 headA 各节点存在集合\n",
    "            visited.add(headA)\n",
    "            headA = headA.next\n",
    "        while headB:                  # 遍历 headB，若当前节点存在集合中，则为相交节点\n",
    "            if headB in visited:\n",
    "                return headB\n",
    "            headB = headB.next\n",
    "        return None"
   ]
  },
  {
   "cell_type": "code",
   "execution_count": 7,
   "metadata": {},
   "outputs": [
    {
     "name": "stdout",
     "output_type": "stream",
     "text": [
      "8\n",
      "2\n",
      "None\n"
     ]
    }
   ],
   "source": [
    "def build_meet_link(nums1, nums2, pos):\n",
    "    '''构建 Y 型链表'''\n",
    "    meet = None\n",
    "    link1 = cur = ListNode(None)\n",
    "    for i in range(len(nums1)):\n",
    "        cur.next = ListNode(nums1[i])\n",
    "        cur = cur.next\n",
    "        if i == pos:\n",
    "            meet = cur\n",
    "    link2 = cur = ListNode(None)\n",
    "    for i in range(len(nums2)):\n",
    "        cur.next = ListNode(nums2[i])\n",
    "        cur = cur.next\n",
    "    if meet:\n",
    "        cur.next = meet\n",
    "    return link1.next, link2.next\n",
    "\n",
    "A_li = [[4,1,8,4,5],\n",
    "        [0,9,1,2,4],\n",
    "        [2,6,4]\n",
    "       ]\n",
    "B_li = [[5,0,1,8,4,5],\n",
    "        [3,2,4],\n",
    "        [1,5]\n",
    "       ]\n",
    "meet_li = [2, 3, -1]\n",
    "\n",
    "test = Solution()\n",
    "for A,B,meet in zip(A_li, B_li, meet_li):\n",
    "    headA, headB = build_meet_link(A, B, meet)\n",
    "    res = test.getIntersectionNode(headA, headB)\n",
    "    if res:\n",
    "        print(res.val)\n",
    "    else:\n",
    "        print(None)"
   ]
  },
  {
   "cell_type": "code",
   "execution_count": 12,
   "metadata": {},
   "outputs": [],
   "source": [
    "class ListNode(object):\n",
    "    def __init__(self, x):\n",
    "        self.val = x\n",
    "        self.next = None\n",
    "\n",
    "class Solution(object):\n",
    "    def getIntersectionNode(self, headA, headB):\n",
    "        curA, curB = headA, headB\n",
    "        while curA != curB:\n",
    "            if curA:\n",
    "                curA = curA.next\n",
    "            else:\n",
    "                curA = headB\n",
    "            if curB:\n",
    "                curB = curB.next\n",
    "            else:\n",
    "                curB = headA\n",
    "        return curA"
   ]
  },
  {
   "cell_type": "code",
   "execution_count": 14,
   "metadata": {},
   "outputs": [],
   "source": [
    "class ListNode(object):\n",
    "    def __init__(self, x):\n",
    "        self.val = x\n",
    "        self.next = None\n",
    "\n",
    "class Solution(object):\n",
    "    def getIntersectionNode(self, headA, headB):\n",
    "        curA, curB = headA, headB\n",
    "        while curA != curB:\n",
    "            curA = curA.next if curA else headB\n",
    "            curB = curB.next if curB else headA\n",
    "        return curA"
   ]
  },
  {
   "cell_type": "code",
   "execution_count": 15,
   "metadata": {},
   "outputs": [
    {
     "name": "stdout",
     "output_type": "stream",
     "text": [
      "8\n",
      "2\n",
      "None\n"
     ]
    }
   ],
   "source": [
    "def build_meet_link(nums1, nums2, pos):\n",
    "    '''构建 Y 型链表'''\n",
    "    meet = None\n",
    "    link1 = cur = ListNode(None)\n",
    "    for i in range(len(nums1)):\n",
    "        cur.next = ListNode(nums1[i])\n",
    "        cur = cur.next\n",
    "        if i == pos:\n",
    "            meet = cur\n",
    "    link2 = cur = ListNode(None)\n",
    "    for i in range(len(nums2)):\n",
    "        cur.next = ListNode(nums2[i])\n",
    "        cur = cur.next\n",
    "    if meet:\n",
    "        cur.next = meet\n",
    "    return link1.next, link2.next\n",
    "\n",
    "A_li = [[4,1,8,4,5],\n",
    "        [0,9,1,2,4],\n",
    "        [2,6,4]\n",
    "       ]\n",
    "B_li = [[5,0,1,8,4,5],\n",
    "        [3,2,4],\n",
    "        [1,5]\n",
    "       ]\n",
    "meet_li = [2, 3, -1]\n",
    "\n",
    "test = Solution()\n",
    "for A,B,meet in zip(A_li, B_li, meet_li):\n",
    "    headA, headB = build_meet_link(A, B, meet)\n",
    "    res = test.getIntersectionNode(headA, headB)\n",
    "    if res:\n",
    "        print(res.val)\n",
    "    else:\n",
    "        print(None)"
   ]
  },
  {
   "cell_type": "code",
   "execution_count": null,
   "metadata": {},
   "outputs": [],
   "source": []
  }
 ],
 "metadata": {
  "kernelspec": {
   "display_name": "Python 3",
   "language": "python",
   "name": "python3"
  },
  "language_info": {
   "codemirror_mode": {
    "name": "ipython",
    "version": 3
   },
   "file_extension": ".py",
   "mimetype": "text/x-python",
   "name": "python",
   "nbconvert_exporter": "python",
   "pygments_lexer": "ipython3",
   "version": "3.7.0"
  }
 },
 "nbformat": 4,
 "nbformat_minor": 2
}

{
 "cells": [
  {
   "cell_type": "code",
   "execution_count": 17,
   "metadata": {},
   "outputs": [],
   "source": [
    "class TreeNode:\n",
    "    def __init__(self, x):\n",
    "        self.val = x\n",
    "        self.left = None\n",
    "        self.right = None\n",
    "\n",
    "# 层次遍历，分别记录当前层队列和下一层队列\n",
    "class Solution:\n",
    "    def zigzagLevelOrder(self, root):\n",
    "        if root is None:\n",
    "            return []\n",
    "        res = []\n",
    "        cur_li = [root]    # 当前层队列\n",
    "        count = 0          # 层标记，用于翻转数值列表\n",
    "        while cur_li:\n",
    "            next_li = []   # 下一层队列\n",
    "            cur_res = []   # 当前层遍历结果\n",
    "            while cur_li:  \n",
    "                node = cur_li.pop(0)\n",
    "                if node.val != None:\n",
    "                    cur_res.append(node.val)\n",
    "                if node.left:\n",
    "                    next_li.append(node.left)\n",
    "                if node.right:\n",
    "                    next_li.append(node.right)\n",
    "            if count%2 == 1:    # 若为奇数层，则翻转数值列表\n",
    "                res.append(cur_res[::-1])\n",
    "            else:\n",
    "                res.append(cur_res)\n",
    "            count += 1\n",
    "            cur_li = next_li     # 遍历下一层队列\n",
    "        \n",
    "        return res"
   ]
  },
  {
   "cell_type": "code",
   "execution_count": 18,
   "metadata": {},
   "outputs": [
    {
     "name": "stdout",
     "output_type": "stream",
     "text": [
      "[[3], [20, 9], [15, 7]]\n"
     ]
    }
   ],
   "source": [
    "tree_li =  [3,9,20,None,None,15,7]\n",
    "for i in range(len(tree_li)):\n",
    "    if i==0:\n",
    "        root = TreeNode(tree_li[i])\n",
    "        queue = [root]\n",
    "        continue\n",
    "    while queue:\n",
    "        cur = queue[0]\n",
    "        if cur.left is None:\n",
    "            cur.left = TreeNode(tree_li[i])\n",
    "            queue.append(cur.left)\n",
    "            break\n",
    "        elif cur.right is None:\n",
    "            cur.right = TreeNode(tree_li[i])\n",
    "            queue.append(cur.right)\n",
    "            break\n",
    "        else:\n",
    "            queue.pop(0)\n",
    "            \n",
    "# 层次遍历\n",
    "# queue2 = [tree]\n",
    "# while queue2:\n",
    "#     cur = queue2.pop(0)\n",
    "#     print(cur.val, end=' ')\n",
    "#     if cur.left:\n",
    "#         queue2.append(cur.left)\n",
    "#     if cur.right:\n",
    "#         queue2.append(cur.right)\n",
    "\n",
    "test = Solution()\n",
    "print(test.zigzagLevelOrder(root))"
   ]
  },
  {
   "cell_type": "markdown",
   "metadata": {},
   "source": [
    "#### 二叉树 [3,9,20,null,null,15,7]\n",
    "\n",
    "[\n",
    "  [3],\n",
    "  [20,9],\n",
    "  [15,7]\n",
    "]"
   ]
  },
  {
   "cell_type": "code",
   "execution_count": null,
   "metadata": {},
   "outputs": [],
   "source": []
  }
 ],
 "metadata": {
  "kernelspec": {
   "display_name": "Python 3",
   "language": "python",
   "name": "python3"
  },
  "language_info": {
   "codemirror_mode": {
    "name": "ipython",
    "version": 3
   },
   "file_extension": ".py",
   "mimetype": "text/x-python",
   "name": "python",
   "nbconvert_exporter": "python",
   "pygments_lexer": "ipython3",
   "version": "3.7.0"
  }
 },
 "nbformat": 4,
 "nbformat_minor": 2
}

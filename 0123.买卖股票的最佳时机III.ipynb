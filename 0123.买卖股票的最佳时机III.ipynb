{
 "cells": [
  {
   "cell_type": "markdown",
   "metadata": {},
   "source": [
    "### 简单动态规划（超时）\n",
    "* 第一层动态规划（最多一次交易）：\n",
    "    * dp[i] = max(dp[i-1], dp[i] - dp[j])，0<=j<=i\n",
    "        * 第 i 天的最大收益 = max（第 i-1 天的最大收益，第 j 天（遍历）买入第 i 天卖出的最大收益）\n",
    "        * 若为第一种情况，表示未进行交易\n",
    "        * 若为第二种情况，表示进行交易且收益大于前一天的最大收益\n",
    "* 第二层动态对话（最多两次交易）：\n",
    "    * 第二层动态规划需要在第一层动态规划的基础上进行，即上一层动态规划的值为 dp[1][:]（dp[0][:]=0，为占位符，方便计算）\n",
    "    * 初始化，dp[2][i] = max(dp[2][i-1], prices[i]-prices[0])\n",
    "        * 第一种情况，表示并未进行交易，初始最大值为前一天的最大值\n",
    "        * 第二种情况，表示第 0 天买入，第 i 天卖出的收益，且大于前一天的最大收益\n",
    "    * 遍历第 j 天买入第 i 天卖出的收益，进一步确定 dp[2][i] 的最大值，dp[2][i] = max(dp[2][i], dp[1][j-1]+prices[i]-prices[j])\n",
    "        * 第一种情况，表示未进行交易\n",
    "        * 第二种情况，表示第 j 天买入第 i 天卖出的收益且加上第一层动态规划的第 j-1 天的最大收益（要求第二次交易必须在第一次交易之后）"
   ]
  },
  {
   "cell_type": "code",
   "execution_count": 57,
   "metadata": {},
   "outputs": [],
   "source": [
    "class Solution:\n",
    "    def maxProfit(self, prices):\n",
    "        if not prices:\n",
    "            return 0\n",
    "        n = len(prices)\n",
    "        dp = [[0]*n for _ in range(3)]\n",
    "        for k in range(1, 3):\n",
    "            for i in range(1, n):\n",
    "                # 第一层动态对话，初始化第二层动态规划\n",
    "                dp[k][i] = max(dp[k][i-1], prices[i]-prices[0])  \n",
    "                for j in range(1, i+1):\n",
    "                    # 第二层动态规划\n",
    "                    dp[k][i] = max(dp[k][i], dp[k-1][j-1]+prices[i]-prices[j])\n",
    "        return dp[-1][-1]"
   ]
  },
  {
   "cell_type": "code",
   "execution_count": 58,
   "metadata": {},
   "outputs": [
    {
     "name": "stdout",
     "output_type": "stream",
     "text": [
      "6\n",
      "4\n"
     ]
    }
   ],
   "source": [
    "test = Solution()\n",
    "prices_li = [[3,3,5,0,0,3,1,4], [1,2,3,4,5]]\n",
    "for prices in prices_li:\n",
    "    print(test.maxProfit(prices))"
   ]
  },
  {
   "cell_type": "markdown",
   "metadata": {},
   "source": [
    "### 优化上一种方案（超时）\n",
    "* 先求 dp[k-1][j-1]-prices[j] 最大值, 再求 prices[i] 的最大值\n",
    "\n",
    "（意义不大，但有助于下一个方案的理解）"
   ]
  },
  {
   "cell_type": "code",
   "execution_count": 61,
   "metadata": {},
   "outputs": [],
   "source": [
    "class Solution:\n",
    "    def maxProfit(self, prices):\n",
    "        if not prices: return 0\n",
    "        n = len(prices)\n",
    "        dp = [[0] * n for _ in range(3)]\n",
    "        for k in range(1, 3):\n",
    "            for i in range(1, n):\n",
    "                pre_max = -prices[0]\n",
    "                for j in range(1, i + 1):\n",
    "                    pre_max = max(pre_max, dp[k - 1][j - 1] - prices[j])\n",
    "                dp[k][i] = max(dp[k][i - 1], prices[i] + pre_max)\n",
    "        return dp[-1][-1]"
   ]
  },
  {
   "cell_type": "code",
   "execution_count": 62,
   "metadata": {},
   "outputs": [
    {
     "name": "stdout",
     "output_type": "stream",
     "text": [
      "6\n",
      "4\n"
     ]
    }
   ],
   "source": [
    "test = Solution()\n",
    "prices_li = [[3,3,5,0,0,3,1,4], [1,2,3,4,5]]\n",
    "for prices in prices_li:\n",
    "    print(test.maxProfit(prices))"
   ]
  },
  {
   "cell_type": "markdown",
   "metadata": {},
   "source": [
    "### 致幻方案\n",
    "\n",
    "#### 观察上一方案中的 i 循环和 j 循环：\n",
    "* 本质上更新 dp[k][i]，而每次寻找 pre_max 最大值都是遍历区间 [1, i]，因此 j 循环与 i 循环是重叠的，可以同步更新 pre_max 和 dp[k][i]。\n",
    "\n",
    "（该方案可通过所有测试样例，但不好理解（大佬除外））"
   ]
  },
  {
   "cell_type": "code",
   "execution_count": 87,
   "metadata": {},
   "outputs": [],
   "source": [
    "class Solution:\n",
    "    def maxProfit(self, prices):\n",
    "        if not prices: return 0\n",
    "        n = len(prices)\n",
    "        dp = [[0] * n for _ in range(3)]\n",
    "        for k in range(1, 3):\n",
    "            pre_max = -prices[0]             \n",
    "            for i in range(1, n):                                   \n",
    "                pre_max = max(pre_max, dp[k - 1][i - 1] - prices[i])    \n",
    "                dp[k][i] = max(dp[k][i - 1], prices[i] + pre_max)       \n",
    "        return dp[-1][-1]"
   ]
  },
  {
   "cell_type": "code",
   "execution_count": 88,
   "metadata": {},
   "outputs": [
    {
     "name": "stdout",
     "output_type": "stream",
     "text": [
      "6\n",
      "4\n"
     ]
    }
   ],
   "source": [
    "test = Solution()\n",
    "prices_li = [[3,3,5,0,0,3,1,4], [1,2,3,4,5]]\n",
    "for prices in prices_li:\n",
    "    print(test.maxProfit(prices))"
   ]
  },
  {
   "cell_type": "markdown",
   "metadata": {},
   "source": [
    "### 优化可读性方案\n",
    "\n",
    "#### 最多一次交易的动态规划：\n",
    "* dp[i] = max(dp[i-1], dp[i] - dp[j])，0<=j<=i\n",
    "* 第 i 天的最大收益 = max（第 i-1 天的收益，第 j 天买入第 i 天卖出的收益）\n",
    "    * 若为第一种情况，表示未进行交易\n",
    "    * 若为第二种情况，表示进行交易且收益大于前一天的最大收益；dp[j] 为第 i 天之前的最低股票值。\n",
    "    \n",
    "#### 最多两次交易的动态规划：\n",
    "* dp[t][i] = max(dp[t][i-1], prices[i]-min_p)\n",
    "* 第 t 次交易第 i 天的最大收益 = max（第 t 次交易第 i-1 天的收益，第 i 天卖出的股票收益-第 i 天之前的最小负收益）\n",
    "* 考虑最多一次交易的动态规划中 dp[j] 为第 i 天之前买入股票的最低值，即最小值，则 min_p 也为第 i 天之前的最小值，但要加入之前交易次数的影响。由于买入股票为负收益，而第 i-1 天的上次交易后的最大收益为 dp[t-1][i-1]，因此最小值 min(min_p, prices[i]-dp[t-1][i-1])。\n",
    "* 由于 min_p 为第 i 天之前的最小值，则可通过一次遍历，同步计算 min_p 和 dp[t][i]。"
   ]
  },
  {
   "cell_type": "code",
   "execution_count": 89,
   "metadata": {},
   "outputs": [],
   "source": [
    "class Solution:\n",
    "    def maxProfit(self, prices):\n",
    "        if not prices:\n",
    "            return 0\n",
    "        n = len(prices)\n",
    "        dp = [[0]*n for _ in range(3)]\n",
    "        for t in range(1, 3):\n",
    "            min_p = prices[0]              # 初始化最小负收益，即买入初始股票\n",
    "            for i in range(1, n):\n",
    "                min_p = min(min_p, prices[i]-dp[t-1][i-1])     # 更新最小负收益 \n",
    "                dp[t][i] = max(dp[t][i-1], prices[i]-min_p)    # 更新当前交易次数下第 i 天的最大收益\n",
    "        return dp[-1][-1]"
   ]
  },
  {
   "cell_type": "code",
   "execution_count": 90,
   "metadata": {},
   "outputs": [
    {
     "name": "stdout",
     "output_type": "stream",
     "text": [
      "6\n",
      "4\n"
     ]
    }
   ],
   "source": [
    "test = Solution()\n",
    "prices_li = [[3,3,5,0,0,3,1,4], [1,2,3,4,5]]\n",
    "for prices in prices_li:\n",
    "    print(test.maxProfit(prices))"
   ]
  },
  {
   "cell_type": "code",
   "execution_count": null,
   "metadata": {},
   "outputs": [],
   "source": []
  }
 ],
 "metadata": {
  "kernelspec": {
   "display_name": "Python 3",
   "language": "python",
   "name": "python3"
  },
  "language_info": {
   "codemirror_mode": {
    "name": "ipython",
    "version": 3
   },
   "file_extension": ".py",
   "mimetype": "text/x-python",
   "name": "python",
   "nbconvert_exporter": "python",
   "pygments_lexer": "ipython3",
   "version": "3.7.0"
  }
 },
 "nbformat": 4,
 "nbformat_minor": 2
}

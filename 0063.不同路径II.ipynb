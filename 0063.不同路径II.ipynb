{
 "cells": [
  {
   "cell_type": "markdown",
   "metadata": {},
   "source": [
    "### 递归（超时）"
   ]
  },
  {
   "cell_type": "code",
   "execution_count": 35,
   "metadata": {},
   "outputs": [],
   "source": [
    "class Solution:\n",
    "    def uniquePathsWithObstacles(self, obstacleGrid):\n",
    "        if not obstacleGrid:\n",
    "            return 0\n",
    "        return self.recurve(0, 0, obstacleGrid)\n",
    "    \n",
    "    def recurve(self, x, y, obstacleGrid):\n",
    "        if x==len(obstacleGrid) or y==len(obstacleGrid[0]) or obstacleGrid[x][y]==1:\n",
    "            return 0\n",
    "        if x==len(obstacleGrid)-1 and y==len(obstacleGrid[0])-1 and obstacleGrid[x][y]!=1:\n",
    "            return 1\n",
    "        return self.recurve(x+1, y, obstacleGrid)+self.recurve(x, y+1, obstacleGrid)"
   ]
  },
  {
   "cell_type": "code",
   "execution_count": 36,
   "metadata": {},
   "outputs": [
    {
     "name": "stdout",
     "output_type": "stream",
     "text": [
      "2\n",
      "0\n"
     ]
    }
   ],
   "source": [
    "test = Solution()\n",
    "obstacleGrid_li = [[[0,0,0],\n",
    "                    [0,1,0],\n",
    "                    [0,0,0]],\n",
    "                   [[0,0],\n",
    "                    [1,1],\n",
    "                    [0,0]]\n",
    "                  ]\n",
    "for obstacleGrid in obstacleGrid_li:\n",
    "    print(test.uniquePathsWithObstacles(obstacleGrid))"
   ]
  },
  {
   "cell_type": "markdown",
   "metadata": {},
   "source": [
    "### 记忆递归"
   ]
  },
  {
   "cell_type": "code",
   "execution_count": 37,
   "metadata": {},
   "outputs": [],
   "source": [
    "class Solution:\n",
    "    def uniquePathsWithObstacles(self, obstacleGrid):\n",
    "        if not obstacleGrid:\n",
    "            return 0\n",
    "        memo = {}\n",
    "        return self.memo_recurve(0, 0, obstacleGrid, memo)\n",
    "    \n",
    "    def memo_recurve(self, x, y, obstacleGrid, memo):\n",
    "        if (x,y) in memo:\n",
    "            return memo[(x,y)]\n",
    "        \n",
    "        if x==len(obstacleGrid) or y==len(obstacleGrid[0]) or obstacleGrid[x][y]==1:\n",
    "            memo[(x,y)] = 0\n",
    "            return memo[(x,y)]\n",
    "        \n",
    "        if x==len(obstacleGrid)-1 and y==len(obstacleGrid[0])-1 and obstacleGrid[x][y]!=1:\n",
    "            memo[(x,y)] = 1\n",
    "            return memo[(x,y)]\n",
    "        \n",
    "        memo[(x,y)] = self.memo_recurve(x+1, y, obstacleGrid, memo)+self.memo_recurve(x, y+1, obstacleGrid, memo)\n",
    "        return memo[(x,y)]"
   ]
  },
  {
   "cell_type": "code",
   "execution_count": 38,
   "metadata": {},
   "outputs": [
    {
     "name": "stdout",
     "output_type": "stream",
     "text": [
      "2\n",
      "0\n"
     ]
    }
   ],
   "source": [
    "test = Solution()\n",
    "obstacleGrid_li = [[[0,0,0],\n",
    "                    [0,1,0],\n",
    "                    [0,0,0]],\n",
    "                   [[0,0],\n",
    "                    [1,1],\n",
    "                    [0,0]]\n",
    "                  ]\n",
    "for obstacleGrid in obstacleGrid_li:\n",
    "    print(test.uniquePathsWithObstacles(obstacleGrid))"
   ]
  },
  {
   "cell_type": "markdown",
   "metadata": {},
   "source": [
    "### 动态规划"
   ]
  },
  {
   "cell_type": "code",
   "execution_count": 78,
   "metadata": {},
   "outputs": [],
   "source": [
    "class Solution:\n",
    "    def uniquePathsWithObstacles(self, obstacleGrid):\n",
    "        if not obstacleGrid:\n",
    "            return 0\n",
    "        m, n = len(obstacleGrid), len(obstacleGrid[0])\n",
    "        # 初始化 dp 数组\n",
    "        dp = [[0]*(n) for _ in range(m)]\n",
    "        for i in range(m):              # 初始化 dp 数组的第 0 列\n",
    "            if obstacleGrid[i][0]==0:\n",
    "                dp[i][0] = 1\n",
    "            else:\n",
    "                break\n",
    "        for j in range(n):              # 初始化 dp 数组的第 0 行\n",
    "            if obstacleGrid[0][j]==0:\n",
    "                dp[0][j] = 1\n",
    "            else:\n",
    "                break\n",
    "        # 动态转移\n",
    "        for i in range(1, m):\n",
    "            for j in range(1, n):\n",
    "                if obstacleGrid[i][j]!=1:\n",
    "                    dp[i][j] = dp[i-1][j] + dp[i][j-1]\n",
    "                else:\n",
    "                    dp[i][j] = 0\n",
    "        return dp[m-1][n-1]"
   ]
  },
  {
   "cell_type": "code",
   "execution_count": 79,
   "metadata": {},
   "outputs": [
    {
     "name": "stdout",
     "output_type": "stream",
     "text": [
      "2\n",
      "0\n"
     ]
    }
   ],
   "source": [
    "test = Solution()\n",
    "obstacleGrid_li = [[[0,0,0],\n",
    "                    [0,1,0],\n",
    "                    [0,0,0]],\n",
    "                   [[0,0],\n",
    "                    [1,1],\n",
    "                    [0,0]]\n",
    "                  ]\n",
    "for obstacleGrid in obstacleGrid_li:\n",
    "    print(test.uniquePathsWithObstacles(obstacleGrid))"
   ]
  },
  {
   "cell_type": "markdown",
   "metadata": {},
   "source": [
    "### 动态规划（优化空间）"
   ]
  },
  {
   "cell_type": "code",
   "execution_count": 98,
   "metadata": {},
   "outputs": [],
   "source": [
    "class Solution:\n",
    "    def uniquePathsWithObstacles(self, obstacleGrid):\n",
    "        if not obstacleGrid or obstacleGrid[0][0]==1:\n",
    "            return 0\n",
    "        m, n = len(obstacleGrid), len(obstacleGrid[0])\n",
    "        # 初始化 obstacleGrid 为 动态转移数组\n",
    "        flag = True\n",
    "        for i in range(m):              # 初始化 dp 数组的第 0 列\n",
    "            if flag and obstacleGrid[i][0]==0:\n",
    "                obstacleGrid[i][0] = 1\n",
    "            else:\n",
    "                flag = False\n",
    "                obstacleGrid[i][0] = 0\n",
    "        flag = True\n",
    "        for j in range(1, n):              # 初始化 dp 数组的第 0 行\n",
    "            if flag and obstacleGrid[0][j]==0:\n",
    "                obstacleGrid[0][j] = 1\n",
    "            else:\n",
    "                flag = False\n",
    "                obstacleGrid[0][j] = 0\n",
    "        # 动态转移\n",
    "        for i in range(1, m):\n",
    "            for j in range(1, n):\n",
    "                if obstacleGrid[i][j]!=1:\n",
    "                    obstacleGrid[i][j] = obstacleGrid[i-1][j] + obstacleGrid[i][j-1]\n",
    "                else:\n",
    "                    obstacleGrid[i][j] = 0\n",
    "        return obstacleGrid[m-1][n-1]"
   ]
  },
  {
   "cell_type": "code",
   "execution_count": 99,
   "metadata": {},
   "outputs": [
    {
     "name": "stdout",
     "output_type": "stream",
     "text": [
      "2\n",
      "0\n"
     ]
    }
   ],
   "source": [
    "test = Solution()\n",
    "obstacleGrid_li = [[[0,0,0],\n",
    "                    [0,1,0],\n",
    "                    [0,0,0]],\n",
    "                   [[0,0],\n",
    "                    [1,1],\n",
    "                    [0,0]]\n",
    "                  ]\n",
    "for obstacleGrid in obstacleGrid_li:\n",
    "    print(test.uniquePathsWithObstacles(obstacleGrid))"
   ]
  },
  {
   "cell_type": "code",
   "execution_count": null,
   "metadata": {},
   "outputs": [],
   "source": []
  }
 ],
 "metadata": {
  "kernelspec": {
   "display_name": "Python 3",
   "language": "python",
   "name": "python3"
  },
  "language_info": {
   "codemirror_mode": {
    "name": "ipython",
    "version": 3
   },
   "file_extension": ".py",
   "mimetype": "text/x-python",
   "name": "python",
   "nbconvert_exporter": "python",
   "pygments_lexer": "ipython3",
   "version": "3.7.0"
  }
 },
 "nbformat": 4,
 "nbformat_minor": 2
}

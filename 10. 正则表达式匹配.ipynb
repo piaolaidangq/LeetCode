{
 "cells": [
  {
   "cell_type": "code",
   "execution_count": 7,
   "metadata": {},
   "outputs": [],
   "source": [
    "# 递归\n",
    "class Solution:\n",
    "    def isMatch(self, s, p):\n",
    "        if len(p) == 0: \n",
    "            return len(s) == 0\n",
    "        \n",
    "        if len(p) == 1 or p[1] != '*':\n",
    "            if len(s) == 0 or (s[0] != p[0] and p[0] != '.'):\n",
    "                return False\n",
    "            return self.isMatch(s[1:],p[1:])\n",
    "        else:\n",
    "            i =- 1\n",
    "            length = len(s)\n",
    "            while i < length and (i < 0 or p[0] == '.' or p[0] == s[i]):\n",
    "                if self.isMatch(s[i + 1:],p[2:]): \n",
    "                    return True\n",
    "                i += 1\n",
    "            return False"
   ]
  },
  {
   "cell_type": "code",
   "execution_count": null,
   "metadata": {},
   "outputs": [],
   "source": []
  },
  {
   "cell_type": "code",
   "execution_count": 8,
   "metadata": {},
   "outputs": [
    {
     "data": {
      "text/plain": [
       "False"
      ]
     },
     "execution_count": 8,
     "metadata": {},
     "output_type": "execute_result"
    }
   ],
   "source": [
    "test = Solution()\n",
    "s1 = \"aa\"\n",
    "p1 = \"a\"\n",
    "test.isMatch(s1, p1)"
   ]
  },
  {
   "cell_type": "code",
   "execution_count": 9,
   "metadata": {},
   "outputs": [
    {
     "data": {
      "text/plain": [
       "True"
      ]
     },
     "execution_count": 9,
     "metadata": {},
     "output_type": "execute_result"
    }
   ],
   "source": [
    "s2 = \"aa\"\n",
    "p2 = \"a*\"\n",
    "test.isMatch(s2, p2)"
   ]
  },
  {
   "cell_type": "code",
   "execution_count": 10,
   "metadata": {},
   "outputs": [
    {
     "data": {
      "text/plain": [
       "True"
      ]
     },
     "execution_count": 10,
     "metadata": {},
     "output_type": "execute_result"
    }
   ],
   "source": [
    "s3 = \"ab\"\n",
    "p3 = \".*\"\n",
    "test.isMatch(s3, p3)"
   ]
  },
  {
   "cell_type": "code",
   "execution_count": 11,
   "metadata": {},
   "outputs": [
    {
     "data": {
      "text/plain": [
       "True"
      ]
     },
     "execution_count": 11,
     "metadata": {},
     "output_type": "execute_result"
    }
   ],
   "source": [
    "s4 = \"aab\"\n",
    "p4 = \"c*a*b\"\n",
    "test.isMatch(s4, p4)"
   ]
  },
  {
   "cell_type": "code",
   "execution_count": 12,
   "metadata": {},
   "outputs": [
    {
     "data": {
      "text/plain": [
       "False"
      ]
     },
     "execution_count": 12,
     "metadata": {},
     "output_type": "execute_result"
    }
   ],
   "source": [
    "s5 = \"mississippi\"\n",
    "p5 = \"mis*is*p*.\"\n",
    "test.isMatch(s5, p5)"
   ]
  },
  {
   "cell_type": "code",
   "execution_count": null,
   "metadata": {},
   "outputs": [],
   "source": [
    "给你一个字符串 s 和一个字符规律 p，请你来实现一个支持 '.' 和 '*' 的正则表达式匹配。\n",
    "\n",
    "'.' 匹配任意单个字符\n",
    "'*' 匹配零个+或多个前面的那一个元素\n",
    "\n",
    "所谓匹配，是要涵盖 整个 字符串 s的，而不是部分字符串。\n",
    "\n",
    "说明:\n",
    "\n",
    "    s 可能为空，且只包含从 a-z 的小写字母。\n",
    "    p 可能为空，且只包含从 a-z 的小写字母，以及字符 . 和 *。\n",
    "\n",
    "示例 1:\n",
    "\n",
    "输入:\n",
    "s = \"aa\"\n",
    "p = \"a\"\n",
    "输出: false\n",
    "解释: \"a\" 无法匹配 \"aa\" 整个字符串。\n",
    "\n",
    "示例 2:\n",
    "\n",
    "输入:\n",
    "s = \"aa\"\n",
    "p = \"a*\"\n",
    "输出: true\n",
    "解释: 因为 '*' 代表可以匹配零个或多个前面的那一个元素, 在这里前面的元素就是 'a'。因此，字符串 \"aa\" 可被视为 'a' 重复了一次。\n",
    "\n",
    "示例 3:\n",
    "\n",
    "输入:\n",
    "s = \"ab\"\n",
    "p = \".*\"\n",
    "输出: true\n",
    "解释: \".*\" 表示可匹配零个或多个（'*'）任意字符（'.'）。\n",
    "\n",
    "示例 4:\n",
    "\n",
    "输入:\n",
    "s = \"aab\"\n",
    "p = \"c*a*b\"\n",
    "输出: true\n",
    "解释: 因为 '*' 表示零个或多个，这里 'c' 为 0 个, 'a' 被重复一次。因此可以匹配字符串 \"aab\"。\n",
    "\n",
    "示例 5:\n",
    "\n",
    "输入:\n",
    "s = \"mississippi\"\n",
    "p = \"mis*is*p*.\"\n",
    "输出: false\n",
    "\n",
    "来源：力扣（LeetCode）\n",
    "链接：https://leetcode-cn.com/problems/regular-expression-matching\n",
    "著作权归领扣网络所有。商业转载请联系官方授权，非商业转载请注明出处。"
   ]
  },
  {
   "cell_type": "code",
   "execution_count": null,
   "metadata": {},
   "outputs": [],
   "source": []
  },
  {
   "cell_type": "code",
   "execution_count": null,
   "metadata": {},
   "outputs": [],
   "source": []
  }
 ],
 "metadata": {
  "kernelspec": {
   "display_name": "Python 3",
   "language": "python",
   "name": "python3"
  },
  "language_info": {
   "codemirror_mode": {
    "name": "ipython",
    "version": 3
   },
   "file_extension": ".py",
   "mimetype": "text/x-python",
   "name": "python",
   "nbconvert_exporter": "python",
   "pygments_lexer": "ipython3",
   "version": "3.7.0"
  }
 },
 "nbformat": 4,
 "nbformat_minor": 2
}

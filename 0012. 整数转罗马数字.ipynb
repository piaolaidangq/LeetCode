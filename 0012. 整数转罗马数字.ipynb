{
 "cells": [
  {
   "cell_type": "code",
   "execution_count": 13,
   "metadata": {},
   "outputs": [],
   "source": [
    "class Solution:\n",
    "    def intToRoman(self, num):\n",
    "        count = [1000, 900, 500, 400, 100, 90, 50, 40, 10, 9, 5, 4, 1]    \n",
    "        roman = ['M', 'CM', 'D', 'CD', 'C', 'XC', 'L', 'XL', 'X', 'IX', 'V', 'IV', 'I']   \n",
    "        res = ''\n",
    "        i = 0\n",
    "        while num:  \n",
    "            if num - count[i] >= 0:\n",
    "                num -= count[i]\n",
    "                res += roman[i]\n",
    "            else:\n",
    "                i += 1\n",
    "        return res"
   ]
  },
  {
   "cell_type": "code",
   "execution_count": 14,
   "metadata": {},
   "outputs": [
    {
     "name": "stdout",
     "output_type": "stream",
     "text": [
      "III\n",
      "IV\n",
      "IX\n",
      "LVIII\n",
      "MCMXCIV\n"
     ]
    }
   ],
   "source": [
    "test = Solution()\n",
    "num_li = [3, 4, 9, 58, 1994]\n",
    "for num in num_li:\n",
    "    print(test.intToRoman(num))"
   ]
  },
  {
   "cell_type": "markdown",
   "metadata": {},
   "source": [
    "| 输入 | 输出      |\n",
    "| ---- | --------- |\n",
    "| 3    | \"III\"     |\n",
    "| 4    | \"IV\"      |\n",
    "| 9    | \"IX\"      |\n",
    "| 58   | \"LVIII\"   |\n",
    "| 1994 | \"MCMXCIV\" |"
   ]
  },
  {
   "cell_type": "code",
   "execution_count": null,
   "metadata": {},
   "outputs": [],
   "source": []
  }
 ],
 "metadata": {
  "kernelspec": {
   "display_name": "Python 3",
   "language": "python",
   "name": "python3"
  },
  "language_info": {
   "codemirror_mode": {
    "name": "ipython",
    "version": 3
   },
   "file_extension": ".py",
   "mimetype": "text/x-python",
   "name": "python",
   "nbconvert_exporter": "python",
   "pygments_lexer": "ipython3",
   "version": "3.7.0"
  }
 },
 "nbformat": 4,
 "nbformat_minor": 2
}

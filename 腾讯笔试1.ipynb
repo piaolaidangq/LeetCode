{
 "cells": [
  {
   "cell_type": "markdown",
   "metadata": {},
   "source": [
    "### 输入：\n",
    "* 第一行表示测试用例数 t（1 <= t <= 10）\n",
    "\n",
    "### 测试用例：\n",
    "* 第一行 n，m（1 <= n，m <= 500）\n",
    "* 2 ~ n + 1 行表示 n * m 面板\n",
    "* n + 2 表示起点\n",
    "* n + 3 表示终点\n",
    "\n",
    "### 输出\n",
    "* 对每个测试用例，若能输出“Yes”，不能输出“No”"
   ]
  },
  {
   "cell_type": "code",
   "execution_count": 7,
   "metadata": {},
   "outputs": [
    {
     "name": "stdout",
     "output_type": "stream",
     "text": [
      "1\n",
      "4 6\n",
      "X...XX\n",
      "...XXX\n",
      ".X..X.\n",
      "......\n",
      "1 6\n",
      "2 2\n",
      "No\n"
     ]
    }
   ],
   "source": [
    "# 小Q“.x”问题\n",
    "next_step = [[-1, 0], [0, 1], [1, 0], [0, -1]]  # 方向      \n",
    "def bfs(grid, x, y, end_x, end_y):\n",
    "    if x == end_x and y == end_y:\n",
    "        return 'Yes'\n",
    "    queen = []\n",
    "    queen.append([x, y])\n",
    "    while queen:\n",
    "        pos = queen.pop(0)\n",
    "        for step in next_step:\n",
    "            new_x, new_y = pos[0]+step[0], pos[1]+step[1]\n",
    "            if 0 <= new_x < n and 0 <= new_y < m and grid[new_x][new_y] == '.':\n",
    "                if new_x == end_x and new_y == end_y:\n",
    "                    return 'Yes'\n",
    "                else:\n",
    "                    queen.append([new_x, new_y])\n",
    "    return 'No'\n",
    "\n",
    "t = int(input())\n",
    "for i in range(t):\n",
    "    s = str(input()).split()\n",
    "    n, m = int(s[0]) , int(s[1])\n",
    "    grid = []\n",
    "    for j in range(n):\n",
    "        grid.append(str(input()))\n",
    "    s = str(input()).split()\n",
    "    x, y = int(s[0])-1, int(s[1])-1\n",
    "    s = str(input()).split()\n",
    "    end_x, end_y = int(s[0])-1, int(s[1])-1\n",
    "    print(bfs(grid, x, y, end_x, end_y))"
   ]
  },
  {
   "cell_type": "markdown",
   "metadata": {},
   "source": [
    "### 找最小连续k个栅栏"
   ]
  },
  {
   "cell_type": "code",
   "execution_count": 19,
   "metadata": {},
   "outputs": [
    {
     "name": "stdout",
     "output_type": "stream",
     "text": [
      "7 3\n",
      "1 2 6 1 1 7 1\n",
      "3\n"
     ]
    }
   ],
   "source": [
    "# 修缮栅栏\n",
    "s = str(input()).split()\n",
    "n, k = int(s[0]) , int(s[1])\n",
    "s = str(input()).split()\n",
    "li = [int(i) for i in s]\n",
    "\n",
    "lengths = []\n",
    "for i in range(n-k+1):\n",
    "    length = 0\n",
    "    for j in range(k):\n",
    "        length += li[i+j]\n",
    "    lengths.append(length)\n",
    "\n",
    "min_pos = 0\n",
    "min_value = lengths[0]\n",
    "for i in range(n-k+1):\n",
    "    if lengths[i] < min_value:\n",
    "        min_value = lengths[i]\n",
    "        min_pos = i\n",
    "print(min_pos+1)"
   ]
  },
  {
   "cell_type": "code",
   "execution_count": null,
   "metadata": {},
   "outputs": [],
   "source": []
  }
 ],
 "metadata": {
  "kernelspec": {
   "display_name": "Python 3",
   "language": "python",
   "name": "python3"
  },
  "language_info": {
   "codemirror_mode": {
    "name": "ipython",
    "version": 3
   },
   "file_extension": ".py",
   "mimetype": "text/x-python",
   "name": "python",
   "nbconvert_exporter": "python",
   "pygments_lexer": "ipython3",
   "version": "3.7.0"
  }
 },
 "nbformat": 4,
 "nbformat_minor": 2
}

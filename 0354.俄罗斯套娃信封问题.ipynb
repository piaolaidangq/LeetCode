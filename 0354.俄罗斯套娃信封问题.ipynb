{
 "cells": [
  {
   "cell_type": "code",
   "execution_count": 15,
   "metadata": {},
   "outputs": [],
   "source": [
    "# 动态规划，思想最长递增子序列（时间复杂度O(n^2)，超时）\n",
    "class Solution:\n",
    "    def maxEnvelopes(self, envelopes):\n",
    "        if not envelopes:\n",
    "            return 0\n",
    "        envelopes.sort()\n",
    "        res_li = [1]*len(envelopes)\n",
    "        res = res_li[0]\n",
    "        for i in range(1, len(envelopes)):\n",
    "            for j in range(i):\n",
    "                if envelopes[i][0]>envelopes[j][0] and envelopes[i][1]>envelopes[j][1]:\n",
    "                    if res_li[j]+1 > res_li[i]:\n",
    "                        res_li[i] = res_li[j]+1\n",
    "            if res_li[i] > res:\n",
    "                res = res_li[i]\n",
    "        return res"
   ]
  },
  {
   "cell_type": "code",
   "execution_count": 43,
   "metadata": {},
   "outputs": [],
   "source": [
    "# 对宽递增排序，宽相同时，对高递减排序；在高维度上做LIS（最长递增子序列）\n",
    "# LIS采用二分查找解法\n",
    "class Solution:\n",
    "    def maxEnvelopes(self, envelopes):\n",
    "        if not envelopes:\n",
    "            return 0\n",
    "        envelopes.sort(key=lambda x: (x[0], -x[1]))   # 宽递增，高递减\n",
    "        # print(envelopes)\n",
    "        res_li = [[envelopes[0][1]]]                   # 耐心排序（扑克牌堆）\n",
    "        for i in range(1, len(envelopes)):            \n",
    "            if envelopes[i][1] > res_li[-1][-1]:      # 若当前值大于前一堆最小值（即无法往之前的牌堆上放，需要新创建牌堆，次数“堆”为通俗意义的堆，非数据结构的堆）\n",
    "                res_li.append([envelopes[i][1]])\n",
    "            else:                                     # 当前值小于等于前一堆最小值 ，二分查找合适的位置（即放置小于从左遍历堆顶牌的顶部） \n",
    "                left, right = 0, len(res_li)-1\n",
    "                while left < right:\n",
    "                    mid = (left+right)//2\n",
    "                    if envelopes[i][1] <= res_li[mid][-1]:\n",
    "                        right = mid\n",
    "                    else:\n",
    "                        left = mid+1\n",
    "                res_li[left].append(envelopes[i][1])\n",
    "        # print(res_li)\n",
    "        return len(res_li)"
   ]
  },
  {
   "cell_type": "code",
   "execution_count": 44,
   "metadata": {},
   "outputs": [
    {
     "data": {
      "text/plain": [
       "3"
      ]
     },
     "execution_count": 44,
     "metadata": {},
     "output_type": "execute_result"
    }
   ],
   "source": [
    "test = Solution()\n",
    "envelopes = [[5,4],[6,4],[6,7],[2,3]]\n",
    "test.maxEnvelopes(envelopes)"
   ]
  },
  {
   "cell_type": "markdown",
   "metadata": {},
   "source": [
    "输入: envelopes = [[5,4],[6,4],[6,7],[2,3]]\n",
    "    \n",
    "输出: 3 \n",
    "    \n",
    "解释: 最多信封的个数为 3, 组合为: [2,3] => [5,4] => [6,7]。"
   ]
  },
  {
   "cell_type": "markdown",
   "metadata": {},
   "source": [
    "### 列表排序，第一维升序，第二维降序"
   ]
  },
  {
   "cell_type": "code",
   "execution_count": 45,
   "metadata": {},
   "outputs": [
    {
     "data": {
      "text/plain": [
       "[[1, 2], [3, 6], [3, 2], [3, 1], [4, 5], [4, 3]]"
      ]
     },
     "execution_count": 45,
     "metadata": {},
     "output_type": "execute_result"
    }
   ],
   "source": [
    "li1 = [[1,2],[4,5],[3,2],[4,3],[3,6],[3,1]]\n",
    "li1.sort(key=lambda x: (x[0], -x[1]))\n",
    "li1"
   ]
  },
  {
   "cell_type": "code",
   "execution_count": null,
   "metadata": {},
   "outputs": [],
   "source": []
  }
 ],
 "metadata": {
  "kernelspec": {
   "display_name": "Python 3",
   "language": "python",
   "name": "python3"
  },
  "language_info": {
   "codemirror_mode": {
    "name": "ipython",
    "version": 3
   },
   "file_extension": ".py",
   "mimetype": "text/x-python",
   "name": "python",
   "nbconvert_exporter": "python",
   "pygments_lexer": "ipython3",
   "version": "3.7.0"
  }
 },
 "nbformat": 4,
 "nbformat_minor": 2
}

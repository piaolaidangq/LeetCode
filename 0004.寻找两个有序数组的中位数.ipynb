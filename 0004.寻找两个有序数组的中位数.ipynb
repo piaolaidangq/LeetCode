{
 "cells": [
  {
   "cell_type": "markdown",
   "metadata": {},
   "source": [
    "### 双指针，遍历至中位数位置"
   ]
  },
  {
   "cell_type": "code",
   "execution_count": 13,
   "metadata": {},
   "outputs": [],
   "source": [
    "class Solution:\n",
    "    def findMedianSortedArrays(self, nums1, nums2):\n",
    "        n1, n2 = len(nums1), len(nums2)\n",
    "        i, j, k = 0, 0, 0\n",
    "        if n1 != 0 and n2 != 0:\n",
    "            if nums1[i] < nums2[j]:\n",
    "                pos_num = nums1[i]\n",
    "                i += 1\n",
    "            else:\n",
    "                pos_num = nums2[j]\n",
    "                j += 1\n",
    "        elif n1 != 0:\n",
    "            pos_num = nums1[i]\n",
    "            i += 1\n",
    "        else:\n",
    "            pos_num = nums2[j]\n",
    "            j += 1\n",
    "        while k != (n1 + n2) // 2: \n",
    "            pre_num = pos_num\n",
    "            if i == n1:\n",
    "                pos_num = nums2[j]\n",
    "                j += 1\n",
    "            elif j == n2:\n",
    "                pos_num = nums1[i]\n",
    "                i += 1\n",
    "            elif nums1[i] < nums2[j]:\n",
    "                pos_num = nums1[i]\n",
    "                i += 1        \n",
    "            else:\n",
    "                pos_num = nums2[j]\n",
    "                j += 1\n",
    "            k += 1\n",
    "        if (n1 + n2) % 2:\n",
    "            return pos_num\n",
    "        else:\n",
    "            return (pre_num + pos_num) / 2"
   ]
  },
  {
   "cell_type": "markdown",
   "metadata": {},
   "source": [
    "### 构建有序总列表"
   ]
  },
  {
   "cell_type": "code",
   "execution_count": 57,
   "metadata": {},
   "outputs": [],
   "source": [
    "class Solution:\n",
    "    def findMedianSortedArrays(self, nums1, nums2):\n",
    "        n1 = len(nums1)\n",
    "        n2 = len(nums2)\n",
    "        i, j = 0, 0\n",
    "        alist = []\n",
    "        while i<n1 and j<n2:\n",
    "            if nums1[i] <= nums2[j]:\n",
    "                alist.append(nums1[i])\n",
    "                i += 1\n",
    "            else:\n",
    "                alist.append(nums2[j])\n",
    "                j += 1\n",
    "        if i<n1:\n",
    "            alist.extend(nums1[i:])\n",
    "        if j<n2:\n",
    "            alist.extend(nums2[j:])\n",
    "        len_al = len(alist)\n",
    "        if len_al%2 == 0:\n",
    "            return (alist[len_al//2-1]+alist[len_al//2])/2\n",
    "        else:\n",
    "            return alist[len_al//2]"
   ]
  },
  {
   "cell_type": "markdown",
   "metadata": {},
   "source": [
    "### 利用列表组合并排序"
   ]
  },
  {
   "cell_type": "code",
   "execution_count": 54,
   "metadata": {},
   "outputs": [],
   "source": [
    "class Solution:\n",
    "    def findMedianSortedArrays(self, nums1, nums2):\n",
    "        nums = sorted(nums1 + nums2)\n",
    "        n2 = len(nums) // 2\n",
    "        if len(nums) % 2 == 0:\n",
    "            return (nums[n2 -1] + nums[n2]) / 2\n",
    "        else:\n",
    "            return nums[n2]"
   ]
  },
  {
   "cell_type": "code",
   "execution_count": 58,
   "metadata": {},
   "outputs": [
    {
     "name": "stdout",
     "output_type": "stream",
     "text": [
      "2\n",
      "2.5\n",
      "2.5\n"
     ]
    }
   ],
   "source": [
    "test = Solution()\n",
    "nums1_li = [[1, 3], [1, 2], []]\n",
    "nums2_li = [[2], [3, 4], [2,3]]\n",
    "for nums1, nums2 in zip(nums1_li, nums2_li):\n",
    "    print(test.findMedianSortedArrays(nums1, nums2))"
   ]
  },
  {
   "cell_type": "markdown",
   "metadata": {},
   "source": [
    "2.0 2.5"
   ]
  },
  {
   "cell_type": "markdown",
   "metadata": {},
   "source": [
    "### 第二次（要求时间复杂度O(long)）"
   ]
  },
  {
   "cell_type": "code",
   "execution_count": 5,
   "metadata": {},
   "outputs": [],
   "source": [
    "class Solution:\n",
    "    def findMedianSortedArrays(self, nums1, nums2):\n",
    "        # 使 num1 为更短的列表，搜索更快\n",
    "        if len(nums1) > len(nums2):\n",
    "            nums1, nums2 = nums2, nums1\n",
    "        m, n = len(nums1), len(nums2)\n",
    "        \n",
    "        left_total = (m+n+1)//2    # 左边总共需要的元素个数\n",
    "        \n",
    "        # 二分查找 nums1 的划分边界 i\n",
    "        left, right = 0, m\n",
    "        while left < right:\n",
    "            i = (left+right)//2     # 确定nums1左序列个数\n",
    "            j = left_total-i        # 则可确定nums2左序列个数  \n",
    "            \n",
    "            # 若nums2左序列的最大值大于nums1右序列的最小值，则往右区域查找，否则往左区域查找\n",
    "            if nums2[j-1] > nums1[i]:\n",
    "                left = i+1\n",
    "            else:\n",
    "                right = i\n",
    "        i, j = left, left_total-left  # 确定划分边界 i，j\n",
    "        \n",
    "        # 边界控制\n",
    "        nums1_left_max = float('-inf') if i==0 else nums1[i-1]\n",
    "        nums2_left_max = float('-inf') if j==0 else nums2[j-1]\n",
    "        nums1_right_min = float('inf') if i==m else nums1[i]\n",
    "        nums2_right_min = float('inf') if j==n else nums2[j]\n",
    "        \n",
    "        if (m+n)%2 == 0:\n",
    "            return (max(nums1_left_max, nums2_left_max)+min(nums1_right_min,nums2_right_min))/2\n",
    "        else:\n",
    "            return max(nums1_left_max, nums2_left_max)"
   ]
  },
  {
   "cell_type": "code",
   "execution_count": 6,
   "metadata": {},
   "outputs": [
    {
     "name": "stdout",
     "output_type": "stream",
     "text": [
      "2\n",
      "2.5\n",
      "0.0\n"
     ]
    }
   ],
   "source": [
    "test = Solution()\n",
    "nums1_li = [[1, 3], [1, 2], [0,0]]\n",
    "nums2_li = [[2], [3, 4], [0,0]]\n",
    "for nums1, nums2 in zip(nums1_li, nums2_li):\n",
    "    print(test.findMedianSortedArrays(nums1, nums2))"
   ]
  },
  {
   "cell_type": "code",
   "execution_count": null,
   "metadata": {},
   "outputs": [],
   "source": []
  },
  {
   "cell_type": "code",
   "execution_count": null,
   "metadata": {},
   "outputs": [],
   "source": []
  },
  {
   "cell_type": "code",
   "execution_count": null,
   "metadata": {},
   "outputs": [],
   "source": []
  }
 ],
 "metadata": {
  "kernelspec": {
   "display_name": "Python 3",
   "language": "python",
   "name": "python3"
  },
  "language_info": {
   "codemirror_mode": {
    "name": "ipython",
    "version": 3
   },
   "file_extension": ".py",
   "mimetype": "text/x-python",
   "name": "python",
   "nbconvert_exporter": "python",
   "pygments_lexer": "ipython3",
   "version": "3.7.0"
  }
 },
 "nbformat": 4,
 "nbformat_minor": 2
}

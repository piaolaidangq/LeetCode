{
 "cells": [
  {
   "cell_type": "code",
   "execution_count": 7,
   "metadata": {},
   "outputs": [],
   "source": [
    "class Solution:\n",
    "    def minimumTotal(self, triangle):\n",
    "        if not triangle:\n",
    "            return None\n",
    "        \n",
    "        row = len(triangle)\n",
    "        i, j = 0, 1\n",
    "        while j < row:\n",
    "            for cur in range(len(triangle[j])):\n",
    "                if cur == 0:\n",
    "                    triangle[j][cur] += triangle[i][cur]\n",
    "                elif cur == len(triangle[j])-1:\n",
    "                    triangle[j][cur] += triangle[i][cur-1]\n",
    "                else:\n",
    "                    triangle[j][cur] += min(triangle[i][cur-1], triangle[i][cur])\n",
    "            i += 1\n",
    "            j += 1\n",
    "        return  min(triangle[row-1])"
   ]
  },
  {
   "cell_type": "code",
   "execution_count": 8,
   "metadata": {},
   "outputs": [
    {
     "data": {
      "text/plain": [
       "11"
      ]
     },
     "execution_count": 8,
     "metadata": {},
     "output_type": "execute_result"
    }
   ],
   "source": [
    "test = Solution()\n",
    "triangle = [[2],[3,4],[6,5,7],[4,1,8,3]]\n",
    "test.minimumTotal(triangle)"
   ]
  },
  {
   "cell_type": "markdown",
   "metadata": {},
   "source": [
    "给定三角形：\n",
    "\n",
    "[\n",
    "\n",
    "​ ​  ​ ​  [2],\n",
    "\n",
    "​ ​ ​  [3,4],\n",
    "\n",
    "​  [6,5,7],\n",
    "\n",
    "[4,1,8,3]\n",
    "\n",
    "]\n",
    "\n",
    "\n",
    "\n",
    "自顶向下的最小路径和为 11（即，2 + 3 + 5 + 1 = 11）。"
   ]
  },
  {
   "cell_type": "code",
   "execution_count": null,
   "metadata": {},
   "outputs": [],
   "source": [
    "\n"
   ]
  }
 ],
 "metadata": {
  "kernelspec": {
   "display_name": "Python 3",
   "language": "python",
   "name": "python3"
  },
  "language_info": {
   "codemirror_mode": {
    "name": "ipython",
    "version": 3
   },
   "file_extension": ".py",
   "mimetype": "text/x-python",
   "name": "python",
   "nbconvert_exporter": "python",
   "pygments_lexer": "ipython3",
   "version": "3.7.0"
  }
 },
 "nbformat": 4,
 "nbformat_minor": 2
}
